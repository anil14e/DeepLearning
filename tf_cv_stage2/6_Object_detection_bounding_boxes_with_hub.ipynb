{
 "cells": [
  {
   "cell_type": "code",
   "execution_count": 1,
   "metadata": {},
   "outputs": [
    {
     "name": "stdout",
     "output_type": "stream",
     "text": [
      "2.10.0\n",
      "The following GPU devices are available: /device:GPU:0\n"
     ]
    }
   ],
   "source": [
    "# For running inference on the TF-Hub module.\n",
    "import tensorflow as tf\n",
    "\n",
    "import tensorflow_hub as hub\n",
    "\n",
    "# For downloading the image.\n",
    "import matplotlib.pyplot as plt\n",
    "import tempfile\n",
    "from six.moves.urllib.request import urlopen\n",
    "from six import BytesIO\n",
    "\n",
    "# For drawing onto the image.\n",
    "import numpy as np\n",
    "from PIL import Image\n",
    "from PIL import ImageColor\n",
    "from PIL import ImageDraw\n",
    "from PIL import ImageFont\n",
    "from PIL import ImageOps\n",
    "\n",
    "# For measuring the inference time.\n",
    "import time\n",
    "\n",
    "# Print Tensorflow version\n",
    "print(tf.__version__)\n",
    "\n",
    "# Check available GPU devices.\n",
    "print(\"The following GPU devices are available: %s\" % tf.test.gpu_device_name())"
   ]
  },
  {
   "cell_type": "code",
   "execution_count": 2,
   "metadata": {},
   "outputs": [],
   "source": [
    "module_handle = \"https://tfhub.dev/google/faster_rcnn/openimages_v4/inception_resnet_v2/1\""
   ]
  },
  {
   "cell_type": "code",
   "execution_count": 3,
   "metadata": {},
   "outputs": [
    {
     "name": "stdout",
     "output_type": "stream",
     "text": [
      "INFO:tensorflow:Saver not created because there are no variables in the graph to restore\n"
     ]
    },
    {
     "name": "stderr",
     "output_type": "stream",
     "text": [
      "INFO:tensorflow:Saver not created because there are no variables in the graph to restore\n"
     ]
    }
   ],
   "source": [
    "model = hub.load(module_handle)"
   ]
  },
  {
   "cell_type": "code",
   "execution_count": 4,
   "metadata": {},
   "outputs": [
    {
     "data": {
      "text/plain": [
       "KeysView(_SignatureMap({'default': <ConcreteFunction pruned(images) at 0x7FAF9C2B4310>}))"
      ]
     },
     "execution_count": 4,
     "metadata": {},
     "output_type": "execute_result"
    }
   ],
   "source": [
    "model.signatures.keys()"
   ]
  },
  {
   "cell_type": "code",
   "execution_count": 5,
   "metadata": {},
   "outputs": [],
   "source": [
    "detector = model.signatures['default']"
   ]
  },
  {
   "cell_type": "code",
   "execution_count": 6,
   "metadata": {},
   "outputs": [],
   "source": [
    "def display_image(image):\n",
    "    \"\"\"\n",
    "    Displays an image inside the notebook.\n",
    "    This is used by download_and_resize_image()\n",
    "    \"\"\"\n",
    "    fig = plt.figure(figsize=(20, 15))\n",
    "    plt.grid(False)\n",
    "    plt.imshow(image)\n",
    "\n",
    "\n",
    "def download_and_resize_image(url, new_width=256, new_height=256, display=False):\n",
    "    '''\n",
    "    Fetches an image online, resizes it and saves it locally.\n",
    "    \n",
    "    Args:\n",
    "        url (string) -- link to the image\n",
    "        new_width (int) -- size in pixels used for resizing the width of the image\n",
    "        new_height (int) -- size in pixels used for resizing the length of the image\n",
    "        \n",
    "    Returns:\n",
    "        (string) -- path to the saved image\n",
    "    '''\n",
    "    \n",
    "    \n",
    "    # create a temporary file ending with \".jpg\"\n",
    "    _, filename = tempfile.mkstemp(suffix=\".jpg\")\n",
    "    \n",
    "    # opens the given URL\n",
    "    response = urlopen(url)\n",
    "    \n",
    "    # reads the image fetched from the URL\n",
    "    image_data = response.read()\n",
    "    \n",
    "    # puts the image data in memory buffer\n",
    "    image_data = BytesIO(image_data)\n",
    "    \n",
    "    # opens the image\n",
    "    pil_image = Image.open(image_data)\n",
    "    \n",
    "    # resizes the image. will crop if aspect ratio is different.\n",
    "    pil_image = ImageOps.fit(pil_image, (new_width, new_height), Image.ANTIALIAS)\n",
    "    \n",
    "    # converts to the RGB colorspace\n",
    "    pil_image_rgb = pil_image.convert(\"RGB\")\n",
    "    \n",
    "    # saves the image to the temporary file created earlier\n",
    "    pil_image_rgb.save(filename, format=\"JPEG\", quality=90)\n",
    "    \n",
    "    print(\"Image downloaded to %s.\" % filename)\n",
    "    \n",
    "    if display:\n",
    "        display_image(pil_image)\n",
    "\n",
    "    \n",
    "    return filename"
   ]
  },
  {
   "cell_type": "code",
   "execution_count": 7,
   "metadata": {},
   "outputs": [
    {
     "name": "stderr",
     "output_type": "stream",
     "text": [
      "<ipython-input-6-c3250b14b950>:41: DeprecationWarning: ANTIALIAS is deprecated and will be removed in Pillow 10 (2023-07-01). Use Resampling.LANCZOS instead.\n",
      "  pil_image = ImageOps.fit(pil_image, (new_width, new_height), Image.ANTIALIAS)\n"
     ]
    },
    {
     "name": "stdout",
     "output_type": "stream",
     "text": [
      "Image downloaded to /tmp/tmprpmnv_kh.jpg.\n"
     ]
    }
   ],
   "source": [
    "image_url = \"https://upload.wikimedia.org/wikipedia/commons/6/60/Naxos_Taverna.jpg\"  #@param\n",
    "downloaded_image_path = download_and_resize_image(image_url, 1280, 856, True)"
   ]
  },
  {
   "cell_type": "code",
   "execution_count": 8,
   "metadata": {},
   "outputs": [],
   "source": [
    "def draw_bounding_box_on_image(image,\n",
    "                               ymin,\n",
    "                               xmin,\n",
    "                               ymax,\n",
    "                               xmax,\n",
    "                               color,\n",
    "                               font,\n",
    "                               thickness=4,\n",
    "                               display_str_list=()):\n",
    "\n",
    "    \"\"\"\n",
    "    Adds a bounding box to an image.\n",
    "    \n",
    "    Args:\n",
    "        image -- the image object\n",
    "        ymin -- bounding box coordinate\n",
    "        xmin -- bounding box coordinate\n",
    "        ymax -- bounding box coordinate\n",
    "        xmax -- bounding box coordinate\n",
    "        color -- color for the bounding box edges\n",
    "        font -- font for class label\n",
    "        thickness -- edge thickness of the bounding box\n",
    "        display_str_list -- class labels for each object detected\n",
    "    \n",
    "    \n",
    "    Returns:\n",
    "        No return.  The function modifies the `image` argument \n",
    "                    that gets passed into this function\n",
    "    \n",
    "    \"\"\"\n",
    "    draw = ImageDraw.Draw(image)\n",
    "    im_width, im_height = image.size\n",
    "    \n",
    "    # scale the bounding box coordinates to the height and width of the image\n",
    "    (left, right, top, bottom) = (xmin * im_width, xmax * im_width,\n",
    "                                ymin * im_height, ymax * im_height)\n",
    "    \n",
    "    # define the four edges of the detection box\n",
    "    draw.line([(left, top), (left, bottom), (right, bottom), (right, top),\n",
    "             (left, top)],\n",
    "            width=thickness,\n",
    "            fill=color)\n",
    "\n",
    "    # If the total height of the display strings added to the top of the bounding\n",
    "    # box exceeds the top of the image, stack the strings below the bounding box\n",
    "    # instead of above.\n",
    "    display_str_heights = [font.getsize(ds)[1] for ds in display_str_list]\n",
    "    # Each display_str has a top and bottom margin of 0.05x.\n",
    "    total_display_str_height = (1 + 2 * 0.05) * sum(display_str_heights)\n",
    "\n",
    "    if top > total_display_str_height:\n",
    "        text_bottom = top\n",
    "    else:\n",
    "        text_bottom = top + total_display_str_height\n",
    "        \n",
    "    # Reverse list and print from bottom to top.\n",
    "    for display_str in display_str_list[::-1]:\n",
    "        text_width, text_height = font.getsize(display_str)\n",
    "        margin = np.ceil(0.05 * text_height)\n",
    "        draw.rectangle([(left, text_bottom - text_height - 2 * margin),\n",
    "                        (left + text_width, text_bottom)],\n",
    "                       fill=color)\n",
    "        draw.text((left + margin, text_bottom - text_height - margin),\n",
    "                  display_str,\n",
    "                  fill=\"black\",\n",
    "                  font=font)\n",
    "        text_bottom -= text_height - 2 * margin\n",
    "\n",
    "\n",
    "def draw_boxes(image, boxes, class_names, scores, max_boxes=10, min_score=0.1):\n",
    "    \"\"\"\n",
    "    Overlay labeled boxes on an image with formatted scores and label names.\n",
    "    \n",
    "    Args:\n",
    "        image -- the image as a numpy array\n",
    "        boxes -- list of detection boxes\n",
    "        class_names -- list of classes for each detected object\n",
    "        scores -- numbers showing the model's confidence in detecting that object\n",
    "        max_boxes -- maximum detection boxes to overlay on the image (default is 10)\n",
    "        min_score -- minimum score required to display a bounding box\n",
    "    \n",
    "    Returns:\n",
    "        image -- the image after detection boxes and classes are overlaid on the original image.\n",
    "    \"\"\"\n",
    "    colors = list(ImageColor.colormap.values())\n",
    "\n",
    "    try:\n",
    "        font = ImageFont.truetype(\"/usr/share/fonts/truetype/liberation/LiberationSansNarrow-Regular.ttf\",\n",
    "                              25)\n",
    "    except IOError:\n",
    "        print(\"Font not found, using default font.\")\n",
    "        font = ImageFont.load_default()\n",
    "\n",
    "    for i in range(min(boxes.shape[0], max_boxes)):\n",
    "        \n",
    "        # only display detection boxes that have the minimum score or higher\n",
    "        if scores[i] >= min_score:\n",
    "            ymin, xmin, ymax, xmax = tuple(boxes[i])\n",
    "            display_str = \"{}: {}%\".format(class_names[i].decode(\"ascii\"),\n",
    "                                         int(100 * scores[i]))\n",
    "            color = colors[hash(class_names[i]) % len(colors)]\n",
    "            image_pil = Image.fromarray(np.uint8(image)).convert(\"RGB\")\n",
    "\n",
    "            # draw one bounding box and overlay the class labels onto the image\n",
    "            draw_bounding_box_on_image(image_pil,\n",
    "                                       ymin,\n",
    "                                       xmin,\n",
    "                                       ymax,\n",
    "                                       xmax,\n",
    "                                       color,\n",
    "                                       font,\n",
    "                                       display_str_list=[display_str])\n",
    "            np.copyto(image, np.array(image_pil))\n",
    "        \n",
    "    return image"
   ]
  },
  {
   "cell_type": "code",
   "execution_count": 9,
   "metadata": {},
   "outputs": [],
   "source": [
    "def load_img(path):\n",
    "    '''\n",
    "    Loads a JPEG image and converts it to a tensor.\n",
    "    \n",
    "    Args:\n",
    "        path (string) -- path to a locally saved JPEG image\n",
    "    \n",
    "    Returns:\n",
    "        (tensor) -- an image tensor\n",
    "    '''\n",
    "    \n",
    "    # read the file\n",
    "    img = tf.io.read_file(path)\n",
    "    \n",
    "    # convert to a tensor\n",
    "    img = tf.image.decode_jpeg(img, channels=3)\n",
    "    \n",
    "    return img\n",
    "\n",
    "\n",
    "def run_detector(detector, path):\n",
    "    '''\n",
    "    Runs inference on a local file using an object detection model.\n",
    "    \n",
    "    Args:\n",
    "        detector (model) -- an object detection model loaded from TF Hub\n",
    "        path (string) -- path to an image saved locally\n",
    "    '''\n",
    "    \n",
    "    # load an image tensor from a local file path\n",
    "    img = load_img(path)\n",
    "\n",
    "    # add a batch dimension in front of the tensor\n",
    "    converted_img  = tf.image.convert_image_dtype(img, tf.float32)[tf.newaxis, ...]\n",
    "    \n",
    "    # run inference using the model\n",
    "    start_time = time.time()\n",
    "    result = detector(converted_img)\n",
    "    end_time = time.time()\n",
    "\n",
    "    # save the results in a dictionary\n",
    "    result = {key:value.numpy() for key,value in result.items()}\n",
    "\n",
    "    # print results\n",
    "    print(\"Found %d objects.\" % len(result[\"detection_scores\"]))\n",
    "    print(\"Inference time: \", end_time-start_time)\n",
    "\n",
    "    # draw predicted boxes over the image\n",
    "    image_with_boxes = draw_boxes(\n",
    "      img.numpy(), result[\"detection_boxes\"],\n",
    "      result[\"detection_class_entities\"], result[\"detection_scores\"])\n",
    "\n",
    "    # display the image\n",
    "    display_image(image_with_boxes)"
   ]
  },
  {
   "cell_type": "code",
   "execution_count": 10,
   "metadata": {},
   "outputs": [
    {
     "name": "stdout",
     "output_type": "stream",
     "text": [
      "Found 100 objects.\n",
      "Inference time:  220.63071608543396\n",
      "Font not found, using default font.\n"
     ]
    },
    {
     "name": "stderr",
     "output_type": "stream",
     "text": [
      "<ipython-input-8-6574ca3f1bb6>:47: DeprecationWarning: getsize is deprecated and will be removed in Pillow 10 (2023-07-01). Use getbbox or getlength instead.\n",
      "  display_str_heights = [font.getsize(ds)[1] for ds in display_str_list]\n",
      "<ipython-input-8-6574ca3f1bb6>:58: DeprecationWarning: getsize is deprecated and will be removed in Pillow 10 (2023-07-01). Use getbbox or getlength instead.\n",
      "  text_width, text_height = font.getsize(display_str)\n"
     ]
    }
   ],
   "source": [
    "run_detector(detector, downloaded_image_path)"
   ]
  },
  {
   "cell_type": "code",
   "execution_count": 12,
   "metadata": {},
   "outputs": [],
   "source": [
    "image_urls = [\n",
    "  # Source: https://commons.wikimedia.org/wiki/File:The_Coleoptera_of_the_British_islands_(Plate_125)_(8592917784).jpg\n",
    "  \"https://upload.wikimedia.org/wikipedia/commons/1/1b/The_Coleoptera_of_the_British_islands_%28Plate_125%29_%288592917784%29.jpg\",\n",
    "  # By Américo Toledano, Source: https://commons.wikimedia.org/wiki/File:Biblioteca_Maim%C3%B3nides,_Campus_Universitario_de_Rabanales_007.jpg\n",
    "  \"https://upload.wikimedia.org/wikipedia/commons/thumb/0/0d/Biblioteca_Maim%C3%B3nides%2C_Campus_Universitario_de_Rabanales_007.jpg/1024px-Biblioteca_Maim%C3%B3nides%2C_Campus_Universitario_de_Rabanales_007.jpg\",\n",
    "  # Source: https://commons.wikimedia.org/wiki/File:The_smaller_British_birds_(8053836633).jpg\n",
    "  \"https://upload.wikimedia.org/wikipedia/commons/0/09/The_smaller_British_birds_%288053836633%29.jpg\",\n",
    "  ]\n",
    "\n",
    "def detect_img(image_url):\n",
    "    start_time = time.time()\n",
    "    image_path = download_and_resize_image(image_url, 640, 480)\n",
    "    run_detector(detector, image_path)\n",
    "    end_time = time.time()\n",
    "    print(\"Inference time:\",end_time-start_time)\n",
    "    "
   ]
  },
  {
   "cell_type": "code",
   "execution_count": 13,
   "metadata": {},
   "outputs": [
    {
     "name": "stderr",
     "output_type": "stream",
     "text": [
      "<ipython-input-6-c3250b14b950>:41: DeprecationWarning: ANTIALIAS is deprecated and will be removed in Pillow 10 (2023-07-01). Use Resampling.LANCZOS instead.\n",
      "  pil_image = ImageOps.fit(pil_image, (new_width, new_height), Image.ANTIALIAS)\n"
     ]
    },
    {
     "name": "stdout",
     "output_type": "stream",
     "text": [
      "Image downloaded to /tmp/tmpdu9vjg4h.jpg.\n",
      "Found 100 objects.\n",
      "Inference time:  1.7982475757598877\n",
      "Font not found, using default font.\n",
      "Inference time: 2.1792125701904297\n"
     ]
    },
    {
     "name": "stderr",
     "output_type": "stream",
     "text": [
      "<ipython-input-8-6574ca3f1bb6>:47: DeprecationWarning: getsize is deprecated and will be removed in Pillow 10 (2023-07-01). Use getbbox or getlength instead.\n",
      "  display_str_heights = [font.getsize(ds)[1] for ds in display_str_list]\n",
      "<ipython-input-8-6574ca3f1bb6>:58: DeprecationWarning: getsize is deprecated and will be removed in Pillow 10 (2023-07-01). Use getbbox or getlength instead.\n",
      "  text_width, text_height = font.getsize(display_str)\n"
     ]
    }
   ],
   "source": [
    "detect_img(image_urls[0])"
   ]
  },
  {
   "cell_type": "code",
   "execution_count": 14,
   "metadata": {},
   "outputs": [
    {
     "name": "stderr",
     "output_type": "stream",
     "text": [
      "<ipython-input-6-c3250b14b950>:41: DeprecationWarning: ANTIALIAS is deprecated and will be removed in Pillow 10 (2023-07-01). Use Resampling.LANCZOS instead.\n",
      "  pil_image = ImageOps.fit(pil_image, (new_width, new_height), Image.ANTIALIAS)\n"
     ]
    },
    {
     "name": "stdout",
     "output_type": "stream",
     "text": [
      "Image downloaded to /tmp/tmp_xioxiix.jpg.\n",
      "Found 100 objects.\n",
      "Inference time:  1.6508641242980957\n",
      "Font not found, using default font.\n",
      "Inference time: 1.8303167819976807\n"
     ]
    },
    {
     "name": "stderr",
     "output_type": "stream",
     "text": [
      "<ipython-input-8-6574ca3f1bb6>:47: DeprecationWarning: getsize is deprecated and will be removed in Pillow 10 (2023-07-01). Use getbbox or getlength instead.\n",
      "  display_str_heights = [font.getsize(ds)[1] for ds in display_str_list]\n",
      "<ipython-input-8-6574ca3f1bb6>:58: DeprecationWarning: getsize is deprecated and will be removed in Pillow 10 (2023-07-01). Use getbbox or getlength instead.\n",
      "  text_width, text_height = font.getsize(display_str)\n"
     ]
    }
   ],
   "source": [
    "detect_img(image_urls[1])"
   ]
  },
  {
   "cell_type": "code",
   "execution_count": null,
   "metadata": {},
   "outputs": [],
   "source": []
  },
  {
   "cell_type": "code",
   "execution_count": null,
   "metadata": {},
   "outputs": [],
   "source": []
  }
 ],
 "metadata": {
  "kernelspec": {
   "display_name": "Python 3",
   "language": "python",
   "name": "python3"
  },
  "language_info": {
   "codemirror_mode": {
    "name": "ipython",
    "version": 3
   },
   "file_extension": ".py",
   "mimetype": "text/x-python",
   "name": "python",
   "nbconvert_exporter": "python",
   "pygments_lexer": "ipython3",
   "version": "3.8.10"
  }
 },
 "nbformat": 4,
 "nbformat_minor": 2
}
