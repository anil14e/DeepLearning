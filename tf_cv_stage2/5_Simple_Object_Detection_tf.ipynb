{
 "cells": [
  {
   "cell_type": "code",
   "execution_count": 1,
   "metadata": {},
   "outputs": [
    {
     "name": "stdout",
     "output_type": "stream",
     "text": [
      "Requirement already up-to-date: tensorflow-hub in /usr/local/lib/python3.8/dist-packages (0.12.0)\n",
      "Requirement already satisfied, skipping upgrade: numpy>=1.12.0 in /usr/local/lib/python3.8/dist-packages (from tensorflow-hub) (1.23.2)\n",
      "Requirement already satisfied, skipping upgrade: protobuf>=3.8.0 in /usr/local/lib/python3.8/dist-packages (from tensorflow-hub) (3.19.4)\n",
      "\u001b[33mWARNING: You are using pip version 20.2.4; however, version 22.2.2 is available.\n",
      "You should consider upgrading via the '/usr/bin/python3 -m pip install --upgrade pip' command.\u001b[0m\n",
      "Note: you may need to restart the kernel to use updated packages.\n"
     ]
    }
   ],
   "source": [
    "pip install --upgrade tensorflow-hub"
   ]
  },
  {
   "cell_type": "code",
   "execution_count": 2,
   "metadata": {},
   "outputs": [],
   "source": [
    "import tensorflow as tf\n",
    "import tensorflow_hub as hub\n",
    "from PIL import Image\n",
    "from PIL import ImageOps\n",
    "import tempfile\n",
    "from six.moves.urllib.request import urlopen\n",
    "from six import BytesIO"
   ]
  },
  {
   "cell_type": "code",
   "execution_count": 3,
   "metadata": {},
   "outputs": [],
   "source": [
    "# inception resnet version 2\n",
    "module_handle = \"https://tfhub.dev/google/faster_rcnn/openimages_v4/inception_resnet_v2/1\""
   ]
  },
  {
   "cell_type": "code",
   "execution_count": 4,
   "metadata": {},
   "outputs": [
    {
     "name": "stdout",
     "output_type": "stream",
     "text": [
      "INFO:tensorflow:Saver not created because there are no variables in the graph to restore\n"
     ]
    },
    {
     "name": "stderr",
     "output_type": "stream",
     "text": [
      "INFO:tensorflow:Saver not created because there are no variables in the graph to restore\n"
     ]
    }
   ],
   "source": [
    "model = hub.load(module_handle)"
   ]
  },
  {
   "cell_type": "code",
   "execution_count": 5,
   "metadata": {},
   "outputs": [
    {
     "data": {
      "text/plain": [
       "KeysView(_SignatureMap({'default': <ConcreteFunction pruned(images) at 0x7FA7D83DA850>}))"
      ]
     },
     "execution_count": 5,
     "metadata": {},
     "output_type": "execute_result"
    }
   ],
   "source": [
    "model.signatures.keys()"
   ]
  },
  {
   "cell_type": "code",
   "execution_count": 6,
   "metadata": {},
   "outputs": [],
   "source": [
    "detector = model.signatures['default']"
   ]
  },
  {
   "cell_type": "code",
   "execution_count": 7,
   "metadata": {},
   "outputs": [],
   "source": [
    "def download_and_resize_image(url, new_width=256, new_height=256):\n",
    "    '''\n",
    "    Fetches an image online, resizes it and saves it locally.\n",
    "    \n",
    "    Args:\n",
    "        url (string) -- link to the image\n",
    "        new_width (int) -- size in pixels used for resizing the width of the image\n",
    "        new_height (int) -- size in pixels used for resizing the length of the image\n",
    "        \n",
    "    Returns:\n",
    "        (string) -- path to the saved image\n",
    "    '''\n",
    "    \n",
    "    \n",
    "    # create a temporary file ending with \".jpg\"\n",
    "    _, filename = tempfile.mkstemp(suffix=\".jpg\")\n",
    "    \n",
    "    # opens the given URL\n",
    "    response = urlopen(url)\n",
    "    \n",
    "    # reads the image fetched from the URL\n",
    "    image_data = response.read()\n",
    "    \n",
    "    # puts the image data in memory buffer\n",
    "    image_data = BytesIO(image_data)\n",
    "    \n",
    "    # opens the image\n",
    "    pil_image = Image.open(image_data)\n",
    "    \n",
    "    # resizes the image. will crop if aspect ratio is different.\n",
    "    pil_image = ImageOps.fit(pil_image, (new_width, new_height), Image.ANTIALIAS)\n",
    "    \n",
    "    # converts to the RGB colorspace\n",
    "    pil_image_rgb = pil_image.convert(\"RGB\")\n",
    "    \n",
    "    # saves the image to the temporary file created earlier\n",
    "    pil_image_rgb.save(filename, format=\"JPEG\", quality=90)\n",
    "    \n",
    "    print(\"Image downloaded to %s.\" % filename)\n",
    "    \n",
    "    return filename"
   ]
  },
  {
   "cell_type": "code",
   "execution_count": 8,
   "metadata": {},
   "outputs": [
    {
     "name": "stdout",
     "output_type": "stream",
     "text": [
      "Image downloaded to /tmp/tmp_9mwe9zw.jpg.\n"
     ]
    },
    {
     "name": "stderr",
     "output_type": "stream",
     "text": [
      "<ipython-input-7-b2ee86b84223>:31: DeprecationWarning: ANTIALIAS is deprecated and will be removed in Pillow 10 (2023-07-01). Use Resampling.LANCZOS instead.\n",
      "  pil_image = ImageOps.fit(pil_image, (new_width, new_height), Image.ANTIALIAS)\n"
     ]
    }
   ],
   "source": [
    "# You can choose a different URL that points to an image of your choice\n",
    "image_url = \"https://upload.wikimedia.org/wikipedia/commons/f/fb/20130807_dublin014.JPG\"\n",
    "\n",
    "# download the image and use the original height and width\n",
    "downloaded_image_path = download_and_resize_image(image_url, 3872, 2592)"
   ]
  },
  {
   "cell_type": "code",
   "execution_count": 9,
   "metadata": {},
   "outputs": [
    {
     "data": {
      "text/plain": [
       "'/tmp/tmp_9mwe9zw.jpg'"
      ]
     },
     "execution_count": 9,
     "metadata": {},
     "output_type": "execute_result"
    }
   ],
   "source": [
    "downloaded_image_path"
   ]
  },
  {
   "cell_type": "code",
   "execution_count": 10,
   "metadata": {},
   "outputs": [],
   "source": [
    "def load_img(path):\n",
    "    '''\n",
    "    Loads a JPEG image and converts it to a tensor.\n",
    "    \n",
    "    Args:\n",
    "        path (string) -- path to a locally saved JPEG image\n",
    "    \n",
    "    Returns:\n",
    "        (tensor) -- an image tensor\n",
    "    '''\n",
    "    \n",
    "    # read the file\n",
    "    img = tf.io.read_file(path)\n",
    "    \n",
    "    # convert to a tensor\n",
    "    img = tf.image.decode_jpeg(img, channels=3)\n",
    "    \n",
    "    return img\n",
    "\n",
    "\n",
    "def run_detector(detector, path):\n",
    "    '''\n",
    "    Runs inference on a local file using an object detection model.\n",
    "    \n",
    "    Args:\n",
    "        detector (model) -- an object detection model loaded from TF Hub\n",
    "        path (string) -- path to an image saved locally\n",
    "    '''\n",
    "    \n",
    "    # load an image tensor from a local file path\n",
    "    img = load_img(path)\n",
    "\n",
    "    # add a batch dimension in front of the tensor\n",
    "    converted_img  = tf.image.convert_image_dtype(img, tf.float32)[tf.newaxis, ...]\n",
    "    \n",
    "    # run inference using the model\n",
    "    result = detector(converted_img)\n",
    "\n",
    "    # save the results in a dictionary\n",
    "    result = {key:value.numpy() for key,value in result.items()}\n",
    "\n",
    "    # print results\n",
    "    print(\"Found %d objects.\" % len(result[\"detection_scores\"]))\n",
    "\n",
    "    print(result[\"detection_scores\"])\n",
    "    print(result[\"detection_class_entities\"])\n",
    "    print(result[\"detection_boxes\"])"
   ]
  },
  {
   "cell_type": "code",
   "execution_count": 11,
   "metadata": {},
   "outputs": [
    {
     "name": "stdout",
     "output_type": "stream",
     "text": [
      "Found 100 objects.\n",
      "[0.65443    0.6115524  0.6042074  0.59318423 0.5925851  0.5807479\n",
      " 0.5514026  0.49453202 0.47518414 0.47317016 0.4399935  0.41523173\n",
      " 0.40640995 0.39817956 0.3978387  0.37623495 0.37358454 0.36619464\n",
      " 0.3529474  0.3329757  0.30381307 0.27300316 0.26776695 0.25858822\n",
      " 0.25301704 0.24628592 0.2345324  0.20365502 0.18253262 0.18048182\n",
      " 0.17571577 0.16423638 0.15862599 0.15640941 0.15479502 0.15456767\n",
      " 0.14936724 0.13334472 0.12942922 0.12652272 0.12072    0.11763877\n",
      " 0.11357777 0.11108815 0.11104143 0.10920245 0.10591106 0.08946048\n",
      " 0.08598986 0.0828512  0.08104068 0.07787395 0.07767574 0.07655805\n",
      " 0.07537235 0.07458771 0.07423181 0.07220874 0.07182169 0.07102648\n",
      " 0.07030359 0.06813205 0.06325149 0.06303951 0.06284436 0.06230592\n",
      " 0.05885687 0.05809494 0.05796395 0.05791707 0.05445934 0.05270781\n",
      " 0.0512438  0.04845696 0.0471373  0.04683112 0.04489285 0.04395327\n",
      " 0.04352029 0.04107931 0.04106579 0.0398659  0.03936073 0.0391419\n",
      " 0.03881432 0.03878558 0.03746112 0.03601926 0.03366439 0.03361924\n",
      " 0.03267374 0.03256748 0.03213505 0.02979837 0.02871312 0.02863514\n",
      " 0.02842711 0.02795093 0.02738018 0.02677495]\n",
      "[b'Person' b'Person' b'Person' b'Footwear' b'Person' b'Person' b'Building'\n",
      " b'Bicycle' b'Building' b'Window' b'Person' b'Bicycle' b'Wheel'\n",
      " b'Building' b'Building' b'Building' b'Person' b'Wheel' b'Window'\n",
      " b'Window' b'Building' b'Person' b'Van' b'Person' b'Bicycle wheel'\n",
      " b'Person' b'Window' b'Window' b'Building' b'Window' b'Window' b'Man'\n",
      " b'Person' b'Woman' b'Person' b'Clothing' b'Bicycle wheel' b'Window'\n",
      " b'Person' b'Window' b'Land vehicle' b'Land vehicle' b'Clothing' b'Window'\n",
      " b'Bicycle' b'Land vehicle' b'House' b'House' b'Man' b'Window' b'Clothing'\n",
      " b'Window' b'Footwear' b'Person' b'Man' b'Man' b'House' b'Building'\n",
      " b'Person' b'Clothing' b'Window' b'Person' b'Man' b'Furniture' b'Person'\n",
      " b'Jeans' b'Person' b'Person' b'Person' b'Land vehicle' b'Window' b'House'\n",
      " b'Woman' b'Man' b'Window' b'Person' b'Person' b'Clothing' b'Man' b'Man'\n",
      " b'Window' b'Car' b'Person' b'Man' b'Car' b'Chair' b'House' b'Window'\n",
      " b'Clothing' b'Tire' b'Window' b'Clothing' b'Land vehicle' b'Window'\n",
      " b'Man' b'Window' b'Van' b'Bus' b'Clothing' b'Car']\n",
      "[[5.12794197e-01 5.29272735e-01 6.01654649e-01 5.52096546e-01]\n",
      " [5.19736111e-01 6.01504922e-01 6.46115899e-01 6.34678602e-01]\n",
      " [5.05738318e-01 5.00442386e-01 6.01351023e-01 5.23090243e-01]\n",
      " [8.15194607e-01 9.56117272e-01 8.42698991e-01 9.87137973e-01]\n",
      " [4.86305237e-01 4.12774175e-01 6.78548276e-01 4.59914774e-01]\n",
      " [4.95463163e-01 9.23537314e-01 8.35615277e-01 9.99055088e-01]\n",
      " [1.10995993e-02 1.19185112e-02 7.39666641e-01 4.24962938e-01]\n",
      " [5.77811658e-01 3.66449326e-01 7.12803841e-01 4.83333647e-01]\n",
      " [7.74936676e-02 4.13061500e-01 5.79486191e-01 5.60320854e-01]\n",
      " [0.00000000e+00 1.19294584e-01 2.23904938e-01 1.83950290e-01]\n",
      " [5.14079034e-01 7.48099148e-01 5.91963232e-01 7.66568005e-01]\n",
      " [5.70760846e-01 3.61819863e-01 7.07338512e-01 4.29678768e-01]\n",
      " [6.32097423e-01 3.59875023e-01 7.03840792e-01 4.11817372e-01]\n",
      " [1.59004461e-02 6.84973180e-01 5.59434533e-01 8.11143637e-01]\n",
      " [0.00000000e+00 7.97094643e-01 6.73751354e-01 1.00000000e+00]\n",
      " [0.00000000e+00 2.17033595e-01 6.50944650e-01 4.32016879e-01]\n",
      " [5.00391185e-01 3.77002835e-01 6.33357108e-01 4.14521188e-01]\n",
      " [6.40312850e-01 4.45015907e-01 7.03028440e-01 4.83458370e-01]\n",
      " [1.95393874e-03 0.00000000e+00 1.39321834e-01 2.62854788e-02]\n",
      " [2.55345041e-03 9.66614068e-01 1.53753921e-01 1.00000000e+00]\n",
      " [1.44172669e-03 1.39430596e-03 7.64844775e-01 2.69334793e-01]\n",
      " [5.04890978e-01 3.60774934e-01 6.37634695e-01 3.85494381e-01]\n",
      " [4.83366519e-01 6.19501948e-01 5.62661767e-01 6.61568940e-01]\n",
      " [4.98199463e-01 3.64594609e-01 6.61139011e-01 4.04876530e-01]\n",
      " [6.31232738e-01 3.60329509e-01 7.04143465e-01 4.11497623e-01]\n",
      " [5.21808088e-01 5.77690482e-01 5.87607861e-01 6.00716293e-01]\n",
      " [2.19603658e-01 3.48739058e-01 3.38259965e-01 3.77069652e-01]\n",
      " [1.24818407e-01 2.50919193e-01 2.79910684e-01 2.81630605e-01]\n",
      " [2.57316560e-01 5.67496240e-01 5.30892015e-01 6.87876940e-01]\n",
      " [4.21712138e-02 8.74766886e-01 2.52859294e-01 9.13050056e-01]\n",
      " [1.56397492e-01 4.43362087e-01 2.22233713e-01 4.75782722e-01]\n",
      " [5.01998127e-01 9.21470284e-01 8.36343527e-01 1.00000000e+00]\n",
      " [5.23670435e-01 5.70347548e-01 5.84500432e-01 5.91606021e-01]\n",
      " [5.19173205e-01 5.99960327e-01 6.46321237e-01 6.34089887e-01]\n",
      " [5.13153851e-01 6.79221511e-01 5.50982952e-01 6.92545176e-01]\n",
      " [5.24355054e-01 9.24949646e-01 8.10531855e-01 9.97980118e-01]\n",
      " [6.38063908e-01 4.42798555e-01 7.01726675e-01 4.84126121e-01]\n",
      " [3.41077372e-02 3.55656981e-01 1.62309363e-01 3.74910235e-01]\n",
      " [4.88086969e-01 4.53364044e-01 6.22239590e-01 4.79663134e-01]\n",
      " [9.81448567e-04 3.07708204e-01 1.06507078e-01 3.32071990e-01]\n",
      " [4.82968211e-01 6.19808316e-01 5.64781070e-01 6.60655797e-01]\n",
      " [5.82386017e-01 3.64925325e-01 7.13879943e-01 4.84674215e-01]\n",
      " [5.23798406e-01 7.49293268e-01 5.85472345e-01 7.65314341e-01]\n",
      " [3.51471424e-01 9.74872887e-01 5.53067207e-01 9.98886585e-01]\n",
      " [6.09082222e-01 4.26840901e-01 7.05194235e-01 4.87105697e-01]\n",
      " [5.69236696e-01 3.59788328e-01 7.08570600e-01 4.28449333e-01]\n",
      " [0.00000000e+00 8.11184525e-01 6.93551779e-01 9.93241906e-01]\n",
      " [1.04309088e-02 2.29553171e-02 7.27240980e-01 4.22355980e-01]\n",
      " [4.84611928e-01 4.10707563e-01 6.94719970e-01 4.63137567e-01]\n",
      " [8.11500028e-02 3.84769320e-01 2.07957745e-01 4.11754817e-01]\n",
      " [5.38563311e-01 6.03578568e-01 6.34745121e-01 6.34474218e-01]\n",
      " [0.00000000e+00 1.24060111e-02 1.40314057e-01 2.47345250e-02]\n",
      " [6.29773438e-01 6.14881456e-01 6.44904017e-01 6.25334561e-01]\n",
      " [5.02840400e-01 3.82403970e-01 5.96056759e-01 4.12723333e-01]\n",
      " [5.14688909e-01 7.47871995e-01 5.91947317e-01 7.66781449e-01]\n",
      " [5.06425142e-01 5.00404239e-01 6.00718856e-01 5.23320377e-01]\n",
      " [0.00000000e+00 2.11063400e-01 6.50814056e-01 4.34377551e-01]\n",
      " [0.00000000e+00 7.06320226e-01 6.17164373e-01 8.66010308e-01]\n",
      " [4.89291698e-01 4.54274684e-01 5.72649658e-01 4.76396322e-01]\n",
      " [5.09202063e-01 4.16265756e-01 6.69002414e-01 4.59579259e-01]\n",
      " [4.68217209e-03 8.03111434e-01 1.59564957e-01 8.40365946e-01]\n",
      " [5.26170254e-01 5.68377078e-01 5.79433501e-01 5.82802474e-01]\n",
      " [5.02833009e-01 3.73995692e-01 6.47132814e-01 4.12981778e-01]\n",
      " [5.74178815e-01 2.67243862e-01 6.57761693e-01 3.20318699e-01]\n",
      " [4.85905021e-01 4.44436401e-01 6.24712586e-01 4.73513514e-01]\n",
      " [6.72000468e-01 9.40323472e-01 8.21182191e-01 9.89207745e-01]\n",
      " [5.24099410e-01 5.61546326e-01 5.78338087e-01 5.80491424e-01]\n",
      " [5.17588854e-01 7.57200658e-01 5.88318765e-01 7.71539748e-01]\n",
      " [5.23331642e-01 5.57813704e-01 5.79022408e-01 5.73548734e-01]\n",
      " [6.12364292e-01 4.27402765e-01 7.06094146e-01 4.88300592e-01]\n",
      " [0.00000000e+00 2.44244739e-01 6.08992539e-02 2.93769896e-01]\n",
      " [1.55370077e-02 1.91926118e-03 7.45155036e-01 2.59324163e-01]\n",
      " [4.93275046e-01 9.23961461e-01 8.36915612e-01 9.97705996e-01]\n",
      " [5.05277812e-01 3.60159606e-01 6.43354118e-01 3.91435564e-01]\n",
      " [8.42852797e-03 2.42115825e-01 4.97440100e-02 2.83143997e-01]\n",
      " [5.22100329e-01 5.36087036e-01 5.97672343e-01 5.53132772e-01]\n",
      " [5.13125598e-01 5.23808420e-01 6.00536764e-01 5.42963207e-01]\n",
      " [5.18305719e-01 5.03467679e-01 5.97557008e-01 5.22752464e-01]\n",
      " [5.20445943e-01 6.00926638e-01 6.45996749e-01 6.34364247e-01]\n",
      " [5.13165295e-01 6.79247022e-01 5.50487101e-01 6.92438781e-01]\n",
      " [4.29722190e-01 8.28746021e-01 5.90030849e-01 8.64377737e-01]\n",
      " [5.26587069e-01 6.27185643e-01 5.63283026e-01 6.53781295e-01]\n",
      " [5.04782856e-01 3.89396578e-01 6.15249515e-01 4.19951886e-01]\n",
      " [5.01327693e-01 3.64217609e-01 6.59739673e-01 4.03696597e-01]\n",
      " [5.15045106e-01 6.24076962e-01 5.63829720e-01 6.58035517e-01]\n",
      " [5.73119462e-01 2.66730309e-01 6.66222274e-01 3.18646818e-01]\n",
      " [8.32075030e-02 4.07574594e-01 5.84350467e-01 5.58317184e-01]\n",
      " [2.88202941e-01 4.67398349e-04 4.14278716e-01 3.67085636e-02]\n",
      " [4.97159421e-01 4.55208093e-01 5.84284902e-01 4.77870315e-01]\n",
      " [6.27136052e-01 3.60998005e-01 7.05962539e-01 4.09781307e-01]\n",
      " [1.17328232e-02 3.08074921e-01 9.73216519e-02 3.25075805e-01]\n",
      " [5.15899658e-01 3.80090386e-01 5.96975088e-01 4.11770970e-01]\n",
      " [5.12369394e-01 6.23631179e-01 5.62431276e-01 6.57686055e-01]\n",
      " [4.00785118e-01 8.84975731e-01 5.81643105e-01 9.39134657e-01]\n",
      " [5.13905525e-01 5.29504120e-01 6.02048159e-01 5.52377701e-01]\n",
      " [0.00000000e+00 9.94676165e-03 1.36259139e-01 3.15968618e-02]\n",
      " [5.10643005e-01 6.24022841e-01 5.63410759e-01 6.58188939e-01]\n",
      " [4.80369747e-01 6.20337009e-01 5.65287113e-01 6.60128534e-01]\n",
      " [5.38407743e-01 9.28029239e-01 7.13646114e-01 9.99449492e-01]\n",
      " [4.86323953e-01 6.20264173e-01 5.63523173e-01 6.60223663e-01]]\n"
     ]
    }
   ],
   "source": [
    "# runs the object detection model and prints information about the objects found\n",
    "run_detector(detector, downloaded_image_path)"
   ]
  },
  {
   "cell_type": "code",
   "execution_count": null,
   "metadata": {},
   "outputs": [],
   "source": []
  }
 ],
 "metadata": {
  "kernelspec": {
   "display_name": "Python 3",
   "language": "python",
   "name": "python3"
  },
  "language_info": {
   "codemirror_mode": {
    "name": "ipython",
    "version": 3
   },
   "file_extension": ".py",
   "mimetype": "text/x-python",
   "name": "python",
   "nbconvert_exporter": "python",
   "pygments_lexer": "ipython3",
   "version": "3.8.10"
  }
 },
 "nbformat": 4,
 "nbformat_minor": 2
}
