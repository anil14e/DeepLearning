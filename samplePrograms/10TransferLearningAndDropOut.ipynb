{
 "cells": [
  {
   "cell_type": "code",
   "execution_count": 1,
   "metadata": {},
   "outputs": [],
   "source": [
    "import os\n",
    "import tensorflow as tf\n",
    "\n",
    "from tensorflow.keras import layers\n",
    "from tensorflow.keras import Model"
   ]
  },
  {
   "cell_type": "code",
   "execution_count": 2,
   "metadata": {},
   "outputs": [
    {
     "name": "stdout",
     "output_type": "stream",
     "text": [
      "--2020-06-14 15:06:38--  https://storage.googleapis.com/mledu-datasets/inception_v3_weights_tf_dim_ordering_tf_kernels_notop.h5\n",
      "Resolving storage.googleapis.com (storage.googleapis.com)... 172.217.17.112, 2a00:1450:400e:80b::2010\n",
      "Connecting to storage.googleapis.com (storage.googleapis.com)|172.217.17.112|:443... connected.\n",
      "HTTP request sent, awaiting response... 200 OK\n",
      "Length: 87910968 (84M) [application/x-hdf]\n",
      "Saving to: ‘/datadrive/dataForSamplePrograms/inception_v3_weights_tf_dim_ordering_tf_kernels_notop.h5’\n",
      "\n",
      "/datadrive/dataForS 100%[===================>]  83.84M  24.7MB/s    in 4.2s    \n",
      "\n",
      "2020-06-14 15:06:43 (20.0 MB/s) - ‘/datadrive/dataForSamplePrograms/inception_v3_weights_tf_dim_ordering_tf_kernels_notop.h5’ saved [87910968/87910968]\n",
      "\n"
     ]
    }
   ],
   "source": [
    "!wget --no-check-certificate \\\n",
    "    https://storage.googleapis.com/mledu-datasets/inception_v3_weights_tf_dim_ordering_tf_kernels_notop.h5 \\\n",
    "    -O /datadrive/dataForSamplePrograms/inception_v3_weights_tf_dim_ordering_tf_kernels_notop.h5"
   ]
  },
  {
   "cell_type": "code",
   "execution_count": 5,
   "metadata": {},
   "outputs": [
    {
     "name": "stdout",
     "output_type": "stream",
     "text": [
      "last layer output shape:  (None, 7, 7, 768)\n"
     ]
    }
   ],
   "source": [
    "from tensorflow.keras.applications.inception_v3 import InceptionV3\n",
    "\n",
    "local_weights_file = '/datadrive/dataForSamplePrograms/inception_v3_weights_tf_dim_ordering_tf_kernels_notop.h5'\n",
    "\n",
    "pre_trained_model = InceptionV3(input_shape = (150, 150, 3), \n",
    "                                include_top = False, \n",
    "                                weights = None)\n",
    "\n",
    "pre_trained_model.load_weights(local_weights_file)\n",
    "\n",
    "for layer in pre_trained_model.layers:\n",
    "    layer.trainable = False\n",
    "\n",
    "#pre_trained_model.summary()\n",
    "\n",
    "last_layer = pre_trained_model.get_layer('mixed7')\n",
    "print('last layer output shape: ', last_layer.output_shape)\n",
    "last_output = last_layer.output"
   ]
  },
  {
   "cell_type": "code",
   "execution_count": 7,
   "metadata": {},
   "outputs": [],
   "source": []
  },
  {
   "cell_type": "code",
   "execution_count": 9,
   "metadata": {},
   "outputs": [],
   "source": [
    "#model.summary()"
   ]
  },
  {
   "cell_type": "code",
   "execution_count": 10,
   "metadata": {},
   "outputs": [],
   "source": []
  },
  {
   "cell_type": "code",
   "execution_count": 12,
   "metadata": {},
   "outputs": [
    {
     "name": "stdout",
     "output_type": "stream",
     "text": [
      "Found 2000 images belonging to 2 classes.\n",
      "Found 1000 images belonging to 2 classes.\n"
     ]
    }
   ],
   "source": [
    "from tensorflow.keras.preprocessing.image import ImageDataGenerator\n",
    "\n",
    "# Define our example directories and files\n",
    "base_dir = '/datadrive/dataForSamplePrograms/cats_and_dogs_filtered'\n",
    "\n",
    "train_dir = os.path.join( base_dir, 'train')\n",
    "validation_dir = os.path.join( base_dir, 'validation')\n",
    "\n",
    "\n",
    "train_cats_dir = os.path.join(train_dir, 'cats') # Directory with our training cat pictures\n",
    "train_dogs_dir = os.path.join(train_dir, 'dogs') # Directory with our training dog pictures\n",
    "validation_cats_dir = os.path.join(validation_dir, 'cats') # Directory with our validation cat pictures\n",
    "validation_dogs_dir = os.path.join(validation_dir, 'dogs')# Directory with our validation dog pictures\n",
    "\n",
    "train_cat_fnames = os.listdir(train_cats_dir)\n",
    "train_dog_fnames = os.listdir(train_dogs_dir)\n",
    "\n",
    "# Add our data-augmentation parameters to ImageDataGenerator\n",
    "train_datagen = ImageDataGenerator(rescale = 1./255.,\n",
    "                                   rotation_range = 40,\n",
    "                                   width_shift_range = 0.2,\n",
    "                                   height_shift_range = 0.2,\n",
    "                                   shear_range = 0.2,\n",
    "                                   zoom_range = 0.2,\n",
    "                                   horizontal_flip = True)\n",
    "\n",
    "# Note that the validation data should not be augmented!\n",
    "test_datagen = ImageDataGenerator( rescale = 1.0/255. )\n",
    "\n",
    "# Flow training images in batches of 20 using train_datagen generator\n",
    "train_generator = train_datagen.flow_from_directory(train_dir,\n",
    "                                                    batch_size = 20,\n",
    "                                                    class_mode = 'binary', \n",
    "                                                    target_size = (150, 150))     \n",
    "\n",
    "# Flow validation images in batches of 20 using test_datagen generator\n",
    "validation_generator =  test_datagen.flow_from_directory( validation_dir,\n",
    "                                                          batch_size  = 20,\n",
    "                                                          class_mode  = 'binary', \n",
    "                                                          target_size = (150, 150))"
   ]
  },
  {
   "cell_type": "code",
   "execution_count": null,
   "metadata": {},
   "outputs": [],
   "source": []
  },
  {
   "cell_type": "code",
   "execution_count": 13,
   "metadata": {},
   "outputs": [],
   "source": [
    "## Without dropout regularization\n",
    "\n",
    "from tensorflow.keras.optimizers import RMSprop\n",
    "\n",
    "# Flatten the output layer to 1 dimension\n",
    "x = layers.Flatten()(last_output)\n",
    "# Add a fully connected layer with 1,024 hidden units and ReLU activation\n",
    "x = layers.Dense(1024, activation='relu')(x)                 \n",
    "# Add a final sigmoid layer for classification\n",
    "x = layers.Dense  (1, activation='sigmoid')(x)           \n",
    "\n",
    "model = Model( pre_trained_model.input, x) \n",
    "\n",
    "\n",
    "model.compile(optimizer = RMSprop(lr=0.0001), \n",
    "              loss = 'binary_crossentropy', \n",
    "              metrics = ['accuracy'])"
   ]
  },
  {
   "cell_type": "code",
   "execution_count": 14,
   "metadata": {},
   "outputs": [
    {
     "name": "stdout",
     "output_type": "stream",
     "text": [
      "Epoch 1/20\n",
      "100/100 - 36s - loss: 0.3326 - accuracy: 0.8675 - val_loss: 0.0951 - val_accuracy: 0.9590\n",
      "Epoch 2/20\n",
      "100/100 - 34s - loss: 0.2241 - accuracy: 0.9110 - val_loss: 0.0936 - val_accuracy: 0.9660\n",
      "Epoch 3/20\n",
      "100/100 - 34s - loss: 0.2069 - accuracy: 0.9210 - val_loss: 0.0939 - val_accuracy: 0.9640\n",
      "Epoch 4/20\n",
      "100/100 - 34s - loss: 0.1587 - accuracy: 0.9365 - val_loss: 0.1543 - val_accuracy: 0.9520\n",
      "Epoch 5/20\n",
      "100/100 - 34s - loss: 0.1726 - accuracy: 0.9370 - val_loss: 0.1122 - val_accuracy: 0.9640\n",
      "Epoch 6/20\n",
      "100/100 - 34s - loss: 0.1514 - accuracy: 0.9365 - val_loss: 0.1148 - val_accuracy: 0.9620\n",
      "Epoch 7/20\n",
      "100/100 - 35s - loss: 0.1578 - accuracy: 0.9350 - val_loss: 0.1127 - val_accuracy: 0.9650\n",
      "Epoch 8/20\n",
      "100/100 - 34s - loss: 0.1627 - accuracy: 0.9465 - val_loss: 0.0965 - val_accuracy: 0.9730\n",
      "Epoch 9/20\n",
      "100/100 - 34s - loss: 0.1350 - accuracy: 0.9555 - val_loss: 0.0935 - val_accuracy: 0.9690\n",
      "Epoch 10/20\n",
      "100/100 - 35s - loss: 0.1416 - accuracy: 0.9530 - val_loss: 0.0917 - val_accuracy: 0.9740\n",
      "Epoch 11/20\n",
      "100/100 - 34s - loss: 0.1446 - accuracy: 0.9410 - val_loss: 0.1570 - val_accuracy: 0.9560\n",
      "Epoch 12/20\n",
      "100/100 - 34s - loss: 0.1334 - accuracy: 0.9535 - val_loss: 0.1892 - val_accuracy: 0.9450\n",
      "Epoch 13/20\n",
      "100/100 - 34s - loss: 0.1341 - accuracy: 0.9530 - val_loss: 0.0981 - val_accuracy: 0.9710\n",
      "Epoch 14/20\n",
      "100/100 - 34s - loss: 0.1282 - accuracy: 0.9565 - val_loss: 0.1695 - val_accuracy: 0.9520\n",
      "Epoch 15/20\n",
      "100/100 - 34s - loss: 0.1116 - accuracy: 0.9610 - val_loss: 0.1546 - val_accuracy: 0.9670\n",
      "Epoch 16/20\n",
      "100/100 - 35s - loss: 0.1215 - accuracy: 0.9570 - val_loss: 0.1306 - val_accuracy: 0.9670\n",
      "Epoch 17/20\n",
      "100/100 - 34s - loss: 0.1311 - accuracy: 0.9545 - val_loss: 0.1210 - val_accuracy: 0.9630\n",
      "Epoch 18/20\n",
      "100/100 - 34s - loss: 0.1235 - accuracy: 0.9550 - val_loss: 0.1336 - val_accuracy: 0.9600\n",
      "Epoch 19/20\n",
      "100/100 - 35s - loss: 0.1166 - accuracy: 0.9595 - val_loss: 0.1130 - val_accuracy: 0.9690\n",
      "Epoch 20/20\n",
      "100/100 - 34s - loss: 0.1219 - accuracy: 0.9605 - val_loss: 0.1348 - val_accuracy: 0.9660\n"
     ]
    }
   ],
   "source": [
    "history = model.fit(\n",
    "            train_generator,\n",
    "            validation_data = validation_generator,\n",
    "            steps_per_epoch = 100,\n",
    "            epochs = 20,\n",
    "            validation_steps = 50,\n",
    "            verbose = 2)"
   ]
  },
  {
   "cell_type": "code",
   "execution_count": 15,
   "metadata": {},
   "outputs": [
    {
     "data": {
      "image/png": "[encoded data removed]",
      "text/plain": [
       "<Figure size 432x288 with 1 Axes>"
      ]
     },
     "metadata": {
      "needs_background": "light"
     },
     "output_type": "display_data"
    },
    {
     "data": {
      "text/plain": [
       "<Figure size 432x288 with 0 Axes>"
      ]
     },
     "metadata": {},
     "output_type": "display_data"
    }
   ],
   "source": [
    "import matplotlib.pyplot as plt\n",
    "acc = history.history['accuracy']\n",
    "val_acc = history.history['val_accuracy']\n",
    "loss = history.history['loss']\n",
    "val_loss = history.history['val_loss']\n",
    "\n",
    "epochs = range(len(acc))\n",
    "\n",
    "plt.plot(epochs, acc, 'r', label='Training accuracy')\n",
    "plt.plot(epochs, val_acc, 'b', label='Validation accuracy')\n",
    "plt.title('Training and validation accuracy')\n",
    "plt.legend(loc=0)\n",
    "plt.figure()\n",
    "\n",
    "\n",
    "plt.show()"
   ]
  },
  {
   "cell_type": "code",
   "execution_count": 16,
   "metadata": {},
   "outputs": [],
   "source": [
    "## With dropout regularization\n",
    "\n",
    "from tensorflow.keras.optimizers import RMSprop\n",
    "\n",
    "# Flatten the output layer to 1 dimension\n",
    "x = layers.Flatten()(last_output)\n",
    "# Add a fully connected layer with 1,024 hidden units and ReLU activation\n",
    "x = layers.Dense(1024, activation='relu')(x)  \n",
    "# Add a dropout rate of 0.2\n",
    "x = layers.Dropout(0.2)(x) \n",
    "# Add a final sigmoid layer for classification\n",
    "x = layers.Dense  (1, activation='sigmoid')(x)           \n",
    "\n",
    "model = Model( pre_trained_model.input, x) \n",
    "\n",
    "\n",
    "model.compile(optimizer = RMSprop(lr=0.0001), \n",
    "              loss = 'binary_crossentropy', \n",
    "              metrics = ['accuracy'])"
   ]
  },
  {
   "cell_type": "code",
   "execution_count": 17,
   "metadata": {},
   "outputs": [
    {
     "name": "stdout",
     "output_type": "stream",
     "text": [
      "Epoch 1/20\n",
      "100/100 - 36s - loss: 0.3612 - accuracy: 0.8565 - val_loss: 0.1310 - val_accuracy: 0.9490\n",
      "Epoch 2/20\n",
      "100/100 - 34s - loss: 0.2214 - accuracy: 0.9100 - val_loss: 0.1105 - val_accuracy: 0.9570\n",
      "Epoch 3/20\n",
      "100/100 - 34s - loss: 0.1938 - accuracy: 0.9280 - val_loss: 0.1058 - val_accuracy: 0.9680\n",
      "Epoch 4/20\n",
      "100/100 - 34s - loss: 0.2022 - accuracy: 0.9355 - val_loss: 0.1521 - val_accuracy: 0.9480\n",
      "Epoch 5/20\n",
      "100/100 - 34s - loss: 0.1800 - accuracy: 0.9380 - val_loss: 0.1015 - val_accuracy: 0.9650\n",
      "Epoch 6/20\n",
      "100/100 - 34s - loss: 0.1770 - accuracy: 0.9440 - val_loss: 0.1782 - val_accuracy: 0.9460\n",
      "Epoch 7/20\n",
      "100/100 - 35s - loss: 0.1806 - accuracy: 0.9400 - val_loss: 0.2340 - val_accuracy: 0.9280\n",
      "Epoch 8/20\n",
      "100/100 - 34s - loss: 0.1847 - accuracy: 0.9335 - val_loss: 0.1085 - val_accuracy: 0.9700\n",
      "Epoch 9/20\n",
      "100/100 - 34s - loss: 0.1522 - accuracy: 0.9495 - val_loss: 0.1320 - val_accuracy: 0.9610\n",
      "Epoch 10/20\n",
      "100/100 - 35s - loss: 0.1531 - accuracy: 0.9530 - val_loss: 0.1148 - val_accuracy: 0.9710\n",
      "Epoch 11/20\n",
      "100/100 - 34s - loss: 0.1617 - accuracy: 0.9445 - val_loss: 0.1177 - val_accuracy: 0.9720\n",
      "Epoch 12/20\n",
      "100/100 - 34s - loss: 0.1418 - accuracy: 0.9560 - val_loss: 0.1435 - val_accuracy: 0.9600\n",
      "Epoch 13/20\n",
      "100/100 - 34s - loss: 0.1412 - accuracy: 0.9540 - val_loss: 0.1137 - val_accuracy: 0.9700\n",
      "Epoch 14/20\n",
      "100/100 - 34s - loss: 0.1484 - accuracy: 0.9500 - val_loss: 0.0956 - val_accuracy: 0.9710\n",
      "Epoch 15/20\n",
      "100/100 - 34s - loss: 0.1303 - accuracy: 0.9565 - val_loss: 0.1230 - val_accuracy: 0.9680\n",
      "Epoch 16/20\n",
      "100/100 - 35s - loss: 0.1505 - accuracy: 0.9495 - val_loss: 0.1106 - val_accuracy: 0.9660\n",
      "Epoch 17/20\n",
      "100/100 - 34s - loss: 0.1421 - accuracy: 0.9570 - val_loss: 0.1253 - val_accuracy: 0.9670\n",
      "Epoch 18/20\n",
      "100/100 - 34s - loss: 0.1221 - accuracy: 0.9600 - val_loss: 0.1200 - val_accuracy: 0.9630\n",
      "Epoch 19/20\n",
      "100/100 - 35s - loss: 0.1405 - accuracy: 0.9520 - val_loss: 0.1224 - val_accuracy: 0.9660\n",
      "Epoch 20/20\n",
      "100/100 - 34s - loss: 0.1171 - accuracy: 0.9655 - val_loss: 0.1697 - val_accuracy: 0.9610\n"
     ]
    }
   ],
   "source": [
    "history = model.fit(\n",
    "            train_generator,\n",
    "            validation_data = validation_generator,\n",
    "            steps_per_epoch = 100,\n",
    "            epochs = 20,\n",
    "            validation_steps = 50,\n",
    "            verbose = 2)"
   ]
  },
  {
   "cell_type": "code",
   "execution_count": 18,
   "metadata": {},
   "outputs": [
    {
     "data": {
      "image/png": "[encoded data removed]",
      "text/plain": [
       "<Figure size 432x288 with 1 Axes>"
      ]
     },
     "metadata": {
      "needs_background": "light"
     },
     "output_type": "display_data"
    },
    {
     "data": {
      "text/plain": [
       "<Figure size 432x288 with 0 Axes>"
      ]
     },
     "metadata": {},
     "output_type": "display_data"
    }
   ],
   "source": [
    "import matplotlib.pyplot as plt\n",
    "acc = history.history['accuracy']\n",
    "val_acc = history.history['val_accuracy']\n",
    "loss = history.history['loss']\n",
    "val_loss = history.history['val_loss']\n",
    "\n",
    "epochs = range(len(acc))\n",
    "\n",
    "plt.plot(epochs, acc, 'r', label='Training accuracy')\n",
    "plt.plot(epochs, val_acc, 'b', label='Validation accuracy')\n",
    "plt.title('Training and validation accuracy')\n",
    "plt.legend(loc=0)\n",
    "plt.figure()\n",
    "\n",
    "\n",
    "plt.show()"
   ]
  },
  {
   "cell_type": "code",
   "execution_count": null,
   "metadata": {},
   "outputs": [],
   "source": []
  }
 ],
 "metadata": {
  "kernelspec": {
   "display_name": "Python 3",
   "language": "python",
   "name": "python3"
  },
  "language_info": {
   "codemirror_mode": {
    "name": "ipython",
    "version": 3
   },
   "file_extension": ".py",
   "mimetype": "text/x-python",
   "name": "python",
   "nbconvert_exporter": "python",
   "pygments_lexer": "ipython3",
   "version": "3.6.9"
  }
 },
 "nbformat": 4,
 "nbformat_minor": 4
}
