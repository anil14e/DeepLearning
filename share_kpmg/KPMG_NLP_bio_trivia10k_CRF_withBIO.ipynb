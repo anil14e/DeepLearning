{
  "nbformat": 4,
  "nbformat_minor": 0,
  "metadata": {
    "accelerator": "GPU",
    "colab": {
      "name": "KPMG_NLP_bio_trivia10k_CRF_withBIO.ipynb",
      "provenance": [],
      "collapsed_sections": []
    },
    "kernelspec": {
      "display_name": "Python 3",
      "language": "python",
      "name": "python3"
    },
    "language_info": {
      "codemirror_mode": {
        "name": "ipython",
        "version": 3
      },
      "file_extension": ".py",
      "mimetype": "text/x-python",
      "name": "python",
      "nbconvert_exporter": "python",
      "pygments_lexer": "ipython3",
      "version": "3.6.9"
    }
  },
  "cells": [
    {
      "cell_type": "code",
      "metadata": {
        "id": "Mzu7McOVmO0H",
        "colab_type": "code",
        "colab": {
          "base_uri": "https://localhost:8080/",
          "height": 319
        },
        "outputId": "6d376bc5-bd30-4298-aded-91175d9c6cc9"
      },
      "source": [
        "!pip install git+https://www.github.com/keras-team/keras-contrib.git"
      ],
      "execution_count": null,
      "outputs": [
        {
          "output_type": "stream",
          "text": [
            "Collecting git+https://www.github.com/keras-team/keras-contrib.git\n",
            "  Cloning https://www.github.com/keras-team/keras-contrib.git to /tmp/pip-req-build-hmez4bsy\n",
            "  Running command git clone -q https://www.github.com/keras-team/keras-contrib.git /tmp/pip-req-build-hmez4bsy\n",
            "Requirement already satisfied: keras in /usr/local/lib/python3.6/dist-packages (from keras-contrib==2.0.8) (2.3.1)\n",
            "Requirement already satisfied: pyyaml in /usr/local/lib/python3.6/dist-packages (from keras->keras-contrib==2.0.8) (3.13)\n",
            "Requirement already satisfied: numpy>=1.9.1 in /usr/local/lib/python3.6/dist-packages (from keras->keras-contrib==2.0.8) (1.18.5)\n",
            "Requirement already satisfied: six>=1.9.0 in /usr/local/lib/python3.6/dist-packages (from keras->keras-contrib==2.0.8) (1.15.0)\n",
            "Requirement already satisfied: keras-preprocessing>=1.0.5 in /usr/local/lib/python3.6/dist-packages (from keras->keras-contrib==2.0.8) (1.1.2)\n",
            "Requirement already satisfied: h5py in /usr/local/lib/python3.6/dist-packages (from keras->keras-contrib==2.0.8) (2.10.0)\n",
            "Requirement already satisfied: keras-applications>=1.0.6 in /usr/local/lib/python3.6/dist-packages (from keras->keras-contrib==2.0.8) (1.0.8)\n",
            "Requirement already satisfied: scipy>=0.14 in /usr/local/lib/python3.6/dist-packages (from keras->keras-contrib==2.0.8) (1.4.1)\n",
            "Building wheels for collected packages: keras-contrib\n",
            "  Building wheel for keras-contrib (setup.py) ... \u001b[?25l\u001b[?25hdone\n",
            "  Created wheel for keras-contrib: filename=keras_contrib-2.0.8-cp36-none-any.whl size=101064 sha256=cde4db811852a948e321a1425dd5cda26ddf51c1295f284994a8fd92501c6368\n",
            "  Stored in directory: /tmp/pip-ephem-wheel-cache-aukcpkbs/wheels/11/27/c8/4ed56de7b55f4f61244e2dc6ef3cdbaff2692527a2ce6502ba\n",
            "Successfully built keras-contrib\n",
            "Installing collected packages: keras-contrib\n",
            "Successfully installed keras-contrib-2.0.8\n"
          ],
          "name": "stdout"
        }
      ]
    },
    {
      "cell_type": "code",
      "metadata": {
        "id": "nBGGYQo2n0d9",
        "colab_type": "code",
        "colab": {
          "base_uri": "https://localhost:8080/",
          "height": 34
        },
        "outputId": "5cfd3c73-7f82-4e03-a28f-cde082e4171d"
      },
      "source": [
        "from keras_contrib.layers import CRF"
      ],
      "execution_count": null,
      "outputs": [
        {
          "output_type": "stream",
          "text": [
            "Using TensorFlow backend.\n"
          ],
          "name": "stderr"
        }
      ]
    },
    {
      "cell_type": "code",
      "metadata": {
        "colab_type": "code",
        "id": "1acsvt0BUA9n",
        "colab": {}
      },
      "source": [
        "%matplotlib inline\n",
        "import matplotlib.pyplot as plt\n",
        "import pandas as pd\n",
        "import numpy as np\n",
        "\n",
        "import tensorflow as tf\n",
        "\n",
        "from tensorflow.keras import Model, Input\n",
        "from tensorflow.keras.layers import LSTM,GRU, Embedding, Dense\n",
        "from tensorflow.keras.layers import TimeDistributed, SpatialDropout1D, Bidirectional\n",
        "from sklearn.model_selection import train_test_split\n",
        "from tensorflow.keras.callbacks import ModelCheckpoint, EarlyStopping\n",
        "\n",
        "from tensorflow.keras.preprocessing.sequence import pad_sequences\n",
        "from tensorflow.keras.utils import to_categorical\n",
        "\n",
        "from keras.models import model_from_json\n",
        "\n",
        "from sklearn.metrics import classification_report\n",
        "from sklearn.metrics import accuracy_score\n",
        "from sklearn.metrics import confusion_matrix"
      ],
      "execution_count": null,
      "outputs": []
    },
    {
      "cell_type": "markdown",
      "metadata": {
        "id": "3ETKnGPJzVsr",
        "colab_type": "text"
      },
      "source": [
        "Data Preparation"
      ]
    },
    {
      "cell_type": "code",
      "metadata": {
        "colab_type": "code",
        "id": "TL8RukVKUy0I",
        "colab": {
          "base_uri": "https://localhost:8080/",
          "height": 202
        },
        "outputId": "366d0d8e-4d98-406d-f2e5-87f5aa8ebf8d"
      },
      "source": [
        "!wget \"https://groups.csail.mit.edu/sls/downloads/movie/trivia10k13train.bio\" -P \"/tmp/\"\n"
      ],
      "execution_count": null,
      "outputs": [
        {
          "output_type": "stream",
          "text": [
            "--2020-08-02 09:37:17--  https://groups.csail.mit.edu/sls/downloads/movie/trivia10k13train.bio\n",
            "Resolving groups.csail.mit.edu (groups.csail.mit.edu)... 128.30.2.44\n",
            "Connecting to groups.csail.mit.edu (groups.csail.mit.edu)|128.30.2.44|:443... connected.\n",
            "HTTP request sent, awaiting response... 200 OK\n",
            "Length: 1785558 (1.7M)\n",
            "Saving to: ‘/tmp/trivia10k13train.bio’\n",
            "\n",
            "trivia10k13train.bi 100%[===================>]   1.70M  1.28MB/s    in 1.3s    \n",
            "\n",
            "2020-08-02 09:37:20 (1.28 MB/s) - ‘/tmp/trivia10k13train.bio’ saved [1785558/1785558]\n",
            "\n"
          ],
          "name": "stdout"
        }
      ]
    },
    {
      "cell_type": "code",
      "metadata": {
        "id": "k9wu3dIUWPWR",
        "colab_type": "code",
        "colab": {
          "base_uri": "https://localhost:8080/",
          "height": 202
        },
        "outputId": "6d2586cc-6a8b-49b5-9521-db239e4a1a5d"
      },
      "source": [
        "!wget \"https://groups.csail.mit.edu/sls/downloads/movie/trivia10k13test.bio\" -P \"/tmp/\""
      ],
      "execution_count": null,
      "outputs": [
        {
          "output_type": "stream",
          "text": [
            "--2020-08-02 09:37:21--  https://groups.csail.mit.edu/sls/downloads/movie/trivia10k13test.bio\n",
            "Resolving groups.csail.mit.edu (groups.csail.mit.edu)... 128.30.2.44\n",
            "Connecting to groups.csail.mit.edu (groups.csail.mit.edu)|128.30.2.44|:443... connected.\n",
            "HTTP request sent, awaiting response... 200 OK\n",
            "Length: 438729 (428K)\n",
            "Saving to: ‘/tmp/trivia10k13test.bio’\n",
            "\n",
            "trivia10k13test.bio 100%[===================>] 428.45K   554KB/s    in 0.8s    \n",
            "\n",
            "2020-08-02 09:37:23 (554 KB/s) - ‘/tmp/trivia10k13test.bio’ saved [438729/438729]\n",
            "\n"
          ],
          "name": "stdout"
        }
      ]
    },
    {
      "cell_type": "code",
      "metadata": {
        "colab_type": "code",
        "id": "0WKbAyOSU93X",
        "colab": {}
      },
      "source": [
        "## Read input training data\n",
        "with open (\"/tmp/trivia10k13train.bio\", \"r\") as f:\n",
        "    lines = [eachLine.rstrip() for eachLine in f]\n",
        "\n",
        "## Prepare word list, tag list and tuple of sentences\n",
        "sentences=[]\n",
        "eachSentence=[]\n",
        "words=[]\n",
        "tags=[]\n",
        "for eachline in lines:\n",
        "  if eachline != '':\n",
        "    eachTag,eachWord = eachline.split('\\t')\n",
        "    words.append(eachWord)\n",
        "    tags.append(eachTag)\n",
        "    eachSentence.append((eachWord,eachTag))\n",
        "  else:\n",
        "    sentences.append(eachSentence)\n",
        "    eachSentence = []\n",
        "\n",
        "## Remove duplicates. Add - OOV(out of vocab) ENDPAD to word list\n",
        "words = list(set(words))\n",
        "words.append(\"OOV\")\n",
        "words.append(\"ENDPAD\")\n",
        "tags = list(set(tags))\n",
        "\n",
        "num_words = len(words)\n",
        "num_tags = len(tags)"
      ],
      "execution_count": null,
      "outputs": []
    },
    {
      "cell_type": "code",
      "metadata": {
        "colab_type": "code",
        "id": "DSmUKSWaVDPm",
        "colab": {
          "base_uri": "https://localhost:8080/",
          "height": 34
        },
        "outputId": "b3ae82a3-726d-427e-ed35-fdfb61f4cefc"
      },
      "source": [
        "## Print number of words and number of tags\n",
        "num_words, num_tags"
      ],
      "execution_count": null,
      "outputs": [
        {
          "output_type": "execute_result",
          "data": {
            "text/plain": [
              "(10989, 25)"
            ]
          },
          "metadata": {
            "tags": []
          },
          "execution_count": 7
        }
      ]
    },
    {
      "cell_type": "code",
      "metadata": {
        "colab_type": "code",
        "id": "aqoP5etkYLHC",
        "colab": {}
      },
      "source": [
        "## Create word and tag dictionaries\n",
        "word2idx = {w: i+1 for i,w in enumerate(words)}\n",
        "tags2idx = {t: i for i,t in enumerate(tags)}"
      ],
      "execution_count": null,
      "outputs": []
    },
    {
      "cell_type": "code",
      "metadata": {
        "colab_type": "code",
        "id": "tiLrYQGDY7Vj",
        "colab": {
          "base_uri": "https://localhost:8080/",
          "height": 279
        },
        "outputId": "bdaeaef5-8b38-48ae-a1bb-821594c675ff"
      },
      "source": [
        "## Plt the sentence lengths to understand padding requirement\n",
        "plt.hist([len(s) for s in sentences], bins=50)\n",
        "plt.ylabel('num of sentences')\n",
        "plt.xlabel('num of words')\n",
        "plt.show()"
      ],
      "execution_count": null,
      "outputs": [
        {
          "output_type": "display_data",
          "data": {
            "image/png": "[encoded data removed]",
            "text/plain": [
              "<Figure size 432x288 with 1 Axes>"
            ]
          },
          "metadata": {
            "tags": [],
            "needs_background": "light"
          }
        }
      ]
    },
    {
      "cell_type": "code",
      "metadata": {
        "colab_type": "code",
        "id": "oV-ggDoBmqfk",
        "colab": {}
      },
      "source": [
        ""
      ],
      "execution_count": null,
      "outputs": []
    },
    {
      "cell_type": "code",
      "metadata": {
        "colab_type": "code",
        "id": "_FTBpAR9Y96Q",
        "colab": {}
      },
      "source": [
        "## set max length to 45 and generate word sequences with padding. I have chosen post padding.\n",
        "## Set the padding values to 'ENDPAD' for input and 'O' for tags.\n",
        "\n",
        "max_len = 45\n",
        "X = [[word2idx[w[0]] for w in s] for s in sentences]\n",
        "X = pad_sequences(maxlen=max_len,sequences=X, padding='post', value=num_words-1)\n",
        "\n",
        "y = [[tags2idx[w[1]] for w in s] for s in sentences]\n",
        "y = pad_sequences(maxlen=max_len, sequences=y, padding='post', value=tags2idx[\"O\"])\n"
      ],
      "execution_count": null,
      "outputs": []
    },
    {
      "cell_type": "code",
      "metadata": {
        "id": "I_wdTemttHd7",
        "colab_type": "code",
        "colab": {}
      },
      "source": [
        "y = [to_categorical(i, num_classes=num_tags) for i in y]"
      ],
      "execution_count": null,
      "outputs": []
    },
    {
      "cell_type": "code",
      "metadata": {
        "colab_type": "code",
        "id": "UZk_J9MPYr1g",
        "colab": {}
      },
      "source": [
        "## Create train and validation split from training set\n",
        "x_train, x_valid, y_train, y_valid = train_test_split(X, y, test_size=0.2, random_state=1)"
      ],
      "execution_count": null,
      "outputs": []
    },
    {
      "cell_type": "code",
      "metadata": {
        "id": "-y0WURlCsXpq",
        "colab_type": "code",
        "colab": {}
      },
      "source": [
        "from keras.models import Model, Input\n",
        "from keras.layers import LSTM, Embedding, Dense, TimeDistributed, Dropout, Bidirectional\n",
        "from keras_contrib.layers import CRF"
      ],
      "execution_count": null,
      "outputs": []
    },
    {
      "cell_type": "code",
      "metadata": {
        "id": "V1htco2Xp_IV",
        "colab_type": "code",
        "colab": {}
      },
      "source": [
        "## Function for model defnition with hyperparameters as arguments\n",
        "def model_defnition(regularization='l2',recurrent_dropout=0.0,embed_outdim=64,num_tags=num_tags,num_words=num_words):\n",
        "    input = Input(shape=(max_len,))\n",
        "    model = Embedding(input_dim=num_words, output_dim=64,\n",
        "                      input_length=max_len)(input)\n",
        "    model = Bidirectional(LSTM(units=64, return_sequences=True,\n",
        "                               recurrent_dropout=recurrent_dropout))(model)  # variational biLSTM\n",
        "    model = TimeDistributed(Dense(64, activation=\"relu\",kernel_regularizer=regularization))(model)  # a dense layer as suggested by neuralNer\n",
        "    crf = CRF(num_tags)  # CRF layer\n",
        "    out = crf(model)\n",
        "\n",
        "    model = Model(input, out)\n",
        "\n",
        "    return (model,crf)\n",
        "    "
      ],
      "execution_count": null,
      "outputs": []
    },
    {
      "cell_type": "code",
      "metadata": {
        "id": "aWafamR4p_Ie",
        "colab_type": "code",
        "colab": {}
      },
      "source": [
        "### Prepare a grid of hyperparameters \n",
        "recurrentDropoutRange = [0.1, 0.3, 0.5]\n",
        "maxLenRange = [45]\n",
        "\n",
        "hyperParameterGrid = []\n",
        "for i in recurrentDropoutRange:\n",
        "    for j in maxLenRange:\n",
        "        hyperParameterGrid.append((i,j))"
      ],
      "execution_count": null,
      "outputs": []
    },
    {
      "cell_type": "code",
      "metadata": {
        "id": "rRIgtE0Tp_Iz",
        "colab_type": "code",
        "colab": {
          "base_uri": "https://localhost:8080/",
          "height": 1000
        },
        "outputId": "c054cf67-cbc0-4f89-e8a1-f22fec2943bb"
      },
      "source": [
        "## Execute model fit for the range of hyper parameters and save the history for each run\n",
        "## Also save the each model so that, they can be loaded at a later stage\n",
        "history_hyper_all = []\n",
        "for eachRecurrDropout, eachMaxLen in hyperParameterGrid:\n",
        "    \n",
        "    max_len = eachMaxLen\n",
        "    X = [[word2idx[w[0]] for w in s] for s in sentences]\n",
        "    X = pad_sequences(maxlen=max_len,sequences=X, padding='post', value=num_words-1)\n",
        "\n",
        "    y = [[tags2idx[w[1]] for w in s] for s in sentences]\n",
        "    y = pad_sequences(maxlen=max_len, sequences=y, padding='post', value=tags2idx[\"O\"])\n",
        "    \n",
        "    y = [to_categorical(i, num_classes=num_tags) for i in y]\n",
        "\n",
        "    #x_train, x_valid, y_train, y_valid = train_test_split(X, y, test_size=0.2, random_state=1)\n",
        "    \n",
        "    \n",
        "    model,crf = model_defnition(regularization='l2',recurrent_dropout=eachRecurrDropout)\n",
        "    \n",
        "    early_stopping = EarlyStopping(monitor='val_crf_viterbi_accuracy', min_delta=0, patience=2, verbose=0, mode='max', baseline=None, restore_best_weights=True)\n",
        "    \n",
        "    #model.compile(optimizer=\"adam\",loss=\"sparse_categorical_crossentropy\",metrics=[\"accuracy\"])\n",
        "    model.compile(optimizer=\"rmsprop\", loss=crf.loss_function, metrics=[crf.accuracy])\n",
        "    history = model.fit(x=X, y=np.array(y), validation_split=0.1,\n",
        "                        batch_size=32,epochs=30,callbacks=[early_stopping],verbose=1)\n",
        "    modelName = 'Model_SpatialDropout_'+str(eachSpatialDropout)+'_RecurDropout_'+str(eachRecurrDropout)+'_MaxLen_'+str(eachMaxLen)\n",
        "    history_hyper_all.append((modelName,history))\n",
        "    \n",
        "    ##save model\n",
        "    model_json = model.to_json()\n",
        "    with open(\"/tmp/\"+modelName+\".json\",\"w\") as json_file:\n",
        "        json_file.write(model_json)\n",
        "        \n",
        "    model.save_weights(\"/tmp/\"+modelName+\".h5\")\n",
        "    \n",
        "    #print(modelName)\n",
        "    #break"
      ],
      "execution_count": null,
      "outputs": [
        {
          "output_type": "stream",
          "text": [
            "/usr/local/lib/python3.6/dist-packages/keras_contrib/layers/crf.py:346: UserWarning: CRF.loss_function is deprecated and it might be removed in the future. Please use losses.crf_loss instead.\n",
            "  warnings.warn('CRF.loss_function is deprecated '\n",
            "/usr/local/lib/python3.6/dist-packages/keras_contrib/layers/crf.py:353: UserWarning: CRF.accuracy is deprecated and it might be removed in the future. Please use metrics.crf_accuracy\n",
            "  warnings.warn('CRF.accuracy is deprecated and it '\n",
            "/usr/local/lib/python3.6/dist-packages/tensorflow/python/framework/indexed_slices.py:434: UserWarning: Converting sparse IndexedSlices to a dense Tensor of unknown shape. This may consume a large amount of memory.\n",
            "  \"Converting sparse IndexedSlices to a dense Tensor of unknown shape. \"\n"
          ],
          "name": "stderr"
        },
        {
          "output_type": "stream",
          "text": [
            "Train on 7034 samples, validate on 782 samples\n",
            "Epoch 1/30\n",
            "7034/7034 [==============================] - 82s 12ms/step - loss: 0.9713 - crf_viterbi_accuracy: 0.7805 - val_loss: 0.5649 - val_crf_viterbi_accuracy: 0.8407\n",
            "Epoch 2/30\n",
            "7034/7034 [==============================] - 83s 12ms/step - loss: 0.4261 - crf_viterbi_accuracy: 0.8695 - val_loss: 0.3663 - val_crf_viterbi_accuracy: 0.8769\n",
            "Epoch 3/30\n",
            "7034/7034 [==============================] - 80s 11ms/step - loss: 0.2948 - crf_viterbi_accuracy: 0.8985 - val_loss: 0.2597 - val_crf_viterbi_accuracy: 0.9083\n",
            "Epoch 4/30\n",
            "7034/7034 [==============================] - 81s 11ms/step - loss: 0.2166 - crf_viterbi_accuracy: 0.9175 - val_loss: 0.1980 - val_crf_viterbi_accuracy: 0.9178\n",
            "Epoch 5/30\n",
            "7034/7034 [==============================] - 82s 12ms/step - loss: 0.1692 - crf_viterbi_accuracy: 0.9255 - val_loss: 0.1598 - val_crf_viterbi_accuracy: 0.9243\n",
            "Epoch 6/30\n",
            "7034/7034 [==============================] - 83s 12ms/step - loss: 0.1351 - crf_viterbi_accuracy: 0.9320 - val_loss: 0.1323 - val_crf_viterbi_accuracy: 0.9261\n",
            "Epoch 7/30\n",
            "7034/7034 [==============================] - 83s 12ms/step - loss: 0.1096 - crf_viterbi_accuracy: 0.9355 - val_loss: 0.1141 - val_crf_viterbi_accuracy: 0.9277\n",
            "Epoch 8/30\n",
            "7034/7034 [==============================] - 85s 12ms/step - loss: 0.0892 - crf_viterbi_accuracy: 0.9396 - val_loss: 0.0951 - val_crf_viterbi_accuracy: 0.9284\n",
            "Epoch 9/30\n",
            "7034/7034 [==============================] - 82s 12ms/step - loss: 0.0734 - crf_viterbi_accuracy: 0.9409 - val_loss: 0.0801 - val_crf_viterbi_accuracy: 0.9327\n",
            "Epoch 10/30\n",
            "7034/7034 [==============================] - 82s 12ms/step - loss: 0.0593 - crf_viterbi_accuracy: 0.9444 - val_loss: 0.0727 - val_crf_viterbi_accuracy: 0.9259\n",
            "Epoch 11/30\n",
            "7034/7034 [==============================] - 85s 12ms/step - loss: 0.0478 - crf_viterbi_accuracy: 0.9461 - val_loss: 0.0605 - val_crf_viterbi_accuracy: 0.9326\n",
            "Train on 7034 samples, validate on 782 samples\n",
            "Epoch 1/30\n",
            "7034/7034 [==============================] - 86s 12ms/step - loss: 1.0260 - crf_viterbi_accuracy: 0.7790 - val_loss: 0.5783 - val_crf_viterbi_accuracy: 0.8404\n",
            "Epoch 2/30\n",
            "7034/7034 [==============================] - 83s 12ms/step - loss: 0.4433 - crf_viterbi_accuracy: 0.8725 - val_loss: 0.3866 - val_crf_viterbi_accuracy: 0.8903\n",
            "Epoch 3/30\n",
            "7034/7034 [==============================] - 86s 12ms/step - loss: 0.3164 - crf_viterbi_accuracy: 0.9019 - val_loss: 0.2870 - val_crf_viterbi_accuracy: 0.9029\n",
            "Epoch 4/30\n",
            "7034/7034 [==============================] - 84s 12ms/step - loss: 0.2398 - crf_viterbi_accuracy: 0.9165 - val_loss: 0.2201 - val_crf_viterbi_accuracy: 0.9129\n",
            "Epoch 5/30\n",
            "7034/7034 [==============================] - 84s 12ms/step - loss: 0.1854 - crf_viterbi_accuracy: 0.9258 - val_loss: 0.1818 - val_crf_viterbi_accuracy: 0.9205\n",
            "Epoch 6/30\n",
            "7034/7034 [==============================] - 83s 12ms/step - loss: 0.1477 - crf_viterbi_accuracy: 0.9324 - val_loss: 0.1422 - val_crf_viterbi_accuracy: 0.9255\n",
            "Epoch 7/30\n",
            "7034/7034 [==============================] - 82s 12ms/step - loss: 0.1212 - crf_viterbi_accuracy: 0.9358 - val_loss: 0.1206 - val_crf_viterbi_accuracy: 0.9310\n",
            "Epoch 8/30\n",
            "7034/7034 [==============================] - 83s 12ms/step - loss: 0.1009 - crf_viterbi_accuracy: 0.9382 - val_loss: 0.1033 - val_crf_viterbi_accuracy: 0.9306\n",
            "Epoch 9/30\n",
            "7034/7034 [==============================] - 83s 12ms/step - loss: 0.0841 - crf_viterbi_accuracy: 0.9404 - val_loss: 0.0914 - val_crf_viterbi_accuracy: 0.9292\n",
            "Train on 7034 samples, validate on 782 samples\n",
            "Epoch 1/30\n",
            "7034/7034 [==============================] - 86s 12ms/step - loss: 0.9758 - crf_viterbi_accuracy: 0.7791 - val_loss: 0.5724 - val_crf_viterbi_accuracy: 0.8386\n",
            "Epoch 2/30\n",
            "7034/7034 [==============================] - 82s 12ms/step - loss: 0.4315 - crf_viterbi_accuracy: 0.8657 - val_loss: 0.3699 - val_crf_viterbi_accuracy: 0.8835\n",
            "Epoch 3/30\n",
            "7034/7034 [==============================] - 83s 12ms/step - loss: 0.2961 - crf_viterbi_accuracy: 0.9007 - val_loss: 0.2657 - val_crf_viterbi_accuracy: 0.8994\n",
            "Epoch 4/30\n",
            "7034/7034 [==============================] - 85s 12ms/step - loss: 0.2196 - crf_viterbi_accuracy: 0.9150 - val_loss: 0.2051 - val_crf_viterbi_accuracy: 0.9118\n",
            "Epoch 5/30\n",
            "7034/7034 [==============================] - 82s 12ms/step - loss: 0.1705 - crf_viterbi_accuracy: 0.9238 - val_loss: 0.1648 - val_crf_viterbi_accuracy: 0.9197\n",
            "Epoch 6/30\n",
            "7034/7034 [==============================] - 83s 12ms/step - loss: 0.1359 - crf_viterbi_accuracy: 0.9294 - val_loss: 0.1333 - val_crf_viterbi_accuracy: 0.9234\n",
            "Epoch 7/30\n",
            "7034/7034 [==============================] - 83s 12ms/step - loss: 0.1104 - crf_viterbi_accuracy: 0.9334 - val_loss: 0.1103 - val_crf_viterbi_accuracy: 0.9261\n",
            "Epoch 8/30\n",
            "7034/7034 [==============================] - 83s 12ms/step - loss: 0.0901 - crf_viterbi_accuracy: 0.9372 - val_loss: 0.0972 - val_crf_viterbi_accuracy: 0.9250\n",
            "Epoch 9/30\n",
            "7034/7034 [==============================] - 83s 12ms/step - loss: 0.0734 - crf_viterbi_accuracy: 0.9392 - val_loss: 0.0832 - val_crf_viterbi_accuracy: 0.9268\n",
            "Epoch 10/30\n",
            "7034/7034 [==============================] - 83s 12ms/step - loss: 0.0594 - crf_viterbi_accuracy: 0.9416 - val_loss: 0.0750 - val_crf_viterbi_accuracy: 0.9202\n",
            "Epoch 11/30\n",
            "7034/7034 [==============================] - 84s 12ms/step - loss: 0.0471 - crf_viterbi_accuracy: 0.9430 - val_loss: 0.0581 - val_crf_viterbi_accuracy: 0.9291\n",
            "Epoch 12/30\n",
            "7034/7034 [==============================] - 84s 12ms/step - loss: 0.0359 - crf_viterbi_accuracy: 0.9455 - val_loss: 0.0541 - val_crf_viterbi_accuracy: 0.9256\n",
            "Epoch 13/30\n",
            "7034/7034 [==============================] - 83s 12ms/step - loss: 0.0259 - crf_viterbi_accuracy: 0.9476 - val_loss: 0.0434 - val_crf_viterbi_accuracy: 0.9293\n",
            "Epoch 14/30\n",
            "7034/7034 [==============================] - 84s 12ms/step - loss: 0.0169 - crf_viterbi_accuracy: 0.9491 - val_loss: 0.0361 - val_crf_viterbi_accuracy: 0.9299\n",
            "Epoch 15/30\n",
            "7034/7034 [==============================] - 82s 12ms/step - loss: 0.0080 - crf_viterbi_accuracy: 0.9509 - val_loss: 0.0260 - val_crf_viterbi_accuracy: 0.9294\n",
            "Epoch 16/30\n",
            "7034/7034 [==============================] - 82s 12ms/step - loss: -1.5383e-04 - crf_viterbi_accuracy: 0.9525 - val_loss: 0.0190 - val_crf_viterbi_accuracy: 0.9339\n",
            "Epoch 17/30\n",
            "7034/7034 [==============================] - 82s 12ms/step - loss: -0.0076 - crf_viterbi_accuracy: 0.9527 - val_loss: 0.0152 - val_crf_viterbi_accuracy: 0.9270\n",
            "Epoch 18/30\n",
            "7034/7034 [==============================] - 83s 12ms/step - loss: -0.0151 - crf_viterbi_accuracy: 0.9539 - val_loss: 0.0106 - val_crf_viterbi_accuracy: 0.9310\n"
          ],
          "name": "stdout"
        }
      ]
    },
    {
      "cell_type": "code",
      "metadata": {
        "id": "Bu8cy35IuNxr",
        "colab_type": "code",
        "colab": {}
      },
      "source": [
        "### Save the history parameters - accuracy, val_accuracy, loss and val_loss into a dataframe and save for further reference.\n",
        "eval_list = []\n",
        "for eachHistoryName, eachHistory in history_hyper_all:\n",
        "    for eachItem in zip(eachHistory.history['crf_viterbi_accuracy'],eachHistory.history['val_crf_viterbi_accuracy'],eachHistory.history['loss'],eachHistory.history['val_loss']):\n",
        "        eval_list.append(eachItem + (eachHistoryName,))\n",
        "\n",
        "df_history_eval = pd.DataFrame(eval_list)\n",
        "df_history_eval.to_csv('/tmp/history_eval.csv',index=False) "
      ],
      "execution_count": null,
      "outputs": []
    },
    {
      "cell_type": "code",
      "metadata": {
        "id": "jtCu0_x25cAh",
        "colab_type": "code",
        "colab": {
          "base_uri": "https://localhost:8080/",
          "height": 101
        },
        "outputId": "61332bac-f15e-4839-b729-f5f65e6131b0"
      },
      "source": [
        "## Verify the metrics - val_accuracy for different iterations\n",
        "df_history_eval = pd.read_csv('/tmp/history_eval.csv',encoding='utf-8')\n",
        "df_history_eval.columns = ['crf_viterbi_accuracy','val_crf_viterbi_accuracy','loss','val_loss','iteration']\n",
        "df_history_eval['epoch'] = df_history_eval.groupby(['iteration']).cumcount()\n",
        "df_history_eval.groupby(['iteration'])['val_crf_viterbi_accuracy'].max()"
      ],
      "execution_count": null,
      "outputs": [
        {
          "output_type": "execute_result",
          "data": {
            "text/plain": [
              "iteration\n",
              "Model_SpatialDropout_0.5_RecurDropout_0.1_MaxLen_45    0.932667\n",
              "Model_SpatialDropout_0.5_RecurDropout_0.3_MaxLen_45    0.931048\n",
              "Model_SpatialDropout_0.5_RecurDropout_0.5_MaxLen_45    0.933929\n",
              "Name: val_crf_viterbi_accuracy, dtype: float64"
            ]
          },
          "metadata": {
            "tags": []
          },
          "execution_count": 104
        }
      ]
    },
    {
      "cell_type": "markdown",
      "metadata": {
        "id": "f35oeSZ-y4H8",
        "colab_type": "text"
      },
      "source": [
        "Run the model on test dataset and check the performance"
      ]
    },
    {
      "cell_type": "code",
      "metadata": {
        "id": "DUD55nRGvZ7X",
        "colab_type": "code",
        "colab": {}
      },
      "source": [
        "## Read and prepare test data to run predictions\n",
        "with open (\"/tmp/trivia10k13test.bio\", \"r\") as f:\n",
        "    lines = [eachLine.rstrip() for eachLine in f]\n",
        "\n",
        "## Prepare word list, tag list and tuple of sentences\n",
        "testSentences=[]\n",
        "eachSentence=[]\n",
        "testWords=[]\n",
        "testTags=[]\n",
        "i=0\n",
        "testSentencesforDF = []\n",
        "for eachline in lines:\n",
        "  if eachline != '':\n",
        "    eachTag,eachWord = eachline.split('\\t')\n",
        "    testWords.append(eachWord)\n",
        "    testTags.append(eachTag)\n",
        "    eachSentence.append((eachWord,eachTag))\n",
        "    testSentencesforDF.append(('sentence'+str(i),eachWord,eachTag))\n",
        "  else:\n",
        "    i+=1\n",
        "    testSentences.append(eachSentence)\n",
        "    eachSentence = []\n",
        "  \n",
        "testWords = list(set(testWords))\n",
        "testTags = list(set(testTags))\n",
        "\n",
        "## Apply padding. For new words not seen in train dataset, treat it as OOV\n",
        "X_test = [[word2idx[w[0]] if w[0] in words else word2idx[\"OOV\"] for w in s] for s in testSentences]\n",
        "X_test = pad_sequences(maxlen=max_len,sequences=X_test, padding='post', value=num_words-1)\n",
        "\n",
        "y_test = [[tags2idx[w[1]] for w in s] for s in testSentences]\n",
        "y_test = pad_sequences(maxlen=max_len, sequences=y_test, padding='post', value=tags2idx[\"O\"])\n",
        "y_test = [to_categorical(i, num_classes=num_tags) for i in y_test]"
      ],
      "execution_count": null,
      "outputs": []
    },
    {
      "cell_type": "code",
      "metadata": {
        "id": "qIO6WAkKUNyu",
        "colab_type": "code",
        "colab": {}
      },
      "source": [
        ""
      ],
      "execution_count": null,
      "outputs": []
    },
    {
      "cell_type": "code",
      "metadata": {
        "id": "UYZUGgwjp_JC",
        "colab_type": "code",
        "colab": {
          "base_uri": "https://localhost:8080/",
          "height": 50
        },
        "outputId": "9dcea4df-c351-4e90-fc50-db78d0299554"
      },
      "source": [
        "##Evaluate the model\n",
        "model.evaluate(X_test,np.array(y_test))"
      ],
      "execution_count": null,
      "outputs": [
        {
          "output_type": "stream",
          "text": [
            "1953/1953 [==============================] - 3s 2ms/step\n"
          ],
          "name": "stdout"
        },
        {
          "output_type": "execute_result",
          "data": {
            "text/plain": [
              "[0.09426452564547688, 0.9126344323158264]"
            ]
          },
          "metadata": {
            "tags": []
          },
          "execution_count": 106
        }
      ]
    },
    {
      "cell_type": "code",
      "metadata": {
        "id": "T3o1S5m-thQr",
        "colab_type": "code",
        "colab": {
          "base_uri": "https://localhost:8080/",
          "height": 168
        },
        "outputId": "54a815c7-8b20-434c-b260-96b3ffaa8663"
      },
      "source": [
        "!pip install seqeval"
      ],
      "execution_count": null,
      "outputs": [
        {
          "output_type": "stream",
          "text": [
            "Requirement already satisfied: seqeval in /usr/local/lib/python3.6/dist-packages (0.0.12)\n",
            "Requirement already satisfied: Keras>=2.2.4 in /usr/local/lib/python3.6/dist-packages (from seqeval) (2.3.1)\n",
            "Requirement already satisfied: numpy>=1.14.0 in /usr/local/lib/python3.6/dist-packages (from seqeval) (1.18.5)\n",
            "Requirement already satisfied: six>=1.9.0 in /usr/local/lib/python3.6/dist-packages (from Keras>=2.2.4->seqeval) (1.15.0)\n",
            "Requirement already satisfied: pyyaml in /usr/local/lib/python3.6/dist-packages (from Keras>=2.2.4->seqeval) (3.13)\n",
            "Requirement already satisfied: keras-applications>=1.0.6 in /usr/local/lib/python3.6/dist-packages (from Keras>=2.2.4->seqeval) (1.0.8)\n",
            "Requirement already satisfied: h5py in /usr/local/lib/python3.6/dist-packages (from Keras>=2.2.4->seqeval) (2.10.0)\n",
            "Requirement already satisfied: keras-preprocessing>=1.0.5 in /usr/local/lib/python3.6/dist-packages (from Keras>=2.2.4->seqeval) (1.1.2)\n",
            "Requirement already satisfied: scipy>=0.14 in /usr/local/lib/python3.6/dist-packages (from Keras>=2.2.4->seqeval) (1.4.1)\n"
          ],
          "name": "stdout"
        }
      ]
    },
    {
      "cell_type": "code",
      "metadata": {
        "id": "IBe5ruAYLAIt",
        "colab_type": "code",
        "colab": {}
      },
      "source": [
        "loaded_model = model"
      ],
      "execution_count": null,
      "outputs": []
    },
    {
      "cell_type": "code",
      "metadata": {
        "id": "ifWZNQITp_Kv",
        "colab_type": "code",
        "colab": {}
      },
      "source": [
        "## Prepare the csv file with predictions and actuals\n",
        "\n",
        "predvsact=[]\n",
        "p = loaded_model.predict(np.array(X_test))\n",
        "for i in range(len(X_test)):\n",
        "  #print(i)\n",
        "  eachPred = p[i]\n",
        "  eachPred = np.argmax(eachPred, axis=-1)\n",
        "  for w, act, pred in zip(X_test[i], y_test[i], eachPred):\n",
        "      if words[w - 1] != \"PADword\":\n",
        "        predvsact.append(('sentence'+str(i),words[i-1], tags[pred], tags[list(act).index(1)]))\n",
        "  #break\n",
        "\n",
        "df_predvsact = pd.DataFrame(predvsact,columns=['sentence#','word','predicted','actual'])\n",
        "df_predvsact['wordcount'] = df_predvsact.groupby(['sentence#']).cumcount()\n",
        "\n",
        "df_testSentences = pd.DataFrame(testSentencesforDF,columns=['sentence#','word_test','tag'])\n",
        "df_testSentences['wordcount'] = df_testSentences.groupby(['sentence#']).cumcount()\n",
        "\n",
        "df_test_predvsact = pd.merge(df_testSentences,df_predvsact,how='inner',on=['sentence#','wordcount'],sort=False)\n",
        "\n",
        "#df_test_predvsact = df_test_predvsact.drop(['tag','wordcount'],axis=1)\n",
        "df_test_predvsact = df_test_predvsact.rename(columns={'word':'wordconv'})\n",
        "\n",
        "df_test_predvsact.to_csv('/tmp/testdataset_withpred.csv',index=False)"
      ],
      "execution_count": null,
      "outputs": []
    },
    {
      "cell_type": "code",
      "metadata": {
        "id": "XKJvfdUgUrdx",
        "colab_type": "code",
        "colab": {
          "base_uri": "https://localhost:8080/",
          "height": 70
        },
        "outputId": "cced34dc-ae4e-42cd-8e7f-9619acafb04b"
      },
      "source": [
        "df_classification_report = pd.DataFrame(classification_report(df_test_predvsact['actual'],df_test_predvsact['predicted'],output_dict=True)).transpose()"
      ],
      "execution_count": null,
      "outputs": [
        {
          "output_type": "stream",
          "text": [
            "/usr/local/lib/python3.6/dist-packages/sklearn/metrics/_classification.py:1272: UndefinedMetricWarning: Precision and F-score are ill-defined and being set to 0.0 in labels with no predicted samples. Use `zero_division` parameter to control this behavior.\n",
            "  _warn_prf(average, modifier, msg_start, len(result))\n"
          ],
          "name": "stderr"
        }
      ]
    },
    {
      "cell_type": "code",
      "metadata": {
        "id": "lDdqu-QfUx5p",
        "colab_type": "code",
        "colab": {
          "base_uri": "https://localhost:8080/",
          "height": 876
        },
        "outputId": "128b04bd-5e44-4aa1-d6d8-0bd7418ede8d"
      },
      "source": [
        "df_classification_report"
      ],
      "execution_count": null,
      "outputs": [
        {
          "output_type": "execute_result",
          "data": {
            "text/html": [
              "<div>\n",
              "<style scoped>\n",
              "    .dataframe tbody tr th:only-of-type {\n",
              "        vertical-align: middle;\n",
              "    }\n",
              "\n",
              "    .dataframe tbody tr th {\n",
              "        vertical-align: top;\n",
              "    }\n",
              "\n",
              "    .dataframe thead th {\n",
              "        text-align: right;\n",
              "    }\n",
              "</style>\n",
              "<table border=\"1\" class=\"dataframe\">\n",
              "  <thead>\n",
              "    <tr style=\"text-align: right;\">\n",
              "      <th></th>\n",
              "      <th>precision</th>\n",
              "      <th>recall</th>\n",
              "      <th>f1-score</th>\n",
              "      <th>support</th>\n",
              "    </tr>\n",
              "  </thead>\n",
              "  <tbody>\n",
              "    <tr>\n",
              "      <th>B-Actor</th>\n",
              "      <td>0.892188</td>\n",
              "      <td>0.897799</td>\n",
              "      <td>0.894984</td>\n",
              "      <td>1272.00000</td>\n",
              "    </tr>\n",
              "    <tr>\n",
              "      <th>B-Award</th>\n",
              "      <td>0.764706</td>\n",
              "      <td>0.590909</td>\n",
              "      <td>0.666667</td>\n",
              "      <td>66.00000</td>\n",
              "    </tr>\n",
              "    <tr>\n",
              "      <th>B-Character_Name</th>\n",
              "      <td>0.441989</td>\n",
              "      <td>0.283688</td>\n",
              "      <td>0.345572</td>\n",
              "      <td>282.00000</td>\n",
              "    </tr>\n",
              "    <tr>\n",
              "      <th>B-Director</th>\n",
              "      <td>0.792237</td>\n",
              "      <td>0.816471</td>\n",
              "      <td>0.804171</td>\n",
              "      <td>425.00000</td>\n",
              "    </tr>\n",
              "    <tr>\n",
              "      <th>B-Genre</th>\n",
              "      <td>0.758178</td>\n",
              "      <td>0.822560</td>\n",
              "      <td>0.789058</td>\n",
              "      <td>789.00000</td>\n",
              "    </tr>\n",
              "    <tr>\n",
              "      <th>B-Opinion</th>\n",
              "      <td>0.306122</td>\n",
              "      <td>0.076923</td>\n",
              "      <td>0.122951</td>\n",
              "      <td>195.00000</td>\n",
              "    </tr>\n",
              "    <tr>\n",
              "      <th>B-Origin</th>\n",
              "      <td>0.481481</td>\n",
              "      <td>0.342105</td>\n",
              "      <td>0.400000</td>\n",
              "      <td>190.00000</td>\n",
              "    </tr>\n",
              "    <tr>\n",
              "      <th>B-Plot</th>\n",
              "      <td>0.473762</td>\n",
              "      <td>0.406468</td>\n",
              "      <td>0.437543</td>\n",
              "      <td>1577.00000</td>\n",
              "    </tr>\n",
              "    <tr>\n",
              "      <th>B-Quote</th>\n",
              "      <td>0.000000</td>\n",
              "      <td>0.000000</td>\n",
              "      <td>0.000000</td>\n",
              "      <td>46.00000</td>\n",
              "    </tr>\n",
              "    <tr>\n",
              "      <th>B-Relationship</th>\n",
              "      <td>0.916667</td>\n",
              "      <td>0.064706</td>\n",
              "      <td>0.120879</td>\n",
              "      <td>170.00000</td>\n",
              "    </tr>\n",
              "    <tr>\n",
              "      <th>B-Soundtrack</th>\n",
              "      <td>0.000000</td>\n",
              "      <td>0.000000</td>\n",
              "      <td>0.000000</td>\n",
              "      <td>8.00000</td>\n",
              "    </tr>\n",
              "    <tr>\n",
              "      <th>B-Year</th>\n",
              "      <td>0.924394</td>\n",
              "      <td>0.981818</td>\n",
              "      <td>0.952241</td>\n",
              "      <td>660.00000</td>\n",
              "    </tr>\n",
              "    <tr>\n",
              "      <th>I-Actor</th>\n",
              "      <td>0.905622</td>\n",
              "      <td>0.872340</td>\n",
              "      <td>0.888670</td>\n",
              "      <td>1551.00000</td>\n",
              "    </tr>\n",
              "    <tr>\n",
              "      <th>I-Award</th>\n",
              "      <td>0.833333</td>\n",
              "      <td>0.646259</td>\n",
              "      <td>0.727969</td>\n",
              "      <td>147.00000</td>\n",
              "    </tr>\n",
              "    <tr>\n",
              "      <th>I-Character_Name</th>\n",
              "      <td>0.465909</td>\n",
              "      <td>0.180617</td>\n",
              "      <td>0.260317</td>\n",
              "      <td>227.00000</td>\n",
              "    </tr>\n",
              "    <tr>\n",
              "      <th>I-Director</th>\n",
              "      <td>0.826196</td>\n",
              "      <td>0.798054</td>\n",
              "      <td>0.811881</td>\n",
              "      <td>411.00000</td>\n",
              "    </tr>\n",
              "    <tr>\n",
              "      <th>I-Genre</th>\n",
              "      <td>0.772556</td>\n",
              "      <td>0.755515</td>\n",
              "      <td>0.763941</td>\n",
              "      <td>544.00000</td>\n",
              "    </tr>\n",
              "    <tr>\n",
              "      <th>I-Opinion</th>\n",
              "      <td>0.000000</td>\n",
              "      <td>0.000000</td>\n",
              "      <td>0.000000</td>\n",
              "      <td>143.00000</td>\n",
              "    </tr>\n",
              "    <tr>\n",
              "      <th>I-Origin</th>\n",
              "      <td>0.675639</td>\n",
              "      <td>0.621287</td>\n",
              "      <td>0.647324</td>\n",
              "      <td>808.00000</td>\n",
              "    </tr>\n",
              "    <tr>\n",
              "      <th>I-Plot</th>\n",
              "      <td>0.925044</td>\n",
              "      <td>0.760112</td>\n",
              "      <td>0.834507</td>\n",
              "      <td>14661.00000</td>\n",
              "    </tr>\n",
              "    <tr>\n",
              "      <th>I-Quote</th>\n",
              "      <td>0.787234</td>\n",
              "      <td>0.226300</td>\n",
              "      <td>0.351544</td>\n",
              "      <td>327.00000</td>\n",
              "    </tr>\n",
              "    <tr>\n",
              "      <th>I-Relationship</th>\n",
              "      <td>0.627119</td>\n",
              "      <td>0.128472</td>\n",
              "      <td>0.213256</td>\n",
              "      <td>288.00000</td>\n",
              "    </tr>\n",
              "    <tr>\n",
              "      <th>I-Soundtrack</th>\n",
              "      <td>0.000000</td>\n",
              "      <td>0.000000</td>\n",
              "      <td>0.000000</td>\n",
              "      <td>30.00000</td>\n",
              "    </tr>\n",
              "    <tr>\n",
              "      <th>I-Year</th>\n",
              "      <td>0.000000</td>\n",
              "      <td>0.000000</td>\n",
              "      <td>0.000000</td>\n",
              "      <td>44.00000</td>\n",
              "    </tr>\n",
              "    <tr>\n",
              "      <th>O</th>\n",
              "      <td>0.709528</td>\n",
              "      <td>0.922603</td>\n",
              "      <td>0.802157</td>\n",
              "      <td>14109.00000</td>\n",
              "    </tr>\n",
              "    <tr>\n",
              "      <th>accuracy</th>\n",
              "      <td>0.786220</td>\n",
              "      <td>0.786220</td>\n",
              "      <td>0.786220</td>\n",
              "      <td>0.78622</td>\n",
              "    </tr>\n",
              "    <tr>\n",
              "      <th>macro avg</th>\n",
              "      <td>0.571196</td>\n",
              "      <td>0.447800</td>\n",
              "      <td>0.473425</td>\n",
              "      <td>38970.00000</td>\n",
              "    </tr>\n",
              "    <tr>\n",
              "      <th>weighted avg</th>\n",
              "      <td>0.791855</td>\n",
              "      <td>0.786220</td>\n",
              "      <td>0.775690</td>\n",
              "      <td>38970.00000</td>\n",
              "    </tr>\n",
              "  </tbody>\n",
              "</table>\n",
              "</div>"
            ],
            "text/plain": [
              "                  precision    recall  f1-score      support\n",
              "B-Actor            0.892188  0.897799  0.894984   1272.00000\n",
              "B-Award            0.764706  0.590909  0.666667     66.00000\n",
              "B-Character_Name   0.441989  0.283688  0.345572    282.00000\n",
              "B-Director         0.792237  0.816471  0.804171    425.00000\n",
              "B-Genre            0.758178  0.822560  0.789058    789.00000\n",
              "B-Opinion          0.306122  0.076923  0.122951    195.00000\n",
              "B-Origin           0.481481  0.342105  0.400000    190.00000\n",
              "B-Plot             0.473762  0.406468  0.437543   1577.00000\n",
              "B-Quote            0.000000  0.000000  0.000000     46.00000\n",
              "B-Relationship     0.916667  0.064706  0.120879    170.00000\n",
              "B-Soundtrack       0.000000  0.000000  0.000000      8.00000\n",
              "B-Year             0.924394  0.981818  0.952241    660.00000\n",
              "I-Actor            0.905622  0.872340  0.888670   1551.00000\n",
              "I-Award            0.833333  0.646259  0.727969    147.00000\n",
              "I-Character_Name   0.465909  0.180617  0.260317    227.00000\n",
              "I-Director         0.826196  0.798054  0.811881    411.00000\n",
              "I-Genre            0.772556  0.755515  0.763941    544.00000\n",
              "I-Opinion          0.000000  0.000000  0.000000    143.00000\n",
              "I-Origin           0.675639  0.621287  0.647324    808.00000\n",
              "I-Plot             0.925044  0.760112  0.834507  14661.00000\n",
              "I-Quote            0.787234  0.226300  0.351544    327.00000\n",
              "I-Relationship     0.627119  0.128472  0.213256    288.00000\n",
              "I-Soundtrack       0.000000  0.000000  0.000000     30.00000\n",
              "I-Year             0.000000  0.000000  0.000000     44.00000\n",
              "O                  0.709528  0.922603  0.802157  14109.00000\n",
              "accuracy           0.786220  0.786220  0.786220      0.78622\n",
              "macro avg          0.571196  0.447800  0.473425  38970.00000\n",
              "weighted avg       0.791855  0.786220  0.775690  38970.00000"
            ]
          },
          "metadata": {
            "tags": []
          },
          "execution_count": 112
        }
      ]
    },
    {
      "cell_type": "code",
      "metadata": {
        "id": "7kgRvNI1U4Df",
        "colab_type": "code",
        "colab": {
          "base_uri": "https://localhost:8080/",
          "height": 34
        },
        "outputId": "634277be-6b71-493a-cb25-fd05c99d86e8"
      },
      "source": [
        "accuracy_score(df_test_predvsact['actual'],df_test_predvsact['predicted'])"
      ],
      "execution_count": null,
      "outputs": [
        {
          "output_type": "execute_result",
          "data": {
            "text/plain": [
              "0.786220169361047"
            ]
          },
          "metadata": {
            "tags": []
          },
          "execution_count": 113
        }
      ]
    },
    {
      "cell_type": "code",
      "metadata": {
        "id": "Ls2pBKckZ0z9",
        "colab_type": "code",
        "colab": {}
      },
      "source": [
        ""
      ],
      "execution_count": null,
      "outputs": []
    },
    {
      "cell_type": "markdown",
      "metadata": {
        "id": "rfEW1U7-z7uL",
        "colab_type": "text"
      },
      "source": [
        "Others"
      ]
    },
    {
      "cell_type": "code",
      "metadata": {
        "id": "sB8PRWuRp_LY",
        "colab_type": "code",
        "colab": {
          "resources": {
            "http://localhost:8080/nbextensions/google.colab/files.js": {
              "data": "Ly8gQ29weXJpZ2h0IDIwMTcgR29vZ2xlIExMQwovLwovLyBMaWNlbnNlZCB1bmRlciB0aGUgQXBhY2hlIExpY2Vuc2UsIFZlcnNpb24gMi4wICh0aGUgIkxpY2Vuc2UiKTsKLy8geW91IG1heSBub3QgdXNlIHRoaXMgZmlsZSBleGNlcHQgaW4gY29tcGxpYW5jZSB3aXRoIHRoZSBMaWNlbnNlLgovLyBZb3UgbWF5IG9idGFpbiBhIGNvcHkgb2YgdGhlIExpY2Vuc2UgYXQKLy8KLy8gICAgICBodHRwOi8vd3d3LmFwYWNoZS5vcmcvbGljZW5zZXMvTElDRU5TRS0yLjAKLy8KLy8gVW5sZXNzIHJlcXVpcmVkIGJ5IGFwcGxpY2FibGUgbGF3IG9yIGFncmVlZCB0byBpbiB3cml0aW5nLCBzb2Z0d2FyZQovLyBkaXN0cmlidXRlZCB1bmRlciB0aGUgTGljZW5zZSBpcyBkaXN0cmlidXRlZCBvbiBhbiAiQVMgSVMiIEJBU0lTLAovLyBXSVRIT1VUIFdBUlJBTlRJRVMgT1IgQ09ORElUSU9OUyBPRiBBTlkgS0lORCwgZWl0aGVyIGV4cHJlc3Mgb3IgaW1wbGllZC4KLy8gU2VlIHRoZSBMaWNlbnNlIGZvciB0aGUgc3BlY2lmaWMgbGFuZ3VhZ2UgZ292ZXJuaW5nIHBlcm1pc3Npb25zIGFuZAovLyBsaW1pdGF0aW9ucyB1bmRlciB0aGUgTGljZW5zZS4KCi8qKgogKiBAZmlsZW92ZXJ2aWV3IEhlbHBlcnMgZm9yIGdvb2dsZS5jb2xhYiBQeXRob24gbW9kdWxlLgogKi8KKGZ1bmN0aW9uKHNjb3BlKSB7CmZ1bmN0aW9uIHNwYW4odGV4dCwgc3R5bGVBdHRyaWJ1dGVzID0ge30pIHsKICBjb25zdCBlbGVtZW50ID0gZG9jdW1lbnQuY3JlYXRlRWxlbWVudCgnc3BhbicpOwogIGVsZW1lbnQudGV4dENvbnRlbnQgPSB0ZXh0OwogIGZvciAoY29uc3Qga2V5IG9mIE9iamVjdC5rZXlzKHN0eWxlQXR0cmlidXRlcykpIHsKICAgIGVsZW1lbnQuc3R5bGVba2V5XSA9IHN0eWxlQXR0cmlidXRlc1trZXldOwogIH0KICByZXR1cm4gZWxlbWVudDsKfQoKLy8gTWF4IG51bWJlciBvZiBieXRlcyB3aGljaCB3aWxsIGJlIHVwbG9hZGVkIGF0IGEgdGltZS4KY29uc3QgTUFYX1BBWUxPQURfU0laRSA9IDEwMCAqIDEwMjQ7CgpmdW5jdGlvbiBfdXBsb2FkRmlsZXMoaW5wdXRJZCwgb3V0cHV0SWQpIHsKICBjb25zdCBzdGVwcyA9IHVwbG9hZEZpbGVzU3RlcChpbnB1dElkLCBvdXRwdXRJZCk7CiAgY29uc3Qgb3V0cHV0RWxlbWVudCA9IGRvY3VtZW50LmdldEVsZW1lbnRCeUlkKG91dHB1dElkKTsKICAvLyBDYWNoZSBzdGVwcyBvbiB0aGUgb3V0cHV0RWxlbWVudCB0byBtYWtlIGl0IGF2YWlsYWJsZSBmb3IgdGhlIG5leHQgY2FsbAogIC8vIHRvIHVwbG9hZEZpbGVzQ29udGludWUgZnJvbSBQeXRob24uCiAgb3V0cHV0RWxlbWVudC5zdGVwcyA9IHN0ZXBzOwoKICByZXR1cm4gX3VwbG9hZEZpbGVzQ29udGludWUob3V0cHV0SWQpOwp9CgovLyBUaGlzIGlzIHJvdWdobHkgYW4gYXN5bmMgZ2VuZXJhdG9yIChub3Qgc3VwcG9ydGVkIGluIHRoZSBicm93c2VyIHlldCksCi8vIHdoZXJlIHRoZXJlIGFyZSBtdWx0aXBsZSBhc3luY2hyb25vdXMgc3RlcHMgYW5kIHRoZSBQeXRob24gc2lkZSBpcyBnb2luZwovLyB0byBwb2xsIGZvciBjb21wbGV0aW9uIG9mIGVhY2ggc3RlcC4KLy8gVGhpcyB1c2VzIGEgUHJvbWlzZSB0byBibG9jayB0aGUgcHl0aG9uIHNpZGUgb24gY29tcGxldGlvbiBvZiBlYWNoIHN0ZXAsCi8vIHRoZW4gcGFzc2VzIHRoZSByZXN1bHQgb2YgdGhlIHByZXZpb3VzIHN0ZXAgYXMgdGhlIGlucHV0IHRvIHRoZSBuZXh0IHN0ZXAuCmZ1bmN0aW9uIF91cGxvYWRGaWxlc0NvbnRpbnVlKG91dHB1dElkKSB7CiAgY29uc3Qgb3V0cHV0RWxlbWVudCA9IGRvY3VtZW50LmdldEVsZW1lbnRCeUlkKG91dHB1dElkKTsKICBjb25zdCBzdGVwcyA9IG91dHB1dEVsZW1lbnQuc3RlcHM7CgogIGNvbnN0IG5leHQgPSBzdGVwcy5uZXh0KG91dHB1dEVsZW1lbnQubGFzdFByb21pc2VWYWx1ZSk7CiAgcmV0dXJuIFByb21pc2UucmVzb2x2ZShuZXh0LnZhbHVlLnByb21pc2UpLnRoZW4oKHZhbHVlKSA9PiB7CiAgICAvLyBDYWNoZSB0aGUgbGFzdCBwcm9taXNlIHZhbHVlIHRvIG1ha2UgaXQgYXZhaWxhYmxlIHRvIHRoZSBuZXh0CiAgICAvLyBzdGVwIG9mIHRoZSBnZW5lcmF0b3IuCiAgICBvdXRwdXRFbGVtZW50Lmxhc3RQcm9taXNlVmFsdWUgPSB2YWx1ZTsKICAgIHJldHVybiBuZXh0LnZhbHVlLnJlc3BvbnNlOwogIH0pOwp9CgovKioKICogR2VuZXJhdG9yIGZ1bmN0aW9uIHdoaWNoIGlzIGNhbGxlZCBiZXR3ZWVuIGVhY2ggYXN5bmMgc3RlcCBvZiB0aGUgdXBsb2FkCiAqIHByb2Nlc3MuCiAqIEBwYXJhbSB7c3RyaW5nfSBpbnB1dElkIEVsZW1lbnQgSUQgb2YgdGhlIGlucHV0IGZpbGUgcGlja2VyIGVsZW1lbnQuCiAqIEBwYXJhbSB7c3RyaW5nfSBvdXRwdXRJZCBFbGVtZW50IElEIG9mIHRoZSBvdXRwdXQgZGlzcGxheS4KICogQHJldHVybiB7IUl0ZXJhYmxlPCFPYmplY3Q+fSBJdGVyYWJsZSBvZiBuZXh0IHN0ZXBzLgogKi8KZnVuY3Rpb24qIHVwbG9hZEZpbGVzU3RlcChpbnB1dElkLCBvdXRwdXRJZCkgewogIGNvbnN0IGlucHV0RWxlbWVudCA9IGRvY3VtZW50LmdldEVsZW1lbnRCeUlkKGlucHV0SWQpOwogIGlucHV0RWxlbWVudC5kaXNhYmxlZCA9IGZhbHNlOwoKICBjb25zdCBvdXRwdXRFbGVtZW50ID0gZG9jdW1lbnQuZ2V0RWxlbWVudEJ5SWQob3V0cHV0SWQpOwogIG91dHB1dEVsZW1lbnQuaW5uZXJIVE1MID0gJyc7CgogIGNvbnN0IHBpY2tlZFByb21pc2UgPSBuZXcgUHJvbWlzZSgocmVzb2x2ZSkgPT4gewogICAgaW5wdXRFbGVtZW50LmFkZEV2ZW50TGlzdGVuZXIoJ2NoYW5nZScsIChlKSA9PiB7CiAgICAgIHJlc29sdmUoZS50YXJnZXQuZmlsZXMpOwogICAgfSk7CiAgfSk7CgogIGNvbnN0IGNhbmNlbCA9IGRvY3VtZW50LmNyZWF0ZUVsZW1lbnQoJ2J1dHRvbicpOwogIGlucHV0RWxlbWVudC5wYXJlbnRFbGVtZW50LmFwcGVuZENoaWxkKGNhbmNlbCk7CiAgY2FuY2VsLnRleHRDb250ZW50ID0gJ0NhbmNlbCB1cGxvYWQnOwogIGNvbnN0IGNhbmNlbFByb21pc2UgPSBuZXcgUHJvbWlzZSgocmVzb2x2ZSkgPT4gewogICAgY2FuY2VsLm9uY2xpY2sgPSAoKSA9PiB7CiAgICAgIHJlc29sdmUobnVsbCk7CiAgICB9OwogIH0pOwoKICAvLyBXYWl0IGZvciB0aGUgdXNlciB0byBwaWNrIHRoZSBmaWxlcy4KICBjb25zdCBmaWxlcyA9IHlpZWxkIHsKICAgIHByb21pc2U6IFByb21pc2UucmFjZShbcGlja2VkUHJvbWlzZSwgY2FuY2VsUHJvbWlzZV0pLAogICAgcmVzcG9uc2U6IHsKICAgICAgYWN0aW9uOiAnc3RhcnRpbmcnLAogICAgfQogIH07CgogIGNhbmNlbC5yZW1vdmUoKTsKCiAgLy8gRGlzYWJsZSB0aGUgaW5wdXQgZWxlbWVudCBzaW5jZSBmdXJ0aGVyIHBpY2tzIGFyZSBub3QgYWxsb3dlZC4KICBpbnB1dEVsZW1lbnQuZGlzYWJsZWQgPSB0cnVlOwoKICBpZiAoIWZpbGVzKSB7CiAgICByZXR1cm4gewogICAgICByZXNwb25zZTogewogICAgICAgIGFjdGlvbjogJ2NvbXBsZXRlJywKICAgICAgfQogICAgfTsKICB9CgogIGZvciAoY29uc3QgZmlsZSBvZiBmaWxlcykgewogICAgY29uc3QgbGkgPSBkb2N1bWVudC5jcmVhdGVFbGVtZW50KCdsaScpOwogICAgbGkuYXBwZW5kKHNwYW4oZmlsZS5uYW1lLCB7Zm9udFdlaWdodDogJ2JvbGQnfSkpOwogICAgbGkuYXBwZW5kKHNwYW4oCiAgICAgICAgYCgke2ZpbGUudHlwZSB8fCAnbi9hJ30pIC0gJHtmaWxlLnNpemV9IGJ5dGVzLCBgICsKICAgICAgICBgbGFzdCBtb2RpZmllZDogJHsKICAgICAgICAgICAgZmlsZS5sYXN0TW9kaWZpZWREYXRlID8gZmlsZS5sYXN0TW9kaWZpZWREYXRlLnRvTG9jYWxlRGF0ZVN0cmluZygpIDoKICAgICAgICAgICAgICAgICAgICAgICAgICAgICAgICAgICAgJ24vYSd9IC0gYCkpOwogICAgY29uc3QgcGVyY2VudCA9IHNwYW4oJzAlIGRvbmUnKTsKICAgIGxpLmFwcGVuZENoaWxkKHBlcmNlbnQpOwoKICAgIG91dHB1dEVsZW1lbnQuYXBwZW5kQ2hpbGQobGkpOwoKICAgIGNvbnN0IGZpbGVEYXRhUHJvbWlzZSA9IG5ldyBQcm9taXNlKChyZXNvbHZlKSA9PiB7CiAgICAgIGNvbnN0IHJlYWRlciA9IG5ldyBGaWxlUmVhZGVyKCk7CiAgICAgIHJlYWRlci5vbmxvYWQgPSAoZSkgPT4gewogICAgICAgIHJlc29sdmUoZS50YXJnZXQucmVzdWx0KTsKICAgICAgfTsKICAgICAgcmVhZGVyLnJlYWRBc0FycmF5QnVmZmVyKGZpbGUpOwogICAgfSk7CiAgICAvLyBXYWl0IGZvciB0aGUgZGF0YSB0byBiZSByZWFkeS4KICAgIGxldCBmaWxlRGF0YSA9IHlpZWxkIHsKICAgICAgcHJvbWlzZTogZmlsZURhdGFQcm9taXNlLAogICAgICByZXNwb25zZTogewogICAgICAgIGFjdGlvbjogJ2NvbnRpbnVlJywKICAgICAgfQogICAgfTsKCiAgICAvLyBVc2UgYSBjaHVua2VkIHNlbmRpbmcgdG8gYXZvaWQgbWVzc2FnZSBzaXplIGxpbWl0cy4gU2VlIGIvNjIxMTU2NjAuCiAgICBsZXQgcG9zaXRpb24gPSAwOwogICAgd2hpbGUgKHBvc2l0aW9uIDwgZmlsZURhdGEuYnl0ZUxlbmd0aCkgewogICAgICBjb25zdCBsZW5ndGggPSBNYXRoLm1pbihmaWxlRGF0YS5ieXRlTGVuZ3RoIC0gcG9zaXRpb24sIE1BWF9QQVlMT0FEX1NJWkUpOwogICAgICBjb25zdCBjaHVuayA9IG5ldyBVaW50OEFycmF5KGZpbGVEYXRhLCBwb3NpdGlvbiwgbGVuZ3RoKTsKICAgICAgcG9zaXRpb24gKz0gbGVuZ3RoOwoKICAgICAgY29uc3QgYmFzZTY0ID0gYnRvYShTdHJpbmcuZnJvbUNoYXJDb2RlLmFwcGx5KG51bGwsIGNodW5rKSk7CiAgICAgIHlpZWxkIHsKICAgICAgICByZXNwb25zZTogewogICAgICAgICAgYWN0aW9uOiAnYXBwZW5kJywKICAgICAgICAgIGZpbGU6IGZpbGUubmFtZSwKICAgICAgICAgIGRhdGE6IGJhc2U2NCwKICAgICAgICB9LAogICAgICB9OwogICAgICBwZXJjZW50LnRleHRDb250ZW50ID0KICAgICAgICAgIGAke01hdGgucm91bmQoKHBvc2l0aW9uIC8gZmlsZURhdGEuYnl0ZUxlbmd0aCkgKiAxMDApfSUgZG9uZWA7CiAgICB9CiAgfQoKICAvLyBBbGwgZG9uZS4KICB5aWVsZCB7CiAgICByZXNwb25zZTogewogICAgICBhY3Rpb246ICdjb21wbGV0ZScsCiAgICB9CiAgfTsKfQoKc2NvcGUuZ29vZ2xlID0gc2NvcGUuZ29vZ2xlIHx8IHt9OwpzY29wZS5nb29nbGUuY29sYWIgPSBzY29wZS5nb29nbGUuY29sYWIgfHwge307CnNjb3BlLmdvb2dsZS5jb2xhYi5fZmlsZXMgPSB7CiAgX3VwbG9hZEZpbGVzLAogIF91cGxvYWRGaWxlc0NvbnRpbnVlLAp9Owp9KShzZWxmKTsK",
              "ok": true,
              "headers": [
                [
                  "content-type",
                  "application/javascript"
                ]
              ],
              "status": 200,
              "status_text": ""
            }
          },
          "base_uri": "https://localhost:8080/",
          "height": 39
        },
        "outputId": "7381e99f-2446-41e4-8ef3-6051bce5a7dd"
      },
      "source": [
        "from google.colab import files\n",
        "uploaded = files.upload()"
      ],
      "execution_count": null,
      "outputs": [
        {
          "output_type": "display_data",
          "data": {
            "text/html": [
              "\n",
              "     <input type=\"file\" id=\"files-b0b7e0c5-54b6-483f-990b-0546ca727326\" name=\"files[]\" multiple disabled\n",
              "        style=\"border:none\" />\n",
              "     <output id=\"result-b0b7e0c5-54b6-483f-990b-0546ca727326\">\n",
              "      Upload widget is only available when the cell has been executed in the\n",
              "      current browser session. Please rerun this cell to enable.\n",
              "      </output>\n",
              "      <script src=\"/nbextensions/google.colab/files.js\"></script> "
            ],
            "text/plain": [
              "<IPython.core.display.HTML object>"
            ]
          },
          "metadata": {
            "tags": []
          }
        }
      ]
    },
    {
      "cell_type": "code",
      "metadata": {
        "id": "zucIXZepaehU",
        "colab_type": "code",
        "colab": {}
      },
      "source": [
        ""
      ],
      "execution_count": null,
      "outputs": []
    }
  ]
}