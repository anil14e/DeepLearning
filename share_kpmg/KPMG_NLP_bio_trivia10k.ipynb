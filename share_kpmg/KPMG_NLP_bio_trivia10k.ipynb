{
  "nbformat": 4,
  "nbformat_minor": 0,
  "metadata": {
    "accelerator": "GPU",
    "colab": {
      "name": "KPMG_NLP_bio_trivia10k.ipynb",
      "provenance": []
    },
    "kernelspec": {
      "display_name": "Python 3",
      "language": "python",
      "name": "python3"
    },
    "language_info": {
      "codemirror_mode": {
        "name": "ipython",
        "version": 3
      },
      "file_extension": ".py",
      "mimetype": "text/x-python",
      "name": "python",
      "nbconvert_exporter": "python",
      "pygments_lexer": "ipython3",
      "version": "3.6.9"
    }
  },
  "cells": [
    {
      "cell_type": "code",
      "metadata": {
        "colab_type": "code",
        "id": "1acsvt0BUA9n",
        "colab": {}
      },
      "source": [
        "%matplotlib inline\n",
        "import matplotlib.pyplot as plt\n",
        "import pandas as pd\n",
        "import numpy as np\n",
        "\n",
        "import tensorflow as tf\n",
        "\n",
        "from tensorflow.keras import Model, Input\n",
        "from tensorflow.keras.layers import LSTM,GRU, Embedding, Dense\n",
        "from tensorflow.keras.layers import TimeDistributed, SpatialDropout1D, Bidirectional\n",
        "from sklearn.model_selection import train_test_split\n",
        "from tensorflow.keras.callbacks import ModelCheckpoint, EarlyStopping\n",
        "\n",
        "from tensorflow.keras.preprocessing.sequence import pad_sequences\n",
        "from tensorflow.keras.utils import to_categorical\n",
        "\n",
        "from keras.models import model_from_json\n",
        "\n",
        "from sklearn.metrics import classification_report\n",
        "from sklearn.metrics import accuracy_score\n",
        "from sklearn.metrics import confusion_matrix"
      ],
      "execution_count": null,
      "outputs": []
    },
    {
      "cell_type": "markdown",
      "metadata": {
        "id": "3ETKnGPJzVsr",
        "colab_type": "text"
      },
      "source": [
        "Data Preparation"
      ]
    },
    {
      "cell_type": "code",
      "metadata": {
        "colab_type": "code",
        "id": "TL8RukVKUy0I",
        "colab": {
          "base_uri": "https://localhost:8080/",
          "height": 202
        },
        "outputId": "29f7393c-5249-4cb9-a157-a06d13a1e9ed"
      },
      "source": [
        "!wget \"https://groups.csail.mit.edu/sls/downloads/movie/trivia10k13train.bio\" -P \"/tmp/\"\n"
      ],
      "execution_count": null,
      "outputs": [
        {
          "output_type": "stream",
          "text": [
            "--2020-07-07 19:35:26--  https://groups.csail.mit.edu/sls/downloads/movie/trivia10k13train.bio\n",
            "Resolving groups.csail.mit.edu (groups.csail.mit.edu)... 128.30.2.44\n",
            "Connecting to groups.csail.mit.edu (groups.csail.mit.edu)|128.30.2.44|:443... connected.\n",
            "HTTP request sent, awaiting response... 200 OK\n",
            "Length: 1785558 (1.7M)\n",
            "Saving to: ‘/tmp/trivia10k13train.bio’\n",
            "\n",
            "trivia10k13train.bi 100%[===================>]   1.70M  2.63MB/s    in 0.6s    \n",
            "\n",
            "2020-07-07 19:35:27 (2.63 MB/s) - ‘/tmp/trivia10k13train.bio’ saved [1785558/1785558]\n",
            "\n"
          ],
          "name": "stdout"
        }
      ]
    },
    {
      "cell_type": "code",
      "metadata": {
        "id": "k9wu3dIUWPWR",
        "colab_type": "code",
        "colab": {
          "base_uri": "https://localhost:8080/",
          "height": 202
        },
        "outputId": "6f2abf5d-5904-42d8-86c0-c0c0429d59e3"
      },
      "source": [
        "!wget \"https://groups.csail.mit.edu/sls/downloads/movie/trivia10k13test.bio\" -P \"/tmp/\""
      ],
      "execution_count": null,
      "outputs": [
        {
          "output_type": "stream",
          "text": [
            "--2020-07-07 19:35:30--  https://groups.csail.mit.edu/sls/downloads/movie/trivia10k13test.bio\n",
            "Resolving groups.csail.mit.edu (groups.csail.mit.edu)... 128.30.2.44\n",
            "Connecting to groups.csail.mit.edu (groups.csail.mit.edu)|128.30.2.44|:443... connected.\n",
            "HTTP request sent, awaiting response... 200 OK\n",
            "Length: 438729 (428K)\n",
            "Saving to: ‘/tmp/trivia10k13test.bio’\n",
            "\n",
            "trivia10k13test.bio 100%[===================>] 428.45K  1.19MB/s    in 0.4s    \n",
            "\n",
            "2020-07-07 19:35:31 (1.19 MB/s) - ‘/tmp/trivia10k13test.bio’ saved [438729/438729]\n",
            "\n"
          ],
          "name": "stdout"
        }
      ]
    },
    {
      "cell_type": "code",
      "metadata": {
        "colab_type": "code",
        "id": "0WKbAyOSU93X",
        "colab": {}
      },
      "source": [
        "## Read input training data\n",
        "with open (\"/tmp/trivia10k13train.bio\", \"r\") as f:\n",
        "    lines = [eachLine.rstrip() for eachLine in f]\n",
        "\n",
        "## Prepare word list, tag list and tuple of sentences\n",
        "sentences=[]\n",
        "eachSentence=[]\n",
        "words=[]\n",
        "tags=[]\n",
        "for eachline in lines:\n",
        "  if eachline != '':\n",
        "    eachTag,eachWord = eachline.split('\\t')\n",
        "    words.append(eachWord)\n",
        "    tags.append(eachTag)\n",
        "    eachSentence.append((eachWord,eachTag))\n",
        "  else:\n",
        "    sentences.append(eachSentence)\n",
        "    eachSentence = []\n",
        "\n",
        "## Remove duplicates. Add - OOV(out of vocab) ENDPAD to word list\n",
        "words = list(set(words))\n",
        "words.append(\"OOV\")\n",
        "words.append(\"ENDPAD\")\n",
        "tags = list(set(tags))\n",
        "\n",
        "num_words = len(words)\n",
        "num_tags = len(tags)"
      ],
      "execution_count": null,
      "outputs": []
    },
    {
      "cell_type": "code",
      "metadata": {
        "colab_type": "code",
        "id": "DSmUKSWaVDPm",
        "colab": {
          "base_uri": "https://localhost:8080/",
          "height": 34
        },
        "outputId": "1584695c-a1cb-4251-a999-ab3ede827e53"
      },
      "source": [
        "## Print number of words and number of tags\n",
        "num_words, num_tags"
      ],
      "execution_count": null,
      "outputs": [
        {
          "output_type": "execute_result",
          "data": {
            "text/plain": [
              "(10989, 25)"
            ]
          },
          "metadata": {
            "tags": []
          },
          "execution_count": 5
        }
      ]
    },
    {
      "cell_type": "code",
      "metadata": {
        "colab_type": "code",
        "id": "aqoP5etkYLHC",
        "colab": {}
      },
      "source": [
        "## Create word and tag dictionaries\n",
        "word2idx = {w: i+1 for i,w in enumerate(words)}\n",
        "tags2idx = {t: i for i,t in enumerate(tags)}"
      ],
      "execution_count": null,
      "outputs": []
    },
    {
      "cell_type": "code",
      "metadata": {
        "colab_type": "code",
        "id": "tiLrYQGDY7Vj",
        "colab": {
          "base_uri": "https://localhost:8080/",
          "height": 265
        },
        "outputId": "bfad9639-46c0-4cd8-999f-9036e7be5e94"
      },
      "source": [
        "## Plt the sentence lengths to understand padding requirement\n",
        "plt.hist([len(s) for s in sentences], bins=50)\n",
        "plt.show()"
      ],
      "execution_count": null,
      "outputs": [
        {
          "output_type": "display_data",
          "data": {
            "image/png": "[encoded data removed]",
            "text/plain": [
              "<Figure size 432x288 with 1 Axes>"
            ]
          },
          "metadata": {
            "tags": [],
            "needs_background": "light"
          }
        }
      ]
    },
    {
      "cell_type": "code",
      "metadata": {
        "colab_type": "code",
        "id": "oV-ggDoBmqfk",
        "colab": {}
      },
      "source": [
        ""
      ],
      "execution_count": null,
      "outputs": []
    },
    {
      "cell_type": "code",
      "metadata": {
        "colab_type": "code",
        "id": "_FTBpAR9Y96Q",
        "colab": {}
      },
      "source": [
        "## set max length to 45 and generate word sequences with padding. I have chosen post padding.\n",
        "## Set the padding values to 'ENDPAD' for input and 'O' for tags.\n",
        "\n",
        "max_len = 45\n",
        "X = [[word2idx[w[0]] for w in s] for s in sentences]\n",
        "X = pad_sequences(maxlen=max_len,sequences=X, padding='post', value=num_words-1)\n",
        "\n",
        "y = [[tags2idx[w[1]] for w in s] for s in sentences]\n",
        "y = pad_sequences(maxlen=max_len, sequences=y, padding='post', value=tags2idx[\"O\"])\n"
      ],
      "execution_count": null,
      "outputs": []
    },
    {
      "cell_type": "code",
      "metadata": {
        "colab_type": "code",
        "id": "UZk_J9MPYr1g",
        "colab": {}
      },
      "source": [
        "## Create train and validation split from training set\n",
        "x_train, x_valid, y_train, y_valid = train_test_split(X, y, test_size=0.2, random_state=1)"
      ],
      "execution_count": null,
      "outputs": []
    },
    {
      "cell_type": "markdown",
      "metadata": {
        "id": "zw0MyBiczR86",
        "colab_type": "text"
      },
      "source": [
        "Model Selection"
      ]
    },
    {
      "cell_type": "code",
      "metadata": {
        "id": "dU-84mJPp_Hv",
        "colab_type": "code",
        "colab": {}
      },
      "source": [
        "### Model selection - tried 4 models with different number of layers, number of nodes and types of nodes.\n",
        "model_lstm_simple = tf.keras.Sequential([tf.keras.layers.Embedding(input_dim=num_words,output_dim=64),\n",
        "                                         tf.keras.layers.Bidirectional(LSTM(units=64,return_sequences=True)),\n",
        "                                         tf.keras.layers.Dense(64,activation='relu'),\n",
        "                                         tf.keras.layers.Dense(num_tags, activation='softmax')\n",
        "                                        ])\n",
        "\n",
        "model_lstm_medium = tf.keras.Sequential([tf.keras.layers.Embedding(input_dim=num_words,output_dim=64),\n",
        "                                         tf.keras.layers.Bidirectional(LSTM(units=128,return_sequences=True)),\n",
        "                                         tf.keras.layers.Bidirectional(LSTM(units=32,return_sequences=True)),\n",
        "                                         tf.keras.layers.Dense(128,activation='relu'),\n",
        "                                         tf.keras.layers.Dense(num_tags, activation='softmax')\n",
        "                                        ])\n",
        "\n",
        "model_lstm_complex = tf.keras.Sequential([tf.keras.layers.Embedding(input_dim=num_words,output_dim=64),\n",
        "                                         tf.keras.layers.Bidirectional(LSTM(units=512,return_sequences=True)),\n",
        "                                         tf.keras.layers.Bidirectional(LSTM(units=256,return_sequences=True)),\n",
        "                                         tf.keras.layers.Dense(512,activation='relu'),\n",
        "                                         tf.keras.layers.Dense(128,activation='relu'),\n",
        "                                         tf.keras.layers.Dense(num_tags, activation='softmax')\n",
        "                                        ])\n",
        "\n",
        "model_gru_simple = tf.keras.Sequential([tf.keras.layers.Embedding(input_dim=num_words,output_dim=64),\n",
        "                                         tf.keras.layers.Bidirectional(GRU(units=64,return_sequences=True)),\n",
        "                                         tf.keras.layers.Dense(64,activation='relu'),\n",
        "                                         tf.keras.layers.Dense(num_tags, activation='softmax')\n",
        "                                        ])\n",
        "\n",
        "model_gru_medium = tf.keras.Sequential([tf.keras.layers.Embedding(input_dim=num_words,output_dim=64),\n",
        "                                         tf.keras.layers.Bidirectional(GRU(units=128,return_sequences=True)),\n",
        "                                         tf.keras.layers.Bidirectional(GRU(units=32,return_sequences=True)),\n",
        "                                         tf.keras.layers.Dense(128,activation='relu'),\n",
        "                                         tf.keras.layers.Dense(num_tags, activation='softmax')\n",
        "                                        ])\n",
        "\n",
        "model_gru_complex = tf.keras.Sequential([tf.keras.layers.Embedding(input_dim=num_words,output_dim=64),\n",
        "                                         tf.keras.layers.Bidirectional(GRU(units=512,return_sequences=True)),\n",
        "                                         tf.keras.layers.Bidirectional(GRU(units=256,return_sequences=True)),\n",
        "                                         tf.keras.layers.Dense(512,activation='relu'),\n",
        "                                         tf.keras.layers.Dense(128,activation='relu'),\n",
        "                                         tf.keras.layers.Dense(num_tags, activation='softmax')\n",
        "                                        ])\n",
        "\n",
        "models_all = [('model_lstm_simple',model_lstm_simple), ('model_lstm_medium',model_lstm_medium),  \n",
        "              ('model_gru_simple',model_gru_simple), ('model_gru_medium',model_gru_medium) ]"
      ],
      "execution_count": null,
      "outputs": []
    },
    {
      "cell_type": "code",
      "metadata": {
        "id": "ART37dXVp_H8",
        "colab_type": "code",
        "colab": {}
      },
      "source": [
        "## Train all the models and save the history for further analysis\n",
        "## epochs - 30, batch_size = 32\n",
        "history_all = []\n",
        "for modelName, model in models_all:\n",
        "    #print(modelName)\n",
        "    model.compile(optimizer=\"adam\",loss=\"sparse_categorical_crossentropy\",metrics=[\"accuracy\"])\n",
        "    history = model.fit(x=x_train, y=y_train, validation_data=(x_valid,y_valid),\n",
        "                        batch_size=32,epochs=30,verbose=0)\n",
        "    history_all.append((modelName,history))"
      ],
      "execution_count": null,
      "outputs": []
    },
    {
      "cell_type": "code",
      "metadata": {
        "id": "LS-xr7Dtp_IA",
        "colab_type": "code",
        "colab": {}
      },
      "source": [
        ""
      ],
      "execution_count": null,
      "outputs": []
    },
    {
      "cell_type": "code",
      "metadata": {
        "id": "ja2stEQap_IE",
        "colab_type": "code",
        "colab": {},
        "outputId": "828f888a-1647-436a-f9ca-26072b8ed5ec"
      },
      "source": [
        "## Draw accuracy and loss graphs to compare the results\n",
        "\n",
        "ncols = 2\n",
        "nrows = 4\n",
        "i = 0\n",
        "fig = plt.gcf()\n",
        "fig.set_size_inches(ncols * 4, nrows * 4)\n",
        "\n",
        "for eachHistoryName, eachHistory in history_all:\n",
        "  i += 1\n",
        "  sp = plt.subplot(nrows, ncols, i)\n",
        "  sp.plot(eachHistory.history['accuracy'])\n",
        "  sp.plot(eachHistory.history['val_accuracy'])\n",
        "  plt.ylabel('accuracy')\n",
        "  plt.legend(['accuracy', 'val_accuracy'])\n",
        "  plt.title(eachHistoryName)\n",
        "\n",
        "  i += 1\n",
        "  sp = plt.subplot(nrows,ncols,i)\n",
        "  sp.plot(eachHistory.history['loss'])\n",
        "  sp.plot(eachHistory.history['val_loss'])\n",
        "  plt.ylabel('loss')\n",
        "  plt.legend(['loss', 'val_loss'])\n",
        "  plt.title(eachHistoryName)\n",
        "\n",
        "\n",
        "plt.show()"
      ],
      "execution_count": null,
      "outputs": [
        {
          "output_type": "display_data",
          "data": {
            "image/png": "[encoded data removed]",
            "text/plain": [
              "<Figure size 576x1152 with 8 Axes>"
            ]
          },
          "metadata": {
            "tags": []
          }
        }
      ]
    },
    {
      "cell_type": "code",
      "metadata": {
        "id": "R1uOY41Mp_IR",
        "colab_type": "code",
        "colab": {}
      },
      "source": [
        ""
      ],
      "execution_count": null,
      "outputs": []
    },
    {
      "cell_type": "markdown",
      "metadata": {
        "id": "kpJtYNlIzK9S",
        "colab_type": "text"
      },
      "source": [
        "Hyper-Parameter Tuning"
      ]
    },
    {
      "cell_type": "code",
      "metadata": {
        "id": "V1htco2Xp_IV",
        "colab_type": "code",
        "colab": {}
      },
      "source": [
        "## Function for model defnition with hyperparameters as arguments\n",
        "def model_defnition(regularization='l2',spatialDropout=0.0,recurrent_dropout=0.0,embed_outdim=64,num_tags=num_tags,num_words=num_words):\n",
        "    model = tf.keras.Sequential([tf.keras.layers.Embedding(input_dim=num_words,output_dim=embed_outdim),\n",
        "                                tf.keras.layers.SpatialDropout1D(spatialDropout),\n",
        "                                tf.keras.layers.Bidirectional(LSTM(units=64,return_sequences=True,recurrent_dropout=recurrent_dropout)),\n",
        "                                tf.keras.layers.Dense(64,activation='relu',kernel_regularizer=regularization),\n",
        "                                tf.keras.layers.Dense(num_tags, activation='softmax')])\n",
        "    return model\n",
        "    "
      ],
      "execution_count": null,
      "outputs": []
    },
    {
      "cell_type": "code",
      "metadata": {
        "id": "aWafamR4p_Ie",
        "colab_type": "code",
        "colab": {}
      },
      "source": [
        "### Prepare a grid of hyperparameters \n",
        "spatialDropoutRange = [ 0.1,0.2,0.3,0.4,0.5,0.6]\n",
        "recurrentDropoutRange = [ 0.1,0.2,0.3,0.4,0.5,0.6]\n",
        "maxLenRange = [45,60]\n",
        "\n",
        "hyperParameterGrid = []\n",
        "for i in spatialDropoutRange:\n",
        "    for j in recurrentDropoutRange:\n",
        "        for k in maxLenRange:\n",
        "                hyperParameterGrid.append((i,j,k))"
      ],
      "execution_count": null,
      "outputs": []
    },
    {
      "cell_type": "code",
      "metadata": {
        "id": "rRIgtE0Tp_Iz",
        "colab_type": "code",
        "colab": {},
        "outputId": "c0c9e79e-3ab7-430e-d3d0-8109262bcf73"
      },
      "source": [
        "## Execute model fit for the range of hyper parameters and save the history for each run\n",
        "## Also save the each model so that, they can be loaded at a later stage\n",
        "history_hyper_all = []\n",
        "for eachSpatialDropout, eachRecurrDropout, eachMaxLen in hyperParameterGrid:\n",
        "    \n",
        "    max_len = eachMaxLen\n",
        "    X = [[word2idx[w[0]] for w in s] for s in sentences]\n",
        "    X = pad_sequences(maxlen=max_len,sequences=X, padding='post', value=num_words-1)\n",
        "\n",
        "    y = [[tags2idx[w[1]] for w in s] for s in sentences]\n",
        "    y = pad_sequences(maxlen=max_len, sequences=y, padding='post', value=tags2idx[\"O\"])\n",
        "    \n",
        "    x_train, x_valid, y_train, y_valid = train_test_split(X, y, test_size=0.2, random_state=1)\n",
        "    \n",
        "    \n",
        "    model = model_defnition(regularization='l2',spatialDropout=eachSpatialDropout,recurrent_dropout=eachRecurrDropout)\n",
        "    \n",
        "    early_stopping = EarlyStopping(monitor='val_accuracy', min_delta=0, patience=2, verbose=0, mode='max', baseline=None, restore_best_weights=True)\n",
        "    \n",
        "    model.compile(optimizer=\"adam\",loss=\"sparse_categorical_crossentropy\",metrics=[\"accuracy\"])\n",
        "    history = model.fit(x=x_train, y=y_train, validation_data=(x_valid,y_valid),\n",
        "                        batch_size=32,epochs=30,callbacks=[early_stopping],verbose=0)\n",
        "    modelName = 'Model_SpatialDropout_'+str(eachSpatialDropout)+'_RecurDropout_'+str(eachRecurrDropout)+'_MaxLen_'+str(eachMaxLen)\n",
        "    history_hyper_all.append((modelName,history))\n",
        "    \n",
        "    ##save model\n",
        "    model_json = model.to_json()\n",
        "    with open(\"/tmp/\"+modelName+\".json\",\"w\") as json_file:\n",
        "        json_file.write(model_json)\n",
        "        \n",
        "    model.save_weights(\"/tmp/\"+modelName+\".h5\")\n",
        "    \n",
        "    #print(modelName)\n",
        "    #break"
      ],
      "execution_count": null,
      "outputs": [
        {
          "output_type": "stream",
          "text": [
            "Model_SpatialDropout_0.5_RecurDropout_0.3_MaxLen_45\n"
          ],
          "name": "stdout"
        }
      ]
    },
    {
      "cell_type": "code",
      "metadata": {
        "id": "Bu8cy35IuNxr",
        "colab_type": "code",
        "colab": {}
      },
      "source": [
        "### Save the history parameters - accuracy, val_accuracy, loss and val_loss into a dataframe and save for further reference.\n",
        "eval_list = []\n",
        "for eachHistoryName, eachHistory in history_hyper_all:\n",
        "    for eachItem in zip(eachHistory.history['accuracy'],eachHistory.history['val_accuracy'],eachHistory.history['loss'],eachHistory.history['val_loss']):\n",
        "        eval_list.append(eachItem + (eachHistoryName,))\n",
        "\n",
        "df_history_eval = pd.DataFrame(eval_list)\n",
        "df_history_eval.to_csv('/tmp/history_eval.csv',index=False) "
      ],
      "execution_count": null,
      "outputs": []
    },
    {
      "cell_type": "code",
      "metadata": {
        "id": "-yr3Urfzp_I_",
        "colab_type": "code",
        "colab": {
          "base_uri": "https://localhost:8080/",
          "height": 638
        },
        "outputId": "8357459f-5dfa-4f15-f79c-be2bd10b604a"
      },
      "source": [
        "## Verify the metrics - val_accuracy for different iterations\n",
        "df_history_eval = pd.read_csv('history_eval.csv',encoding='utf-8')\n",
        "df_history_eval.columns = ['accuracy','val_accuracy','loss','val_loss','iteration']\n",
        "df_history_eval['epoch'] = df_history_eval.groupby(['iteration']).cumcount()\n",
        "df_history_eval.groupby(['iteration'])['val_accuracy'].max()"
      ],
      "execution_count": null,
      "outputs": [
        {
          "output_type": "execute_result",
          "data": {
            "text/plain": [
              "iteration\n",
              "Model_SpatialDropout_0.1_RecurDropout_0.1_MaxLen_45    0.915402\n",
              "Model_SpatialDropout_0.1_RecurDropout_0.1_MaxLen_60    0.936861\n",
              "Model_SpatialDropout_0.1_RecurDropout_0.2_MaxLen_45    0.920503\n",
              "Model_SpatialDropout_0.1_RecurDropout_0.2_MaxLen_60    0.938033\n",
              "Model_SpatialDropout_0.1_RecurDropout_0.3_MaxLen_45    0.915857\n",
              "Model_SpatialDropout_0.1_RecurDropout_0.3_MaxLen_60    0.937138\n",
              "Model_SpatialDropout_0.2_RecurDropout_0.1_MaxLen_45    0.916411\n",
              "Model_SpatialDropout_0.2_RecurDropout_0.1_MaxLen_60    0.936871\n",
              "Model_SpatialDropout_0.2_RecurDropout_0.2_MaxLen_45    0.919565\n",
              "Model_SpatialDropout_0.2_RecurDropout_0.2_MaxLen_60    0.937830\n",
              "Model_SpatialDropout_0.2_RecurDropout_0.3_MaxLen_45    0.920304\n",
              "Model_SpatialDropout_0.2_RecurDropout_0.3_MaxLen_60    0.938949\n",
              "Model_SpatialDropout_0.3_RecurDropout_0.1_MaxLen_45    0.920332\n",
              "Model_SpatialDropout_0.3_RecurDropout_0.1_MaxLen_60    0.937884\n",
              "Model_SpatialDropout_0.3_RecurDropout_0.2_MaxLen_45    0.920389\n",
              "Model_SpatialDropout_0.3_RecurDropout_0.2_MaxLen_60    0.936157\n",
              "Model_SpatialDropout_0.3_RecurDropout_0.3_MaxLen_45    0.921086\n",
              "Model_SpatialDropout_0.3_RecurDropout_0.3_MaxLen_60    0.939866\n",
              "Model_SpatialDropout_0.3_RecurDropout_0.4_MaxLen_45    0.920631\n",
              "Model_SpatialDropout_0.3_RecurDropout_0.4_MaxLen_60    0.939354\n",
              "Model_SpatialDropout_0.3_RecurDropout_0.5_MaxLen_45    0.916723\n",
              "Model_SpatialDropout_0.3_RecurDropout_0.5_MaxLen_60    0.940494\n",
              "Model_SpatialDropout_0.4_RecurDropout_0.3_MaxLen_45    0.921270\n",
              "Model_SpatialDropout_0.4_RecurDropout_0.3_MaxLen_60    0.939546\n",
              "Model_SpatialDropout_0.4_RecurDropout_0.4_MaxLen_45    0.922819\n",
              "Model_SpatialDropout_0.4_RecurDropout_0.4_MaxLen_60    0.935678\n",
              "Model_SpatialDropout_0.4_RecurDropout_0.5_MaxLen_45    0.920432\n",
              "Model_SpatialDropout_0.4_RecurDropout_0.5_MaxLen_60    0.937106\n",
              "Model_SpatialDropout_0.5_RecurDropout_0.3_MaxLen_45    0.924325\n",
              "Model_SpatialDropout_0.5_RecurDropout_0.3_MaxLen_60    0.938779\n",
              "Model_SpatialDropout_0.5_RecurDropout_0.4_MaxLen_45    0.917221\n",
              "Model_SpatialDropout_0.5_RecurDropout_0.4_MaxLen_60    0.940740\n",
              "Model_SpatialDropout_0.5_RecurDropout_0.5_MaxLen_45    0.922720\n",
              "Model_SpatialDropout_0.5_RecurDropout_0.5_MaxLen_60    0.936967\n",
              "Model_SpatialDropout_0.6_RecurDropout_0.6_MaxLen_45    0.921682\n",
              "Name: val_accuracy, dtype: float64"
            ]
          },
          "metadata": {
            "tags": []
          },
          "execution_count": 16
        }
      ]
    },
    {
      "cell_type": "code",
      "metadata": {
        "id": "5_DEZ55Qvazl",
        "colab_type": "code",
        "colab": {
          "base_uri": "https://localhost:8080/",
          "height": 265
        },
        "outputId": "22c7c5ea-967a-46a5-b775-d663e829081d"
      },
      "source": [
        "## Plot and compare models based on val_accuracy\n",
        "fig, ax = plt.subplots()\n",
        "intersetedIterations = [('Model_SpatialDropout_0.1_RecurDropout_0.1_MaxLen_45','reg_0.1_0.1'), ('Model_SpatialDropout_0.2_RecurDropout_0.3_MaxLen_45','reg_0.2_0.3'), ('Model_SpatialDropout_0.5_RecurDropout_0.3_MaxLen_45','reg_0.5_0.3'),('Model_SpatialDropout_0.5_RecurDropout_0.5_MaxLen_45','reg_0.5_0.5') ]\n",
        "#intersetedIterations = [('Model_SpatialDropout_0.2_RecurDropout_0.1_MaxLen_45','reg_0.1_0.1'), ('Model_SpatialDropout_0.4_RecurDropout_0.3_MaxLen_45','reg_0.2_0.3'), ('Model_SpatialDropout_0.5_RecurDropout_0.4_MaxLen_45','reg_0.5_0.3'),('Model_SpatialDropout_0.5_RecurDropout_0.5_MaxLen_45','reg_0.5_0.5') ]\n",
        "for eachItem,eachLabel in intersetedIterations:\n",
        "        ax.plot(df_history_eval[df_history_eval['iteration'] == eachItem]['epoch'],df_history_eval[df_history_eval['iteration'] == eachItem]['val_accuracy'],label=eachLabel)\n",
        "ax.legend()        \n",
        "plt.show()"
      ],
      "execution_count": null,
      "outputs": [
        {
          "output_type": "display_data",
          "data": {
            "image/png": "[encoded data removed]",
            "text/plain": [
              "<Figure size 432x288 with 1 Axes>"
            ]
          },
          "metadata": {
            "tags": [],
            "needs_background": "light"
          }
        }
      ]
    },
    {
      "cell_type": "markdown",
      "metadata": {
        "id": "f35oeSZ-y4H8",
        "colab_type": "text"
      },
      "source": [
        "Run the model on test dataset and check the performance"
      ]
    },
    {
      "cell_type": "code",
      "metadata": {
        "id": "6Xg0F0rfvaS-",
        "colab_type": "code",
        "colab": {}
      },
      "source": [
        "## Load the model chosen\n",
        "json_file = open('/tmp/Model_SpatialDropout_0.5_RecurDropout_0.3_MaxLen_45.json', 'r')\n",
        "loaded_model_json = json_file.read()\n",
        "json_file.close()\n",
        "loaded_model = tf.keras.models.model_from_json(loaded_model_json)\n",
        "loaded_model.load_weights(\"/tmp/Model_SpatialDropout_0.5_RecurDropout_0.3_MaxLen_45.h5\")\n",
        "\n",
        "loaded_model.compile(optimizer=\"adam\",loss=\"sparse_categorical_crossentropy\",metrics=[\"accuracy\"])"
      ],
      "execution_count": null,
      "outputs": []
    },
    {
      "cell_type": "code",
      "metadata": {
        "id": "DUD55nRGvZ7X",
        "colab_type": "code",
        "colab": {}
      },
      "source": [
        "## Read and prepare test data to run predictions\n",
        "with open (\"/tmp/trivia10k13test.bio.txt\", \"r\") as f:\n",
        "    lines = [eachLine.rstrip() for eachLine in f]\n",
        "\n",
        "## Prepare word list, tag list and tuple of sentences\n",
        "testSentences=[]\n",
        "eachSentence=[]\n",
        "testWords=[]\n",
        "testTags=[]\n",
        "i=0\n",
        "testSentencesforDF = []\n",
        "for eachline in lines:\n",
        "  if eachline != '':\n",
        "    eachTag,eachWord = eachline.split('\\t')\n",
        "    testWords.append(eachWord)\n",
        "    testTags.append(eachTag)\n",
        "    eachSentence.append((eachWord,eachTag))\n",
        "    testSentencesforDF.append(('sentence'+str(i),eachWord,eachTag))\n",
        "  else:\n",
        "    i+=1\n",
        "    testSentences.append(eachSentence)\n",
        "    eachSentence = []\n",
        "  \n",
        "testWords = list(set(testWords))\n",
        "testTags = list(set(testTags))\n",
        "\n",
        "## Apply padding. For new words not seen in train dataset, treat it as OOV\n",
        "X_test = [[word2idx[w[0]] if w[0] in words else word2idx[\"OOV\"] for w in s] for s in testSentences]\n",
        "X_test = pad_sequences(maxlen=max_len,sequences=X_test, padding='post', value=num_words-1)\n",
        "\n",
        "y_test = [[tags2idx[w[1]] for w in s] for s in testSentences]\n",
        "y_test = pad_sequences(maxlen=max_len, sequences=y_test, padding='post', value=tags2idx[\"O\"])"
      ],
      "execution_count": null,
      "outputs": []
    },
    {
      "cell_type": "code",
      "metadata": {
        "id": "UYZUGgwjp_JC",
        "colab_type": "code",
        "colab": {},
        "outputId": "a15b2f98-8974-4bb0-f13f-358233738dc2"
      },
      "source": [
        "##Evaluate the model\n",
        "model.evaluate(X_test,y_test)"
      ],
      "execution_count": null,
      "outputs": [
        {
          "output_type": "stream",
          "text": [
            "62/62 [==============================] - 1s 8ms/step - loss: 0.4197 - accuracy: 0.9063\n"
          ],
          "name": "stdout"
        },
        {
          "output_type": "execute_result",
          "data": {
            "text/plain": [
              "[0.4196816086769104, 0.9063321352005005]"
            ]
          },
          "metadata": {
            "tags": []
          },
          "execution_count": 57
        }
      ]
    },
    {
      "cell_type": "code",
      "metadata": {
        "id": "TIxLC-j8p_KI",
        "colab_type": "code",
        "colab": {}
      },
      "source": [
        "## Run predictions and then convert the output to actual tags\n",
        "\n",
        "revtags2idx = {i: w for w, i in tags2idx.items()}\n",
        "\n",
        "y_test_pred = loaded_model.predict(X_test)\n",
        "y_test_pred_conv = []\n",
        "for each_y_test_pred in y_test_pred:\n",
        "  temp_array = []\n",
        "  for each_y_test_entry in each_y_test_pred:\n",
        "    temp_array.append(np.argmax(each_y_test_entry))\n",
        "  y_test_pred_conv.append(temp_array)\n",
        "\n",
        "y_test_pred_conv = np.array(y_test_pred_conv)\n",
        "\n",
        "y_test_labels = [[revtags2idx[w] for w in s] for s in y_test]\n",
        "y_test_pred_labels = [[revtags2idx[w] for w in s] for s in y_test_pred_conv]"
      ],
      "execution_count": null,
      "outputs": []
    },
    {
      "cell_type": "code",
      "metadata": {
        "id": "ifWZNQITp_Kv",
        "colab_type": "code",
        "colab": {}
      },
      "source": [
        "## Prepare the csv file with predictions and actuals\n",
        "\n",
        "predvsact=[]\n",
        "p = loaded_model.predict(np.array(X_test))\n",
        "for i in range(len(X_test)):\n",
        "  #print(i)\n",
        "  eachPred = p[i]\n",
        "  eachPred = np.argmax(eachPred, axis=-1)\n",
        "  for w, act, pred in zip(X_test[i], y_test[i], eachPred):\n",
        "      if w != \"PADword\":\n",
        "        predvsact.append(('sentence'+str(i),words[w-1], tags[pred], tags[act]))\n",
        "  #break\n",
        "\n",
        "df_predvsact = pd.DataFrame(predvsact,columns=['sentence#','word','predicted','actual'])\n",
        "df_predvsact['wordcount'] = df_predvsact.groupby(['sentence#']).cumcount()\n",
        "\n",
        "df_testSentences = pd.DataFrame(testSentencesforDF,columns=['sentence#','word_test','tag'])\n",
        "df_testSentences['wordcount'] = df_testSentences.groupby(['sentence#']).cumcount()\n",
        "\n",
        "df_test_predvsact = pd.merge(df_testSentences,df_predvsact,how='inner',on=['sentence#','wordcount'],sort=False)\n",
        "\n",
        "df_test_predvsact = df_test_predvsact.drop(['tag','wordcount'],axis=1)\n",
        "df_test_predvsact = df_test_predvsact.rename(columns={'word':'wordconv'})\n",
        "\n",
        "df_test_predvsact.to_csv('/tmp/testdataset_withpred.csv',index=False)"
      ],
      "execution_count": null,
      "outputs": []
    },
    {
      "cell_type": "code",
      "metadata": {
        "id": "NeV5qaGGp_LK",
        "colab_type": "code",
        "colab": {},
        "outputId": "94d1b7ee-8eea-4208-912e-fb6dea20888b"
      },
      "source": [
        "df_test_predvsact.head(4)"
      ],
      "execution_count": null,
      "outputs": [
        {
          "output_type": "execute_result",
          "data": {
            "text/html": [
              "<div>\n",
              "<style scoped>\n",
              "    .dataframe tbody tr th:only-of-type {\n",
              "        vertical-align: middle;\n",
              "    }\n",
              "\n",
              "    .dataframe tbody tr th {\n",
              "        vertical-align: top;\n",
              "    }\n",
              "\n",
              "    .dataframe thead th {\n",
              "        text-align: right;\n",
              "    }\n",
              "</style>\n",
              "<table border=\"1\" class=\"dataframe\">\n",
              "  <thead>\n",
              "    <tr style=\"text-align: right;\">\n",
              "      <th></th>\n",
              "      <th>sentence#</th>\n",
              "      <th>word_test</th>\n",
              "      <th>wordconv</th>\n",
              "      <th>predicted</th>\n",
              "      <th>actual</th>\n",
              "    </tr>\n",
              "  </thead>\n",
              "  <tbody>\n",
              "    <tr>\n",
              "      <th>0</th>\n",
              "      <td>sentence0</td>\n",
              "      <td>i</td>\n",
              "      <td>i</td>\n",
              "      <td>O</td>\n",
              "      <td>O</td>\n",
              "    </tr>\n",
              "    <tr>\n",
              "      <th>1</th>\n",
              "      <td>sentence0</td>\n",
              "      <td>need</td>\n",
              "      <td>need</td>\n",
              "      <td>O</td>\n",
              "      <td>O</td>\n",
              "    </tr>\n",
              "    <tr>\n",
              "      <th>2</th>\n",
              "      <td>sentence0</td>\n",
              "      <td>that</td>\n",
              "      <td>that</td>\n",
              "      <td>O</td>\n",
              "      <td>O</td>\n",
              "    </tr>\n",
              "    <tr>\n",
              "      <th>3</th>\n",
              "      <td>sentence0</td>\n",
              "      <td>movie</td>\n",
              "      <td>movie</td>\n",
              "      <td>O</td>\n",
              "      <td>O</td>\n",
              "    </tr>\n",
              "  </tbody>\n",
              "</table>\n",
              "</div>"
            ],
            "text/plain": [
              "   sentence# word_test wordconv predicted actual\n",
              "0  sentence0         i        i         O      O\n",
              "1  sentence0      need     need         O      O\n",
              "2  sentence0      that     that         O      O\n",
              "3  sentence0     movie    movie         O      O"
            ]
          },
          "metadata": {
            "tags": []
          },
          "execution_count": 102
        }
      ]
    },
    {
      "cell_type": "code",
      "metadata": {
        "id": "rju8XfYsp_LS",
        "colab_type": "code",
        "colab": {
          "base_uri": "https://localhost:8080/",
          "height": 70
        },
        "outputId": "9950e5f1-294b-4e98-eca2-5120ea37916c"
      },
      "source": [
        "## Prepare classification report and save it as a csv\n",
        "df_classification_report = pd.DataFrame(classification_report(df_test_predvsact['actual'],df_test_predvsact['predicted'],output_dict=True)).transpose()"
      ],
      "execution_count": null,
      "outputs": [
        {
          "output_type": "stream",
          "text": [
            "/usr/local/lib/python3.6/dist-packages/sklearn/metrics/_classification.py:1272: UndefinedMetricWarning: Precision and F-score are ill-defined and being set to 0.0 in labels with no predicted samples. Use `zero_division` parameter to control this behavior.\n",
            "  _warn_prf(average, modifier, msg_start, len(result))\n"
          ],
          "name": "stderr"
        }
      ]
    },
    {
      "cell_type": "code",
      "metadata": {
        "id": "bFd5wxlmeb_B",
        "colab_type": "code",
        "colab": {
          "base_uri": "https://localhost:8080/",
          "height": 876
        },
        "outputId": "299e34e6-f5b6-47e9-8e15-1ab95167010a"
      },
      "source": [
        "df_classification_report"
      ],
      "execution_count": null,
      "outputs": [
        {
          "output_type": "execute_result",
          "data": {
            "text/html": [
              "<div>\n",
              "<style scoped>\n",
              "    .dataframe tbody tr th:only-of-type {\n",
              "        vertical-align: middle;\n",
              "    }\n",
              "\n",
              "    .dataframe tbody tr th {\n",
              "        vertical-align: top;\n",
              "    }\n",
              "\n",
              "    .dataframe thead th {\n",
              "        text-align: right;\n",
              "    }\n",
              "</style>\n",
              "<table border=\"1\" class=\"dataframe\">\n",
              "  <thead>\n",
              "    <tr style=\"text-align: right;\">\n",
              "      <th></th>\n",
              "      <th>precision</th>\n",
              "      <th>recall</th>\n",
              "      <th>f1-score</th>\n",
              "      <th>support</th>\n",
              "    </tr>\n",
              "  </thead>\n",
              "  <tbody>\n",
              "    <tr>\n",
              "      <th>B-Actor</th>\n",
              "      <td>0.874034</td>\n",
              "      <td>0.889151</td>\n",
              "      <td>0.881528</td>\n",
              "      <td>1272.000000</td>\n",
              "    </tr>\n",
              "    <tr>\n",
              "      <th>B-Award</th>\n",
              "      <td>0.500000</td>\n",
              "      <td>0.015152</td>\n",
              "      <td>0.029412</td>\n",
              "      <td>66.000000</td>\n",
              "    </tr>\n",
              "    <tr>\n",
              "      <th>B-Character_Name</th>\n",
              "      <td>0.447368</td>\n",
              "      <td>0.241135</td>\n",
              "      <td>0.313364</td>\n",
              "      <td>282.000000</td>\n",
              "    </tr>\n",
              "    <tr>\n",
              "      <th>B-Director</th>\n",
              "      <td>0.696466</td>\n",
              "      <td>0.788235</td>\n",
              "      <td>0.739514</td>\n",
              "      <td>425.000000</td>\n",
              "    </tr>\n",
              "    <tr>\n",
              "      <th>B-Genre</th>\n",
              "      <td>0.718510</td>\n",
              "      <td>0.831432</td>\n",
              "      <td>0.770858</td>\n",
              "      <td>789.000000</td>\n",
              "    </tr>\n",
              "    <tr>\n",
              "      <th>B-Opinion</th>\n",
              "      <td>0.000000</td>\n",
              "      <td>0.000000</td>\n",
              "      <td>0.000000</td>\n",
              "      <td>195.000000</td>\n",
              "    </tr>\n",
              "    <tr>\n",
              "      <th>B-Origin</th>\n",
              "      <td>0.455172</td>\n",
              "      <td>0.347368</td>\n",
              "      <td>0.394030</td>\n",
              "      <td>190.000000</td>\n",
              "    </tr>\n",
              "    <tr>\n",
              "      <th>B-Plot</th>\n",
              "      <td>0.490734</td>\n",
              "      <td>0.419784</td>\n",
              "      <td>0.452495</td>\n",
              "      <td>1577.000000</td>\n",
              "    </tr>\n",
              "    <tr>\n",
              "      <th>B-Quote</th>\n",
              "      <td>0.000000</td>\n",
              "      <td>0.000000</td>\n",
              "      <td>0.000000</td>\n",
              "      <td>46.000000</td>\n",
              "    </tr>\n",
              "    <tr>\n",
              "      <th>B-Relationship</th>\n",
              "      <td>0.833333</td>\n",
              "      <td>0.176471</td>\n",
              "      <td>0.291262</td>\n",
              "      <td>170.000000</td>\n",
              "    </tr>\n",
              "    <tr>\n",
              "      <th>B-Soundtrack</th>\n",
              "      <td>0.000000</td>\n",
              "      <td>0.000000</td>\n",
              "      <td>0.000000</td>\n",
              "      <td>8.000000</td>\n",
              "    </tr>\n",
              "    <tr>\n",
              "      <th>B-Year</th>\n",
              "      <td>0.930435</td>\n",
              "      <td>0.972727</td>\n",
              "      <td>0.951111</td>\n",
              "      <td>660.000000</td>\n",
              "    </tr>\n",
              "    <tr>\n",
              "      <th>I-Actor</th>\n",
              "      <td>0.853612</td>\n",
              "      <td>0.868472</td>\n",
              "      <td>0.860978</td>\n",
              "      <td>1551.000000</td>\n",
              "    </tr>\n",
              "    <tr>\n",
              "      <th>I-Award</th>\n",
              "      <td>0.649682</td>\n",
              "      <td>0.693878</td>\n",
              "      <td>0.671053</td>\n",
              "      <td>147.000000</td>\n",
              "    </tr>\n",
              "    <tr>\n",
              "      <th>I-Character_Name</th>\n",
              "      <td>0.473684</td>\n",
              "      <td>0.118943</td>\n",
              "      <td>0.190141</td>\n",
              "      <td>227.000000</td>\n",
              "    </tr>\n",
              "    <tr>\n",
              "      <th>I-Director</th>\n",
              "      <td>0.768844</td>\n",
              "      <td>0.744526</td>\n",
              "      <td>0.756489</td>\n",
              "      <td>411.000000</td>\n",
              "    </tr>\n",
              "    <tr>\n",
              "      <th>I-Genre</th>\n",
              "      <td>0.723757</td>\n",
              "      <td>0.722426</td>\n",
              "      <td>0.723091</td>\n",
              "      <td>544.000000</td>\n",
              "    </tr>\n",
              "    <tr>\n",
              "      <th>I-Opinion</th>\n",
              "      <td>0.000000</td>\n",
              "      <td>0.000000</td>\n",
              "      <td>0.000000</td>\n",
              "      <td>143.000000</td>\n",
              "    </tr>\n",
              "    <tr>\n",
              "      <th>I-Origin</th>\n",
              "      <td>0.552607</td>\n",
              "      <td>0.721535</td>\n",
              "      <td>0.625872</td>\n",
              "      <td>808.000000</td>\n",
              "    </tr>\n",
              "    <tr>\n",
              "      <th>I-Plot</th>\n",
              "      <td>0.888822</td>\n",
              "      <td>0.804856</td>\n",
              "      <td>0.844758</td>\n",
              "      <td>14661.000000</td>\n",
              "    </tr>\n",
              "    <tr>\n",
              "      <th>I-Quote</th>\n",
              "      <td>1.000000</td>\n",
              "      <td>0.039755</td>\n",
              "      <td>0.076471</td>\n",
              "      <td>327.000000</td>\n",
              "    </tr>\n",
              "    <tr>\n",
              "      <th>I-Relationship</th>\n",
              "      <td>0.470149</td>\n",
              "      <td>0.218750</td>\n",
              "      <td>0.298578</td>\n",
              "      <td>288.000000</td>\n",
              "    </tr>\n",
              "    <tr>\n",
              "      <th>I-Soundtrack</th>\n",
              "      <td>0.000000</td>\n",
              "      <td>0.000000</td>\n",
              "      <td>0.000000</td>\n",
              "      <td>30.000000</td>\n",
              "    </tr>\n",
              "    <tr>\n",
              "      <th>I-Year</th>\n",
              "      <td>0.000000</td>\n",
              "      <td>0.000000</td>\n",
              "      <td>0.000000</td>\n",
              "      <td>44.000000</td>\n",
              "    </tr>\n",
              "    <tr>\n",
              "      <th>O</th>\n",
              "      <td>0.749506</td>\n",
              "      <td>0.886881</td>\n",
              "      <td>0.812427</td>\n",
              "      <td>14109.000000</td>\n",
              "    </tr>\n",
              "    <tr>\n",
              "      <th>accuracy</th>\n",
              "      <td>0.788761</td>\n",
              "      <td>0.788761</td>\n",
              "      <td>0.788761</td>\n",
              "      <td>0.788761</td>\n",
              "    </tr>\n",
              "    <tr>\n",
              "      <th>macro avg</th>\n",
              "      <td>0.523069</td>\n",
              "      <td>0.420059</td>\n",
              "      <td>0.427337</td>\n",
              "      <td>38970.000000</td>\n",
              "    </tr>\n",
              "    <tr>\n",
              "      <th>weighted avg</th>\n",
              "      <td>0.782688</td>\n",
              "      <td>0.788761</td>\n",
              "      <td>0.776123</td>\n",
              "      <td>38970.000000</td>\n",
              "    </tr>\n",
              "  </tbody>\n",
              "</table>\n",
              "</div>"
            ],
            "text/plain": [
              "                  precision    recall  f1-score       support\n",
              "B-Actor            0.874034  0.889151  0.881528   1272.000000\n",
              "B-Award            0.500000  0.015152  0.029412     66.000000\n",
              "B-Character_Name   0.447368  0.241135  0.313364    282.000000\n",
              "B-Director         0.696466  0.788235  0.739514    425.000000\n",
              "B-Genre            0.718510  0.831432  0.770858    789.000000\n",
              "B-Opinion          0.000000  0.000000  0.000000    195.000000\n",
              "B-Origin           0.455172  0.347368  0.394030    190.000000\n",
              "B-Plot             0.490734  0.419784  0.452495   1577.000000\n",
              "B-Quote            0.000000  0.000000  0.000000     46.000000\n",
              "B-Relationship     0.833333  0.176471  0.291262    170.000000\n",
              "B-Soundtrack       0.000000  0.000000  0.000000      8.000000\n",
              "B-Year             0.930435  0.972727  0.951111    660.000000\n",
              "I-Actor            0.853612  0.868472  0.860978   1551.000000\n",
              "I-Award            0.649682  0.693878  0.671053    147.000000\n",
              "I-Character_Name   0.473684  0.118943  0.190141    227.000000\n",
              "I-Director         0.768844  0.744526  0.756489    411.000000\n",
              "I-Genre            0.723757  0.722426  0.723091    544.000000\n",
              "I-Opinion          0.000000  0.000000  0.000000    143.000000\n",
              "I-Origin           0.552607  0.721535  0.625872    808.000000\n",
              "I-Plot             0.888822  0.804856  0.844758  14661.000000\n",
              "I-Quote            1.000000  0.039755  0.076471    327.000000\n",
              "I-Relationship     0.470149  0.218750  0.298578    288.000000\n",
              "I-Soundtrack       0.000000  0.000000  0.000000     30.000000\n",
              "I-Year             0.000000  0.000000  0.000000     44.000000\n",
              "O                  0.749506  0.886881  0.812427  14109.000000\n",
              "accuracy           0.788761  0.788761  0.788761      0.788761\n",
              "macro avg          0.523069  0.420059  0.427337  38970.000000\n",
              "weighted avg       0.782688  0.788761  0.776123  38970.000000"
            ]
          },
          "metadata": {
            "tags": []
          },
          "execution_count": 10
        }
      ]
    },
    {
      "cell_type": "code",
      "metadata": {
        "id": "7LfjR7Lpp_LV",
        "colab_type": "code",
        "colab": {
          "base_uri": "https://localhost:8080/",
          "height": 34
        },
        "outputId": "cbd2b3a2-4fa4-4865-9518-60127ad5ce01"
      },
      "source": [
        "accuracy_score(df_test_predvsact['actual'],df_test_predvsact['predicted'])"
      ],
      "execution_count": null,
      "outputs": [
        {
          "output_type": "execute_result",
          "data": {
            "text/plain": [
              "0.788760585065435"
            ]
          },
          "metadata": {
            "tags": []
          },
          "execution_count": 11
        }
      ]
    },
    {
      "cell_type": "code",
      "metadata": {
        "id": "Ls2pBKckZ0z9",
        "colab_type": "code",
        "colab": {}
      },
      "source": [
        ""
      ],
      "execution_count": null,
      "outputs": []
    },
    {
      "cell_type": "markdown",
      "metadata": {
        "id": "rfEW1U7-z7uL",
        "colab_type": "text"
      },
      "source": [
        "Others"
      ]
    },
    {
      "cell_type": "code",
      "metadata": {
        "id": "sB8PRWuRp_LY",
        "colab_type": "code",
        "colab": {
          "resources": {
            "http://localhost:8080/nbextensions/google.colab/files.js": {
              "data": "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",
              "ok": true,
              "headers": [
                [
                  "content-type",
                  "application/javascript"
                ]
              ],
              "status": 200,
              "status_text": ""
            }
          },
          "base_uri": "https://localhost:8080/",
          "height": 39
        },
        "outputId": "7381e99f-2446-41e4-8ef3-6051bce5a7dd"
      },
      "source": [
        "from google.colab import files\n",
        "uploaded = files.upload()"
      ],
      "execution_count": null,
      "outputs": [
        {
          "output_type": "display_data",
          "data": {
            "text/html": [
              "\n",
              "     <input type=\"file\" id=\"files-b0b7e0c5-54b6-483f-990b-0546ca727326\" name=\"files[]\" multiple disabled\n",
              "        style=\"border:none\" />\n",
              "     <output id=\"result-b0b7e0c5-54b6-483f-990b-0546ca727326\">\n",
              "      Upload widget is only available when the cell has been executed in the\n",
              "      current browser session. Please rerun this cell to enable.\n",
              "      </output>\n",
              "      <script src=\"/nbextensions/google.colab/files.js\"></script> "
            ],
            "text/plain": [
              "<IPython.core.display.HTML object>"
            ]
          },
          "metadata": {
            "tags": []
          }
        }
      ]
    },
    {
      "cell_type": "code",
      "metadata": {
        "id": "zucIXZepaehU",
        "colab_type": "code",
        "colab": {}
      },
      "source": [
        ""
      ],
      "execution_count": null,
      "outputs": []
    }
  ]
}