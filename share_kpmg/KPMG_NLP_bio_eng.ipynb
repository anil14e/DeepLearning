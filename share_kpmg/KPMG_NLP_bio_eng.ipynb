{
  "nbformat": 4,
  "nbformat_minor": 0,
  "metadata": {
    "accelerator": "GPU",
    "colab": {
      "name": "KPMG_NLP_bio_eng.ipynb",
      "provenance": []
    },
    "kernelspec": {
      "display_name": "Python 3",
      "language": "python",
      "name": "python3"
    },
    "language_info": {
      "codemirror_mode": {
        "name": "ipython",
        "version": 3
      },
      "file_extension": ".py",
      "mimetype": "text/x-python",
      "name": "python",
      "nbconvert_exporter": "python",
      "pygments_lexer": "ipython3",
      "version": "3.6.9"
    }
  },
  "cells": [
    {
      "cell_type": "code",
      "metadata": {
        "colab_type": "code",
        "id": "1acsvt0BUA9n",
        "colab": {}
      },
      "source": [
        "%matplotlib inline\n",
        "import matplotlib.pyplot as plt\n",
        "import pandas as pd\n",
        "import numpy as np\n",
        "\n",
        "import tensorflow as tf\n",
        "\n",
        "from tensorflow.keras import Model, Input\n",
        "from tensorflow.keras.layers import LSTM,GRU, Embedding, Dense\n",
        "from tensorflow.keras.layers import TimeDistributed, SpatialDropout1D, Bidirectional\n",
        "from sklearn.model_selection import train_test_split\n",
        "from tensorflow.keras.callbacks import ModelCheckpoint, EarlyStopping\n",
        "\n",
        "from tensorflow.keras.preprocessing.sequence import pad_sequences\n",
        "from tensorflow.keras.utils import to_categorical\n",
        "\n",
        "from keras.models import model_from_json\n",
        "\n",
        "from sklearn.metrics import classification_report\n",
        "from sklearn.metrics import accuracy_score\n",
        "from sklearn.metrics import confusion_matrix"
      ],
      "execution_count": null,
      "outputs": []
    },
    {
      "cell_type": "markdown",
      "metadata": {
        "id": "3ETKnGPJzVsr",
        "colab_type": "text"
      },
      "source": [
        "Data Preparation"
      ]
    },
    {
      "cell_type": "code",
      "metadata": {
        "colab_type": "code",
        "id": "TL8RukVKUy0I",
        "colab": {
          "base_uri": "https://localhost:8080/",
          "height": 202
        },
        "outputId": "f0bff320-7ca3-4078-d1e1-3e98f1a764e0"
      },
      "source": [
        "!wget \"https://groups.csail.mit.edu/sls/downloads/movie/engtrain.bio\" -P \"/tmp/\"\n"
      ],
      "execution_count": null,
      "outputs": [
        {
          "output_type": "stream",
          "text": [
            "--2020-07-07 20:46:01--  https://groups.csail.mit.edu/sls/downloads/movie/engtrain.bio\n",
            "Resolving groups.csail.mit.edu (groups.csail.mit.edu)... 128.30.2.44\n",
            "Connecting to groups.csail.mit.edu (groups.csail.mit.edu)|128.30.2.44|:443... connected.\n",
            "HTTP request sent, awaiting response... 200 OK\n",
            "Length: 1013492 (990K)\n",
            "Saving to: ‘/tmp/engtrain.bio.2’\n",
            "\n",
            "engtrain.bio.2      100%[===================>] 989.74K  1.85MB/s    in 0.5s    \n",
            "\n",
            "2020-07-07 20:46:02 (1.85 MB/s) - ‘/tmp/engtrain.bio.2’ saved [1013492/1013492]\n",
            "\n"
          ],
          "name": "stdout"
        }
      ]
    },
    {
      "cell_type": "code",
      "metadata": {
        "id": "k9wu3dIUWPWR",
        "colab_type": "code",
        "colab": {
          "base_uri": "https://localhost:8080/",
          "height": 202
        },
        "outputId": "c020e6fe-5bf2-4dcc-bf01-47b0995e96ef"
      },
      "source": [
        "!wget \"https://groups.csail.mit.edu/sls/downloads/movie/engtest.bio\" -P \"/tmp/\""
      ],
      "execution_count": null,
      "outputs": [
        {
          "output_type": "stream",
          "text": [
            "--2020-07-07 20:46:04--  https://groups.csail.mit.edu/sls/downloads/movie/engtest.bio\n",
            "Resolving groups.csail.mit.edu (groups.csail.mit.edu)... 128.30.2.44\n",
            "Connecting to groups.csail.mit.edu (groups.csail.mit.edu)|128.30.2.44|:443... connected.\n",
            "HTTP request sent, awaiting response... 200 OK\n",
            "Length: 252636 (247K)\n",
            "Saving to: ‘/tmp/engtest.bio.2’\n",
            "\n",
            "engtest.bio.2       100%[===================>] 246.71K   684KB/s    in 0.4s    \n",
            "\n",
            "2020-07-07 20:46:05 (684 KB/s) - ‘/tmp/engtest.bio.2’ saved [252636/252636]\n",
            "\n"
          ],
          "name": "stdout"
        }
      ]
    },
    {
      "cell_type": "code",
      "metadata": {
        "colab_type": "code",
        "id": "0WKbAyOSU93X",
        "colab": {}
      },
      "source": [
        "## Read input training data\n",
        "with open (\"/tmp/engtrain.bio\", \"r\") as f:\n",
        "    lines = [eachLine.rstrip() for eachLine in f]\n",
        "\n",
        "## Prepare word list, tag list and tuple of sentences\n",
        "sentences=[]\n",
        "eachSentence=[]\n",
        "words=[]\n",
        "tags=[]\n",
        "for eachline in lines:\n",
        "  if eachline != '':\n",
        "    eachTag,eachWord = eachline.split('\\t')\n",
        "    words.append(eachWord)\n",
        "    tags.append(eachTag)\n",
        "    eachSentence.append((eachWord,eachTag))\n",
        "  else:\n",
        "    sentences.append(eachSentence)\n",
        "    eachSentence = []\n",
        "\n",
        "## Remove duplicates. Add - OOV(out of vocab) ENDPAD to word list\n",
        "words = list(set(words))\n",
        "words.append(\"OOV\")\n",
        "words.append(\"ENDPAD\")\n",
        "tags = list(set(tags))\n",
        "\n",
        "num_words = len(words)\n",
        "num_tags = len(tags)"
      ],
      "execution_count": null,
      "outputs": []
    },
    {
      "cell_type": "code",
      "metadata": {
        "colab_type": "code",
        "id": "DSmUKSWaVDPm",
        "colab": {
          "base_uri": "https://localhost:8080/",
          "height": 34
        },
        "outputId": "8300a6e1-94bd-4e67-9ee2-8dfa6c7efbca"
      },
      "source": [
        "## Print number of words and number of tags\n",
        "num_words, num_tags"
      ],
      "execution_count": null,
      "outputs": [
        {
          "output_type": "execute_result",
          "data": {
            "text/plain": [
              "(6712, 25)"
            ]
          },
          "metadata": {
            "tags": []
          },
          "execution_count": 38
        }
      ]
    },
    {
      "cell_type": "code",
      "metadata": {
        "colab_type": "code",
        "id": "aqoP5etkYLHC",
        "colab": {}
      },
      "source": [
        "## Create word and tag dictionaries\n",
        "word2idx = {w: i+1 for i,w in enumerate(words)}\n",
        "tags2idx = {t: i for i,t in enumerate(tags)}"
      ],
      "execution_count": null,
      "outputs": []
    },
    {
      "cell_type": "code",
      "metadata": {
        "colab_type": "code",
        "id": "tiLrYQGDY7Vj",
        "colab": {
          "base_uri": "https://localhost:8080/",
          "height": 265
        },
        "outputId": "af0f44bf-bc6d-4be8-f040-6445b7cccb2b"
      },
      "source": [
        "## Plt the sentence lengths to understand padding requirement\n",
        "plt.hist([len(s) for s in sentences], bins=50)\n",
        "plt.show()"
      ],
      "execution_count": null,
      "outputs": [
        {
          "output_type": "display_data",
          "data": {
            "image/png": "[encoded data removed]",
            "text/plain": [
              "<Figure size 432x288 with 1 Axes>"
            ]
          },
          "metadata": {
            "tags": [],
            "needs_background": "light"
          }
        }
      ]
    },
    {
      "cell_type": "code",
      "metadata": {
        "colab_type": "code",
        "id": "oV-ggDoBmqfk",
        "colab": {}
      },
      "source": [
        ""
      ],
      "execution_count": null,
      "outputs": []
    },
    {
      "cell_type": "code",
      "metadata": {
        "colab_type": "code",
        "id": "_FTBpAR9Y96Q",
        "colab": {}
      },
      "source": [
        "## set max length to 45 and generate word sequences with padding. I have chosen post padding.\n",
        "## Set the padding values to 'ENDPAD' for input and 'O' for tags.\n",
        "\n",
        "max_len = 30\n",
        "X = [[word2idx[w[0]] for w in s] for s in sentences]\n",
        "X = pad_sequences(maxlen=max_len,sequences=X, padding='post', value=num_words-1)\n",
        "\n",
        "y = [[tags2idx[w[1]] for w in s] for s in sentences]\n",
        "y = pad_sequences(maxlen=max_len, sequences=y, padding='post', value=tags2idx[\"O\"])\n"
      ],
      "execution_count": null,
      "outputs": []
    },
    {
      "cell_type": "code",
      "metadata": {
        "colab_type": "code",
        "id": "UZk_J9MPYr1g",
        "colab": {}
      },
      "source": [
        "## Create train and validation split from training set\n",
        "x_train, x_valid, y_train, y_valid = train_test_split(X, y, test_size=0.2, random_state=1)"
      ],
      "execution_count": null,
      "outputs": []
    },
    {
      "cell_type": "markdown",
      "metadata": {
        "id": "zw0MyBiczR86",
        "colab_type": "text"
      },
      "source": [
        "Model Selection"
      ]
    },
    {
      "cell_type": "code",
      "metadata": {
        "id": "LS-xr7Dtp_IA",
        "colab_type": "code",
        "colab": {}
      },
      "source": [
        "## Function for model defnition with hyperparameters as arguments\n",
        "def model_defnition(regularization='l2',spatialDropout=0.0,recurrent_dropout=0.0,embed_outdim=64,num_tags=num_tags,num_words=num_words):\n",
        "    model = tf.keras.Sequential([tf.keras.layers.Embedding(input_dim=num_words,output_dim=embed_outdim),\n",
        "                                tf.keras.layers.SpatialDropout1D(spatialDropout),\n",
        "                                tf.keras.layers.Bidirectional(LSTM(units=32,return_sequences=True,recurrent_dropout=recurrent_dropout)),\n",
        "                                tf.keras.layers.Dense(32,activation='relu',kernel_regularizer=regularization),\n",
        "                                tf.keras.layers.Dense(num_tags, activation='softmax')])\n",
        "    return model"
      ],
      "execution_count": null,
      "outputs": []
    },
    {
      "cell_type": "code",
      "metadata": {
        "id": "M1df7Poa3Dy9",
        "colab_type": "code",
        "colab": {
          "base_uri": "https://localhost:8080/",
          "height": 1000
        },
        "outputId": "0ddb43d4-35e4-4f0b-cf2c-53c56ecdaa16"
      },
      "source": [
        "model = model_defnition(regularization='l2',spatialDropout=0.2,recurrent_dropout=0.1)\n",
        "    \n",
        "early_stopping = EarlyStopping(monitor='val_accuracy', min_delta=0, patience=3, verbose=0, mode='max', baseline=None, restore_best_weights=True)\n",
        "    \n",
        "model.compile(optimizer=\"adam\",loss=\"sparse_categorical_crossentropy\",metrics=[\"accuracy\"])\n",
        "history = model.fit(x=x_train, y=y_train, validation_data=(x_valid,y_valid),\n",
        "                    batch_size=32,epochs=30,callbacks=[early_stopping],verbose=1)"
      ],
      "execution_count": null,
      "outputs": [
        {
          "output_type": "stream",
          "text": [
            "WARNING:tensorflow:Layer lstm will not use cuDNN kernel since it doesn't meet the cuDNN kernel criteria. It will use generic GPU kernel as fallback when running on GPU\n",
            "WARNING:tensorflow:Layer lstm will not use cuDNN kernel since it doesn't meet the cuDNN kernel criteria. It will use generic GPU kernel as fallback when running on GPU\n",
            "WARNING:tensorflow:Layer lstm will not use cuDNN kernel since it doesn't meet the cuDNN kernel criteria. It will use generic GPU kernel as fallback when running on GPU\n",
            "Epoch 1/30\n",
            "245/245 [==============================] - 70s 284ms/step - loss: 1.0883 - accuracy: 0.8587 - val_loss: 0.6089 - val_accuracy: 0.8692\n",
            "Epoch 2/30\n",
            "245/245 [==============================] - 70s 284ms/step - loss: 0.5078 - accuracy: 0.8765 - val_loss: 0.4545 - val_accuracy: 0.8817\n",
            "Epoch 3/30\n",
            "245/245 [==============================] - 69s 282ms/step - loss: 0.4197 - accuracy: 0.8921 - val_loss: 0.3921 - val_accuracy: 0.8990\n",
            "Epoch 4/30\n",
            "245/245 [==============================] - 69s 283ms/step - loss: 0.3589 - accuracy: 0.9150 - val_loss: 0.3394 - val_accuracy: 0.9186\n",
            "Epoch 5/30\n",
            "245/245 [==============================] - 69s 284ms/step - loss: 0.3104 - accuracy: 0.9321 - val_loss: 0.2991 - val_accuracy: 0.9346\n",
            "Epoch 6/30\n",
            "245/245 [==============================] - 69s 281ms/step - loss: 0.2702 - accuracy: 0.9442 - val_loss: 0.2663 - val_accuracy: 0.9443\n",
            "Epoch 7/30\n",
            "245/245 [==============================] - 69s 283ms/step - loss: 0.2378 - accuracy: 0.9513 - val_loss: 0.2433 - val_accuracy: 0.9472\n",
            "Epoch 8/30\n",
            "245/245 [==============================] - 69s 282ms/step - loss: 0.2140 - accuracy: 0.9562 - val_loss: 0.2292 - val_accuracy: 0.9512\n",
            "Epoch 9/30\n",
            "245/245 [==============================] - 68s 278ms/step - loss: 0.1960 - accuracy: 0.9607 - val_loss: 0.2156 - val_accuracy: 0.9538\n",
            "Epoch 10/30\n",
            "245/245 [==============================] - 69s 282ms/step - loss: 0.1795 - accuracy: 0.9667 - val_loss: 0.2016 - val_accuracy: 0.9583\n",
            "Epoch 11/30\n",
            "245/245 [==============================] - 69s 282ms/step - loss: 0.1633 - accuracy: 0.9710 - val_loss: 0.1934 - val_accuracy: 0.9607\n",
            "Epoch 12/30\n",
            "245/245 [==============================] - 68s 279ms/step - loss: 0.1504 - accuracy: 0.9740 - val_loss: 0.1850 - val_accuracy: 0.9615\n",
            "Epoch 13/30\n",
            "245/245 [==============================] - 68s 279ms/step - loss: 0.1400 - accuracy: 0.9753 - val_loss: 0.1847 - val_accuracy: 0.9612\n",
            "Epoch 14/30\n",
            "245/245 [==============================] - 68s 279ms/step - loss: 0.1322 - accuracy: 0.9767 - val_loss: 0.1764 - val_accuracy: 0.9628\n",
            "Epoch 15/30\n",
            "245/245 [==============================] - 67s 275ms/step - loss: 0.1258 - accuracy: 0.9775 - val_loss: 0.1736 - val_accuracy: 0.9638\n",
            "Epoch 16/30\n",
            "245/245 [==============================] - 69s 282ms/step - loss: 0.1190 - accuracy: 0.9788 - val_loss: 0.1682 - val_accuracy: 0.9646\n",
            "Epoch 17/30\n",
            "245/245 [==============================] - 68s 278ms/step - loss: 0.1142 - accuracy: 0.9796 - val_loss: 0.1685 - val_accuracy: 0.9645\n",
            "Epoch 18/30\n",
            "245/245 [==============================] - 68s 278ms/step - loss: 0.1086 - accuracy: 0.9808 - val_loss: 0.1676 - val_accuracy: 0.9650\n",
            "Epoch 19/30\n",
            "245/245 [==============================] - 68s 277ms/step - loss: 0.1043 - accuracy: 0.9815 - val_loss: 0.1634 - val_accuracy: 0.9655\n",
            "Epoch 20/30\n",
            "245/245 [==============================] - 68s 279ms/step - loss: 0.1005 - accuracy: 0.9820 - val_loss: 0.1641 - val_accuracy: 0.9657\n",
            "Epoch 21/30\n",
            "245/245 [==============================] - 67s 274ms/step - loss: 0.0964 - accuracy: 0.9827 - val_loss: 0.1589 - val_accuracy: 0.9668\n",
            "Epoch 22/30\n",
            "245/245 [==============================] - 68s 276ms/step - loss: 0.0928 - accuracy: 0.9833 - val_loss: 0.1583 - val_accuracy: 0.9663\n",
            "Epoch 23/30\n",
            "245/245 [==============================] - 69s 280ms/step - loss: 0.0895 - accuracy: 0.9842 - val_loss: 0.1599 - val_accuracy: 0.9668\n",
            "Epoch 24/30\n",
            "245/245 [==============================] - 68s 278ms/step - loss: 0.0870 - accuracy: 0.9842 - val_loss: 0.1592 - val_accuracy: 0.9668\n",
            "Epoch 25/30\n",
            "245/245 [==============================] - 69s 280ms/step - loss: 0.0837 - accuracy: 0.9849 - val_loss: 0.1540 - val_accuracy: 0.9674\n",
            "Epoch 26/30\n",
            "245/245 [==============================] - 69s 280ms/step - loss: 0.0812 - accuracy: 0.9853 - val_loss: 0.1549 - val_accuracy: 0.9678\n",
            "Epoch 27/30\n",
            "245/245 [==============================] - 69s 281ms/step - loss: 0.0786 - accuracy: 0.9860 - val_loss: 0.1568 - val_accuracy: 0.9669\n",
            "Epoch 28/30\n",
            "245/245 [==============================] - 69s 280ms/step - loss: 0.0765 - accuracy: 0.9862 - val_loss: 0.1519 - val_accuracy: 0.9679\n",
            "Epoch 29/30\n",
            "245/245 [==============================] - 69s 281ms/step - loss: 0.0747 - accuracy: 0.9864 - val_loss: 0.1545 - val_accuracy: 0.9675\n",
            "Epoch 30/30\n",
            "245/245 [==============================] - 69s 282ms/step - loss: 0.0727 - accuracy: 0.9869 - val_loss: 0.1504 - val_accuracy: 0.9678\n"
          ],
          "name": "stdout"
        }
      ]
    },
    {
      "cell_type": "code",
      "metadata": {
        "id": "ja2stEQap_IE",
        "colab_type": "code",
        "colab": {
          "base_uri": "https://localhost:8080/",
          "height": 253
        },
        "outputId": "5369eec6-3d13-47a0-8170-3b70a9d21a72"
      },
      "source": [
        "## Draw accuracy and loss graphs to compare the results\n",
        "history_all =[('model',history)]\n",
        "ncols = 2\n",
        "nrows = 4\n",
        "i = 0\n",
        "fig = plt.gcf()\n",
        "fig.set_size_inches(ncols * 4, nrows * 4)\n",
        "\n",
        "for eachHistoryName, eachHistory in history_all:\n",
        "  i += 1\n",
        "  sp = plt.subplot(nrows, ncols, i)\n",
        "  sp.plot(eachHistory.history['accuracy'])\n",
        "  sp.plot(eachHistory.history['val_accuracy'])\n",
        "  plt.ylabel('accuracy')\n",
        "  plt.legend(['accuracy', 'val_accuracy'])\n",
        "  plt.title(eachHistoryName)\n",
        "\n",
        "  i += 1\n",
        "  sp = plt.subplot(nrows,ncols,i)\n",
        "  sp.plot(eachHistory.history['loss'])\n",
        "  sp.plot(eachHistory.history['val_loss'])\n",
        "  plt.ylabel('loss')\n",
        "  plt.legend(['loss', 'val_loss'])\n",
        "  plt.title(eachHistoryName)\n",
        "\n",
        "\n",
        "plt.show()"
      ],
      "execution_count": null,
      "outputs": [
        {
          "output_type": "display_data",
          "data": {
            "image/png": "[encoded data removed]",
            "text/plain": [
              "<Figure size 576x1152 with 2 Axes>"
            ]
          },
          "metadata": {
            "tags": [],
            "needs_background": "light"
          }
        }
      ]
    },
    {
      "cell_type": "code",
      "metadata": {
        "id": "R1uOY41Mp_IR",
        "colab_type": "code",
        "colab": {}
      },
      "source": [
        ""
      ],
      "execution_count": null,
      "outputs": []
    },
    {
      "cell_type": "markdown",
      "metadata": {
        "id": "f35oeSZ-y4H8",
        "colab_type": "text"
      },
      "source": [
        "Run the model on test dataset and check the performance"
      ]
    },
    {
      "cell_type": "code",
      "metadata": {
        "id": "DUD55nRGvZ7X",
        "colab_type": "code",
        "colab": {}
      },
      "source": [
        "## Read and prepare test data to run predictions\n",
        "with open (\"/tmp/engtest.bio\", \"r\") as f:\n",
        "    lines = [eachLine.rstrip() for eachLine in f]\n",
        "\n",
        "## Prepare word list, tag list and tuple of sentences\n",
        "testSentences=[]\n",
        "eachSentence=[]\n",
        "testWords=[]\n",
        "testTags=[]\n",
        "i=0\n",
        "testSentencesforDF = []\n",
        "for eachline in lines:\n",
        "  if eachline != '':\n",
        "    eachTag,eachWord = eachline.split('\\t')\n",
        "    testWords.append(eachWord)\n",
        "    testTags.append(eachTag)\n",
        "    eachSentence.append((eachWord,eachTag))\n",
        "    testSentencesforDF.append(('sentence'+str(i),eachWord,eachTag))\n",
        "  else:\n",
        "    i+=1\n",
        "    testSentences.append(eachSentence)\n",
        "    eachSentence = []\n",
        "  \n",
        "testWords = list(set(testWords))\n",
        "testTags = list(set(testTags))\n",
        "\n",
        "## Apply padding. For new words not seen in train dataset, treat it as OOV\n",
        "X_test = [[word2idx[w[0]] if w[0] in words else word2idx[\"OOV\"] for w in s] for s in testSentences]\n",
        "X_test = pad_sequences(maxlen=max_len,sequences=X_test, padding='post', value=num_words-1)\n",
        "\n",
        "y_test = [[tags2idx[w[1]] for w in s] for s in testSentences]\n",
        "y_test = pad_sequences(maxlen=max_len, sequences=y_test, padding='post', value=tags2idx[\"O\"])"
      ],
      "execution_count": null,
      "outputs": []
    },
    {
      "cell_type": "code",
      "metadata": {
        "id": "UYZUGgwjp_JC",
        "colab_type": "code",
        "colab": {
          "base_uri": "https://localhost:8080/",
          "height": 50
        },
        "outputId": "072a2282-9094-42bb-ef36-2ef240beb1b2"
      },
      "source": [
        "##Evaluate the model\n",
        "model.evaluate(X_test,y_test)"
      ],
      "execution_count": null,
      "outputs": [
        {
          "output_type": "stream",
          "text": [
            "77/77 [==============================] - 2s 27ms/step - loss: 0.2683 - accuracy: 0.9601\n"
          ],
          "name": "stdout"
        },
        {
          "output_type": "execute_result",
          "data": {
            "text/plain": [
              "[0.2683185935020447, 0.9600627422332764]"
            ]
          },
          "metadata": {
            "tags": []
          },
          "execution_count": 58
        }
      ]
    },
    {
      "cell_type": "code",
      "metadata": {
        "id": "TIxLC-j8p_KI",
        "colab_type": "code",
        "colab": {}
      },
      "source": [
        "## Run predictions and then convert the output to actual tags\n",
        "\n",
        "revtags2idx = {i: w for w, i in tags2idx.items()}\n",
        "\n",
        "y_test_pred = model.predict(X_test)\n",
        "y_test_pred_conv = []\n",
        "for each_y_test_pred in y_test_pred:\n",
        "  temp_array = []\n",
        "  for each_y_test_entry in each_y_test_pred:\n",
        "    temp_array.append(np.argmax(each_y_test_entry))\n",
        "  y_test_pred_conv.append(temp_array)\n",
        "\n",
        "y_test_pred_conv = np.array(y_test_pred_conv)\n",
        "\n",
        "y_test_labels = [[revtags2idx[w] for w in s] for s in y_test]\n",
        "y_test_pred_labels = [[revtags2idx[w] for w in s] for s in y_test_pred_conv]"
      ],
      "execution_count": null,
      "outputs": []
    },
    {
      "cell_type": "code",
      "metadata": {
        "id": "ifWZNQITp_Kv",
        "colab_type": "code",
        "colab": {}
      },
      "source": [
        "## Prepare the csv file with predictions and actuals\n",
        "\n",
        "predvsact=[]\n",
        "p = model.predict(np.array(X_test))\n",
        "for i in range(len(X_test)):\n",
        "  #print(i)\n",
        "  eachPred = p[i]\n",
        "  eachPred = np.argmax(eachPred, axis=-1)\n",
        "  for w, act, pred in zip(X_test[i], y_test[i], eachPred):\n",
        "      if w != \"PADword\":\n",
        "        predvsact.append(('sentence'+str(i),words[w-1], tags[pred], tags[act]))\n",
        "  #break\n",
        "\n",
        "df_predvsact = pd.DataFrame(predvsact,columns=['sentence#','word','predicted','actual'])\n",
        "df_predvsact['wordcount'] = df_predvsact.groupby(['sentence#']).cumcount()\n",
        "\n",
        "df_testSentences = pd.DataFrame(testSentencesforDF,columns=['sentence#','word_test','tag'])\n",
        "df_testSentences['wordcount'] = df_testSentences.groupby(['sentence#']).cumcount()\n",
        "\n",
        "df_test_predvsact = pd.merge(df_testSentences,df_predvsact,how='inner',on=['sentence#','wordcount'],sort=False)\n",
        "\n",
        "df_test_predvsact = df_test_predvsact.drop(['tag','wordcount'],axis=1)\n",
        "df_test_predvsact = df_test_predvsact.rename(columns={'word':'wordconv'})\n",
        "\n",
        "df_test_predvsact.to_csv('/tmp/testdataset_withpred.csv',index=False)"
      ],
      "execution_count": null,
      "outputs": []
    },
    {
      "cell_type": "code",
      "metadata": {
        "id": "NeV5qaGGp_LK",
        "colab_type": "code",
        "colab": {
          "base_uri": "https://localhost:8080/",
          "height": 166
        },
        "outputId": "98e4367a-acf6-48f5-a99f-e89a583334a9"
      },
      "source": [
        "df_test_predvsact.head(4)"
      ],
      "execution_count": null,
      "outputs": [
        {
          "output_type": "execute_result",
          "data": {
            "text/html": [
              "<div>\n",
              "<style scoped>\n",
              "    .dataframe tbody tr th:only-of-type {\n",
              "        vertical-align: middle;\n",
              "    }\n",
              "\n",
              "    .dataframe tbody tr th {\n",
              "        vertical-align: top;\n",
              "    }\n",
              "\n",
              "    .dataframe thead th {\n",
              "        text-align: right;\n",
              "    }\n",
              "</style>\n",
              "<table border=\"1\" class=\"dataframe\">\n",
              "  <thead>\n",
              "    <tr style=\"text-align: right;\">\n",
              "      <th></th>\n",
              "      <th>sentence#</th>\n",
              "      <th>word_test</th>\n",
              "      <th>wordconv</th>\n",
              "      <th>predicted</th>\n",
              "      <th>actual</th>\n",
              "    </tr>\n",
              "  </thead>\n",
              "  <tbody>\n",
              "    <tr>\n",
              "      <th>0</th>\n",
              "      <td>sentence0</td>\n",
              "      <td>are</td>\n",
              "      <td>are</td>\n",
              "      <td>O</td>\n",
              "      <td>O</td>\n",
              "    </tr>\n",
              "    <tr>\n",
              "      <th>1</th>\n",
              "      <td>sentence0</td>\n",
              "      <td>there</td>\n",
              "      <td>there</td>\n",
              "      <td>O</td>\n",
              "      <td>O</td>\n",
              "    </tr>\n",
              "    <tr>\n",
              "      <th>2</th>\n",
              "      <td>sentence0</td>\n",
              "      <td>any</td>\n",
              "      <td>any</td>\n",
              "      <td>O</td>\n",
              "      <td>O</td>\n",
              "    </tr>\n",
              "    <tr>\n",
              "      <th>3</th>\n",
              "      <td>sentence0</td>\n",
              "      <td>good</td>\n",
              "      <td>good</td>\n",
              "      <td>O</td>\n",
              "      <td>O</td>\n",
              "    </tr>\n",
              "  </tbody>\n",
              "</table>\n",
              "</div>"
            ],
            "text/plain": [
              "   sentence# word_test wordconv predicted actual\n",
              "0  sentence0       are      are         O      O\n",
              "1  sentence0     there    there         O      O\n",
              "2  sentence0       any      any         O      O\n",
              "3  sentence0      good     good         O      O"
            ]
          },
          "metadata": {
            "tags": []
          },
          "execution_count": 61
        }
      ]
    },
    {
      "cell_type": "code",
      "metadata": {
        "id": "rju8XfYsp_LS",
        "colab_type": "code",
        "colab": {
          "base_uri": "https://localhost:8080/",
          "height": 70
        },
        "outputId": "94444301-5d50-465c-b14b-2c516f4d7932"
      },
      "source": [
        "## Prepare classification report and save it as a csv\n",
        "df_classification_report = pd.DataFrame(classification_report(df_test_predvsact['actual'],df_test_predvsact['predicted'],output_dict=True)).transpose()"
      ],
      "execution_count": null,
      "outputs": [
        {
          "output_type": "stream",
          "text": [
            "/usr/local/lib/python3.6/dist-packages/sklearn/metrics/_classification.py:1272: UndefinedMetricWarning: Precision and F-score are ill-defined and being set to 0.0 in labels with no predicted samples. Use `zero_division` parameter to control this behavior.\n",
            "  _warn_prf(average, modifier, msg_start, len(result))\n"
          ],
          "name": "stderr"
        }
      ]
    },
    {
      "cell_type": "code",
      "metadata": {
        "id": "bFd5wxlmeb_B",
        "colab_type": "code",
        "colab": {
          "base_uri": "https://localhost:8080/",
          "height": 876
        },
        "outputId": "61e58c3c-632e-4913-fd8e-d993eedbd966"
      },
      "source": [
        "df_classification_report"
      ],
      "execution_count": null,
      "outputs": [
        {
          "output_type": "execute_result",
          "data": {
            "text/html": [
              "<div>\n",
              "<style scoped>\n",
              "    .dataframe tbody tr th:only-of-type {\n",
              "        vertical-align: middle;\n",
              "    }\n",
              "\n",
              "    .dataframe tbody tr th {\n",
              "        vertical-align: top;\n",
              "    }\n",
              "\n",
              "    .dataframe thead th {\n",
              "        text-align: right;\n",
              "    }\n",
              "</style>\n",
              "<table border=\"1\" class=\"dataframe\">\n",
              "  <thead>\n",
              "    <tr style=\"text-align: right;\">\n",
              "      <th></th>\n",
              "      <th>precision</th>\n",
              "      <th>recall</th>\n",
              "      <th>f1-score</th>\n",
              "      <th>support</th>\n",
              "    </tr>\n",
              "  </thead>\n",
              "  <tbody>\n",
              "    <tr>\n",
              "      <th>B-ACTOR</th>\n",
              "      <td>0.869671</td>\n",
              "      <td>0.879310</td>\n",
              "      <td>0.874464</td>\n",
              "      <td>812.000000</td>\n",
              "    </tr>\n",
              "    <tr>\n",
              "      <th>B-CHARACTER</th>\n",
              "      <td>0.405405</td>\n",
              "      <td>0.166667</td>\n",
              "      <td>0.236220</td>\n",
              "      <td>90.000000</td>\n",
              "    </tr>\n",
              "    <tr>\n",
              "      <th>B-DIRECTOR</th>\n",
              "      <td>0.870206</td>\n",
              "      <td>0.646930</td>\n",
              "      <td>0.742138</td>\n",
              "      <td>456.000000</td>\n",
              "    </tr>\n",
              "    <tr>\n",
              "      <th>B-GENRE</th>\n",
              "      <td>0.907076</td>\n",
              "      <td>0.952551</td>\n",
              "      <td>0.929258</td>\n",
              "      <td>1117.000000</td>\n",
              "    </tr>\n",
              "    <tr>\n",
              "      <th>B-PLOT</th>\n",
              "      <td>0.649412</td>\n",
              "      <td>0.562118</td>\n",
              "      <td>0.602620</td>\n",
              "      <td>491.000000</td>\n",
              "    </tr>\n",
              "    <tr>\n",
              "      <th>B-RATING</th>\n",
              "      <td>0.971888</td>\n",
              "      <td>0.968000</td>\n",
              "      <td>0.969940</td>\n",
              "      <td>500.000000</td>\n",
              "    </tr>\n",
              "    <tr>\n",
              "      <th>B-RATINGS_AVERAGE</th>\n",
              "      <td>0.907317</td>\n",
              "      <td>0.824834</td>\n",
              "      <td>0.864111</td>\n",
              "      <td>451.000000</td>\n",
              "    </tr>\n",
              "    <tr>\n",
              "      <th>B-REVIEW</th>\n",
              "      <td>0.000000</td>\n",
              "      <td>0.000000</td>\n",
              "      <td>0.000000</td>\n",
              "      <td>56.000000</td>\n",
              "    </tr>\n",
              "    <tr>\n",
              "      <th>B-SONG</th>\n",
              "      <td>0.608696</td>\n",
              "      <td>0.259259</td>\n",
              "      <td>0.363636</td>\n",
              "      <td>54.000000</td>\n",
              "    </tr>\n",
              "    <tr>\n",
              "      <th>B-TITLE</th>\n",
              "      <td>0.569420</td>\n",
              "      <td>0.576512</td>\n",
              "      <td>0.572944</td>\n",
              "      <td>562.000000</td>\n",
              "    </tr>\n",
              "    <tr>\n",
              "      <th>B-TRAILER</th>\n",
              "      <td>0.705882</td>\n",
              "      <td>0.400000</td>\n",
              "      <td>0.510638</td>\n",
              "      <td>30.000000</td>\n",
              "    </tr>\n",
              "    <tr>\n",
              "      <th>B-YEAR</th>\n",
              "      <td>0.956958</td>\n",
              "      <td>0.926389</td>\n",
              "      <td>0.941426</td>\n",
              "      <td>720.000000</td>\n",
              "    </tr>\n",
              "    <tr>\n",
              "      <th>I-ACTOR</th>\n",
              "      <td>0.874539</td>\n",
              "      <td>0.824826</td>\n",
              "      <td>0.848955</td>\n",
              "      <td>862.000000</td>\n",
              "    </tr>\n",
              "    <tr>\n",
              "      <th>I-CHARACTER</th>\n",
              "      <td>0.647059</td>\n",
              "      <td>0.146667</td>\n",
              "      <td>0.239130</td>\n",
              "      <td>75.000000</td>\n",
              "    </tr>\n",
              "    <tr>\n",
              "      <th>I-DIRECTOR</th>\n",
              "      <td>0.913495</td>\n",
              "      <td>0.532258</td>\n",
              "      <td>0.672611</td>\n",
              "      <td>496.000000</td>\n",
              "    </tr>\n",
              "    <tr>\n",
              "      <th>I-GENRE</th>\n",
              "      <td>0.879518</td>\n",
              "      <td>0.657658</td>\n",
              "      <td>0.752577</td>\n",
              "      <td>222.000000</td>\n",
              "    </tr>\n",
              "    <tr>\n",
              "      <th>I-PLOT</th>\n",
              "      <td>0.662393</td>\n",
              "      <td>0.312500</td>\n",
              "      <td>0.424658</td>\n",
              "      <td>496.000000</td>\n",
              "    </tr>\n",
              "    <tr>\n",
              "      <th>I-RATING</th>\n",
              "      <td>0.970297</td>\n",
              "      <td>0.867257</td>\n",
              "      <td>0.915888</td>\n",
              "      <td>226.000000</td>\n",
              "    </tr>\n",
              "    <tr>\n",
              "      <th>I-RATINGS_AVERAGE</th>\n",
              "      <td>0.874036</td>\n",
              "      <td>0.843672</td>\n",
              "      <td>0.858586</td>\n",
              "      <td>403.000000</td>\n",
              "    </tr>\n",
              "    <tr>\n",
              "      <th>I-REVIEW</th>\n",
              "      <td>0.000000</td>\n",
              "      <td>0.000000</td>\n",
              "      <td>0.000000</td>\n",
              "      <td>45.000000</td>\n",
              "    </tr>\n",
              "    <tr>\n",
              "      <th>I-SONG</th>\n",
              "      <td>0.769231</td>\n",
              "      <td>0.420168</td>\n",
              "      <td>0.543478</td>\n",
              "      <td>119.000000</td>\n",
              "    </tr>\n",
              "    <tr>\n",
              "      <th>I-TITLE</th>\n",
              "      <td>0.750000</td>\n",
              "      <td>0.543224</td>\n",
              "      <td>0.630081</td>\n",
              "      <td>856.000000</td>\n",
              "    </tr>\n",
              "    <tr>\n",
              "      <th>I-TRAILER</th>\n",
              "      <td>0.000000</td>\n",
              "      <td>0.000000</td>\n",
              "      <td>0.000000</td>\n",
              "      <td>8.000000</td>\n",
              "    </tr>\n",
              "    <tr>\n",
              "      <th>I-YEAR</th>\n",
              "      <td>0.960720</td>\n",
              "      <td>0.962295</td>\n",
              "      <td>0.961507</td>\n",
              "      <td>610.000000</td>\n",
              "    </tr>\n",
              "    <tr>\n",
              "      <th>O</th>\n",
              "      <td>0.897122</td>\n",
              "      <td>0.977749</td>\n",
              "      <td>0.935702</td>\n",
              "      <td>14921.000000</td>\n",
              "    </tr>\n",
              "    <tr>\n",
              "      <th>accuracy</th>\n",
              "      <td>0.881392</td>\n",
              "      <td>0.881392</td>\n",
              "      <td>0.881392</td>\n",
              "      <td>0.881392</td>\n",
              "    </tr>\n",
              "    <tr>\n",
              "      <th>macro avg</th>\n",
              "      <td>0.704814</td>\n",
              "      <td>0.570034</td>\n",
              "      <td>0.615623</td>\n",
              "      <td>24678.000000</td>\n",
              "    </tr>\n",
              "    <tr>\n",
              "      <th>weighted avg</th>\n",
              "      <td>0.870658</td>\n",
              "      <td>0.881392</td>\n",
              "      <td>0.870382</td>\n",
              "      <td>24678.000000</td>\n",
              "    </tr>\n",
              "  </tbody>\n",
              "</table>\n",
              "</div>"
            ],
            "text/plain": [
              "                   precision    recall  f1-score       support\n",
              "B-ACTOR             0.869671  0.879310  0.874464    812.000000\n",
              "B-CHARACTER         0.405405  0.166667  0.236220     90.000000\n",
              "B-DIRECTOR          0.870206  0.646930  0.742138    456.000000\n",
              "B-GENRE             0.907076  0.952551  0.929258   1117.000000\n",
              "B-PLOT              0.649412  0.562118  0.602620    491.000000\n",
              "B-RATING            0.971888  0.968000  0.969940    500.000000\n",
              "B-RATINGS_AVERAGE   0.907317  0.824834  0.864111    451.000000\n",
              "B-REVIEW            0.000000  0.000000  0.000000     56.000000\n",
              "B-SONG              0.608696  0.259259  0.363636     54.000000\n",
              "B-TITLE             0.569420  0.576512  0.572944    562.000000\n",
              "B-TRAILER           0.705882  0.400000  0.510638     30.000000\n",
              "B-YEAR              0.956958  0.926389  0.941426    720.000000\n",
              "I-ACTOR             0.874539  0.824826  0.848955    862.000000\n",
              "I-CHARACTER         0.647059  0.146667  0.239130     75.000000\n",
              "I-DIRECTOR          0.913495  0.532258  0.672611    496.000000\n",
              "I-GENRE             0.879518  0.657658  0.752577    222.000000\n",
              "I-PLOT              0.662393  0.312500  0.424658    496.000000\n",
              "I-RATING            0.970297  0.867257  0.915888    226.000000\n",
              "I-RATINGS_AVERAGE   0.874036  0.843672  0.858586    403.000000\n",
              "I-REVIEW            0.000000  0.000000  0.000000     45.000000\n",
              "I-SONG              0.769231  0.420168  0.543478    119.000000\n",
              "I-TITLE             0.750000  0.543224  0.630081    856.000000\n",
              "I-TRAILER           0.000000  0.000000  0.000000      8.000000\n",
              "I-YEAR              0.960720  0.962295  0.961507    610.000000\n",
              "O                   0.897122  0.977749  0.935702  14921.000000\n",
              "accuracy            0.881392  0.881392  0.881392      0.881392\n",
              "macro avg           0.704814  0.570034  0.615623  24678.000000\n",
              "weighted avg        0.870658  0.881392  0.870382  24678.000000"
            ]
          },
          "metadata": {
            "tags": []
          },
          "execution_count": 63
        }
      ]
    },
    {
      "cell_type": "code",
      "metadata": {
        "id": "7LfjR7Lpp_LV",
        "colab_type": "code",
        "colab": {
          "base_uri": "https://localhost:8080/",
          "height": 34
        },
        "outputId": "e7d5dc44-5ef2-408f-9a4e-6a2367d12bc2"
      },
      "source": [
        "accuracy_score(df_test_predvsact['actual'],df_test_predvsact['predicted'])"
      ],
      "execution_count": null,
      "outputs": [
        {
          "output_type": "execute_result",
          "data": {
            "text/plain": [
              "0.8813923332522895"
            ]
          },
          "metadata": {
            "tags": []
          },
          "execution_count": 64
        }
      ]
    },
    {
      "cell_type": "code",
      "metadata": {
        "id": "Ls2pBKckZ0z9",
        "colab_type": "code",
        "colab": {}
      },
      "source": [
        ""
      ],
      "execution_count": null,
      "outputs": []
    },
    {
      "cell_type": "markdown",
      "metadata": {
        "id": "rfEW1U7-z7uL",
        "colab_type": "text"
      },
      "source": [
        "Others"
      ]
    },
    {
      "cell_type": "code",
      "metadata": {
        "id": "sB8PRWuRp_LY",
        "colab_type": "code",
        "colab": {
          "resources": {
            "http://localhost:8080/nbextensions/google.colab/files.js": {
              "data": "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",
              "ok": true,
              "headers": [
                [
                  "content-type",
                  "application/javascript"
                ]
              ],
              "status": 200,
              "status_text": ""
            }
          },
          "base_uri": "https://localhost:8080/",
          "height": 39
        },
        "outputId": "7381e99f-2446-41e4-8ef3-6051bce5a7dd"
      },
      "source": [
        "from google.colab import files\n",
        "uploaded = files.upload()"
      ],
      "execution_count": null,
      "outputs": [
        {
          "output_type": "display_data",
          "data": {
            "text/html": [
              "\n",
              "     <input type=\"file\" id=\"files-b0b7e0c5-54b6-483f-990b-0546ca727326\" name=\"files[]\" multiple disabled\n",
              "        style=\"border:none\" />\n",
              "     <output id=\"result-b0b7e0c5-54b6-483f-990b-0546ca727326\">\n",
              "      Upload widget is only available when the cell has been executed in the\n",
              "      current browser session. Please rerun this cell to enable.\n",
              "      </output>\n",
              "      <script src=\"/nbextensions/google.colab/files.js\"></script> "
            ],
            "text/plain": [
              "<IPython.core.display.HTML object>"
            ]
          },
          "metadata": {
            "tags": []
          }
        }
      ]
    },
    {
      "cell_type": "code",
      "metadata": {
        "id": "zucIXZepaehU",
        "colab_type": "code",
        "colab": {}
      },
      "source": [
        ""
      ],
      "execution_count": null,
      "outputs": []
    }
  ]
}